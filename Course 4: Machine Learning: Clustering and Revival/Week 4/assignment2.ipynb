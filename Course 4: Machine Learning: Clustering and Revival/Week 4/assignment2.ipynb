{
 "cells": [
  {
   "cell_type": "markdown",
   "metadata": {},
   "source": [
    "## Fitting a diagonal covariance Gaussian mixture model to text data\n",
    "\n",
    "In a previous assignment, we explored k-means clustering for a high-dimensional Wikipedia dataset. We can also model this data with a mixture of Gaussians, though with increasing dimension we run into two important issues associated with using a full covariance matrix for each component.\n",
    " * Computational cost becomes prohibitive in high dimensions: score calculations have complexity cubic in the number of dimensions M if the Gaussian has a full covariance matrix.\n",
    " * A model with many parameters require more data: observe that a full covariance matrix for an M-dimensional Gaussian will have M(M+1)/2 parameters to fit. With the number of parameters growing roughly as the square of the dimension, it may quickly become impossible to find a sufficient amount of data to make good inferences.\n",
    "\n",
    "Both of these issues are avoided if we require the covariance matrix of each component to be diagonal, as then it has only M parameters to fit and the score computation decomposes into M univariate score calculations. Recall from the lecture that the M-step for the full covariance is:\n",
    "\n",
    "\\begin{align*}\n",
    "\\hat{\\Sigma}_k &= \\frac{1}{N_k^{soft}} \\sum_{i=1}^N r_{ik} (x_i-\\hat{\\mu}_k)(x_i - \\hat{\\mu}_k)^T\n",
    "\\end{align*}\n",
    "\n",
    "Note that this is a square matrix with M rows and M columns, and the above equation implies that the (v, w) element is computed by\n",
    "\n",
    "\\begin{align*}\n",
    "\\hat{\\Sigma}_{k, v, w} &= \\frac{1}{N_k^{soft}} \\sum_{i=1}^N r_{ik} (x_{iv}-\\hat{\\mu}_{kv})(x_{iw} - \\hat{\\mu}_{kw})\n",
    "\\end{align*}\n",
    "\n",
    "When we assume that this is a diagonal matrix, then non-diagonal elements are assumed to be zero and we only need to compute each of the M elements along the diagonal independently using the following equation. \n",
    "\n",
    "\\begin{align*}\n",
    "\\hat{\\sigma}^2_{k, v} &= \\hat{\\Sigma}_{k, v, v}  \\\\\n",
    "&= \\frac{1}{N_k^{soft}} \\sum_{i=1}^N r_{ik} (x_{iv}-\\hat{\\mu}_{kv})^2\n",
    "\\end{align*}\n",
    "\n",
    "In this section, we will use an EM implementation to fit a Gaussian mixture model with **diagonal** covariances to a subset of the Wikipedia dataset. The implementation uses the above equation to compute each variance term. \n",
    "\n",
    "We'll begin by importing the dataset and coming up with a useful representation for each article. After running our algorithm on the data, we will explore the output to see whether we can give a meaningful interpretation to the fitted parameters in our model."
   ]
  },
  {
   "cell_type": "markdown",
   "metadata": {},
   "source": [
    "**Note to Amazon EC2 users**: To conserve memory, make sure to stop all the other notebooks before running this notebook."
   ]
  },
  {
   "cell_type": "markdown",
   "metadata": {},
   "source": [
    "## Import necessary packages"
   ]
  },
  {
   "cell_type": "code",
   "execution_count": 2,
   "metadata": {},
   "outputs": [],
   "source": [
    "from __future__ import print_function # to conform python 2.x print to python 3.x\n",
    "import turicreate"
   ]
  },
  {
   "cell_type": "markdown",
   "metadata": {},
   "source": [
    "We also have a Python file containing implementations for several functions that will be used during the course of this assignment."
   ]
  },
  {
   "cell_type": "code",
   "execution_count": 3,
   "metadata": {},
   "outputs": [],
   "source": [
    "from em_utilities import *"
   ]
  },
  {
   "cell_type": "markdown",
   "metadata": {},
   "source": [
    "## Load Wikipedia data and extract TF-IDF features"
   ]
  },
  {
   "cell_type": "markdown",
   "metadata": {},
   "source": [
    "Load Wikipedia data and transform each of the first 5000 document into a TF-IDF representation."
   ]
  },
  {
   "cell_type": "code",
   "execution_count": 4,
   "metadata": {},
   "outputs": [],
   "source": [
    "wiki = turicreate.SFrame('people_wiki.sframe/').head(5000)\n",
    "wiki['tf_idf'] = turicreate.text_analytics.tf_idf(wiki['text'])"
   ]
  },
  {
   "cell_type": "markdown",
   "metadata": {},
   "source": [
    "Using a utility we provide, we will create a sparse matrix representation of the documents. This is the same utility function you used during the previous assignment on k-means with text data."
   ]
  },
  {
   "cell_type": "code",
   "execution_count": 5,
   "metadata": {},
   "outputs": [],
   "source": [
    "wiki = wiki.add_row_number()\n",
    "tf_idf, map_word_to_index = sframe_to_scipy(wiki, 'tf_idf')\n",
    "map_index_to_word = dict([[map_word_to_index[i], i] for i in map_word_to_index.keys()])"
   ]
  },
  {
   "cell_type": "markdown",
   "metadata": {},
   "source": [
    "As in the previous assignment, we will normalize each document's TF-IDF vector to be a unit vector. "
   ]
  },
  {
   "cell_type": "code",
   "execution_count": 6,
   "metadata": {},
   "outputs": [
    {
     "output_type": "stream",
     "name": "stdout",
     "text": "CPU times: user 14.5 ms, sys: 4.17 ms, total: 18.7 ms\nWall time: 15.5 ms\n"
    }
   ],
   "source": [
    "%%time\n",
    "tf_idf = normalize(tf_idf)"
   ]
  },
  {
   "cell_type": "markdown",
   "metadata": {},
   "source": [
    "We can check that the length (Euclidean norm) of each row is now 1.0, as expected."
   ]
  },
  {
   "cell_type": "code",
   "execution_count": 7,
   "metadata": {
    "scrolled": true
   },
   "outputs": [
    {
     "output_type": "stream",
     "name": "stdout",
     "text": "1.0\n1.0\n0.9999999999999997\n1.0000000000000004\n0.9999999999999999\n"
    }
   ],
   "source": [
    "for i in range(5):\n",
    "    doc = tf_idf[i]\n",
    "    print(np.linalg.norm(doc.todense()))"
   ]
  },
  {
   "cell_type": "markdown",
   "metadata": {},
   "source": [
    "## EM in high dimensions\n",
    "\n",
    "EM for high-dimensional data requires some special treatment:\n",
    " * E step and M step must be vectorized as much as possible, as explicit loops are dreadfully slow in Python.\n",
    " * All operations must be cast in terms of sparse matrix operations, to take advantage of computational savings enabled by sparsity of data.\n",
    " * Initially, some words may be entirely absent from a cluster, causing the M step to produce zero mean and variance for those words.  This means any data point with one of those words will have 0 probability of being assigned to that cluster since the cluster allows for no variability (0 variance) around that count being 0 (0 mean). Since there is a small chance for those words to later appear in the cluster, we instead assign a small positive variance (~1e-10). Doing so also prevents numerical overflow.\n",
    " \n",
    "We provide the complete implementation for you in the file `em_utilities.py`. For those who are interested, you can read through the code to see how the sparse matrix implementation differs from the previous assignment. \n",
    "\n",
    "You are expected to answer some quiz questions using the results of clustering."
   ]
  },
  {
   "cell_type": "markdown",
   "metadata": {},
   "source": [
    "**Initializing mean parameters using k-means**\n",
    "\n",
    "Recall from the lectures that EM for Gaussian mixtures is very sensitive to the choice of initial means. With a bad initial set of means, EM may produce clusters that span a large area and are mostly overlapping. To eliminate such bad outcomes, we first produce a suitable set of initial means by using the cluster centers from running k-means.  That is, we first run k-means and then take the final set of means from the converged solution as the initial means in our EM algorithm."
   ]
  },
  {
   "cell_type": "code",
   "execution_count": 8,
   "metadata": {},
   "outputs": [
    {
     "output_type": "stream",
     "name": "stdout",
     "text": "CPU times: user 4min 14s, sys: 1min 12s, total: 5min 27s\nWall time: 3min 12s\n"
    }
   ],
   "source": [
    "%%time \n",
    "\n",
    "from sklearn.cluster import KMeans\n",
    "\n",
    "np.random.seed(5)\n",
    "num_clusters = 25\n",
    "\n",
    "# Use scikit-learn's k-means to simplify workflow\n",
    "#kmeans_model = KMeans(n_clusters=num_clusters, n_init=5, max_iter=400, random_state=1, n_jobs=-1) # uncomment to use parallelism -- may break on your installation\n",
    "kmeans_model = KMeans(n_clusters=num_clusters, n_init=5, max_iter=400, random_state=1, n_jobs=1)\n",
    "kmeans_model.fit(tf_idf)\n",
    "centroids, cluster_assignment = kmeans_model.cluster_centers_, kmeans_model.labels_\n",
    "\n",
    "means = [centroid for centroid in centroids]"
   ]
  },
  {
   "cell_type": "markdown",
   "metadata": {},
   "source": [
    "**Initializing cluster weights**\n",
    "\n",
    "We will initialize each cluster weight to be the proportion of documents assigned to that cluster by k-means above."
   ]
  },
  {
   "cell_type": "code",
   "execution_count": 9,
   "metadata": {},
   "outputs": [
    {
     "output_type": "stream",
     "name": "stdout",
     "text": "CPU times: user 674 ms, sys: 316 ms, total: 990 ms\nWall time: 369 ms\n"
    }
   ],
   "source": [
    "%%time \n",
    "\n",
    "num_docs = tf_idf.shape[0]\n",
    "weights = []\n",
    "for i in range(num_clusters):\n",
    "    # Compute the number of data points assigned to cluster i:\n",
    "    num_assigned = sum(1 if x==i else 0 for x in cluster_assignment) # YOUR CODE HERE\n",
    "    w = float(num_assigned) / num_docs\n",
    "    weights.append(w)"
   ]
  },
  {
   "cell_type": "markdown",
   "metadata": {},
   "source": [
    "**Initializing covariances**\n",
    "\n",
    "To initialize our covariance parameters, we compute $\\hat{\\sigma}_{k, j}^2 = \\sum_{i=1}^{N}(x_{i,j} - \\hat{\\mu}_{k, j})^2$ for each feature $j$.  For features with really tiny variances, we assign 1e-8 instead to prevent numerical instability. We do this computation in a vectorized fashion in the following code block."
   ]
  },
  {
   "cell_type": "code",
   "execution_count": 10,
   "metadata": {},
   "outputs": [
    {
     "output_type": "execute_result",
     "data": {
      "text/plain": "[0.0512,\n 0.0256,\n 0.0318,\n 0.0132,\n 0.01,\n 0.0212,\n 0.0782,\n 0.0282,\n 0.1676,\n 0.017,\n 0.0196,\n 0.0526,\n 0.0266,\n 0.047,\n 0.048,\n 0.083,\n 0.0168,\n 0.0256,\n 0.0166,\n 0.0508,\n 0.0182,\n 0.0338,\n 0.014,\n 0.0688,\n 0.0346]"
     },
     "metadata": {},
     "execution_count": 10
    }
   ],
   "source": [
    "weights"
   ]
  },
  {
   "cell_type": "code",
   "execution_count": 11,
   "metadata": {},
   "outputs": [],
   "source": [
    "covs = []\n",
    "for i in range(num_clusters):\n",
    "    member_rows = tf_idf[cluster_assignment==i]\n",
    "    cov = (member_rows.multiply(member_rows) - 2*member_rows.dot(diag(means[i]))).sum(axis=0).A1 / member_rows.shape[0] \\\n",
    "          + means[i]**2\n",
    "    cov[cov < 1e-8] = 1e-8\n",
    "    covs.append(cov)"
   ]
  },
  {
   "cell_type": "markdown",
   "metadata": {},
   "source": [
    "**Running EM**\n",
    "\n",
    "Now that we have initialized all of our parameters, run EM."
   ]
  },
  {
   "cell_type": "code",
   "execution_count": 12,
   "metadata": {
    "scrolled": true
   },
   "outputs": [],
   "source": [
    "out = EM_for_high_dimension(tf_idf, means, covs, weights, cov_smoothing=1e-10)"
   ]
  },
  {
   "cell_type": "code",
   "execution_count": 13,
   "metadata": {},
   "outputs": [
    {
     "output_type": "execute_result",
     "data": {
      "text/plain": "[3855847476.7012835, 4844053202.46348, 4844053202.46348]"
     },
     "metadata": {},
     "execution_count": 13
    }
   ],
   "source": [
    "out['loglik']"
   ]
  },
  {
   "cell_type": "code",
   "execution_count": 14,
   "metadata": {},
   "outputs": [
    {
     "output_type": "execute_result",
     "data": {
      "text/plain": "{'weights': array([0.0512, 0.0256, 0.0318, 0.0132, 0.01  , 0.0212, 0.0782, 0.0282,\n        0.1676, 0.017 , 0.0196, 0.0526, 0.0266, 0.047 , 0.048 , 0.083 ,\n        0.0168, 0.0256, 0.0166, 0.0508, 0.0182, 0.0338, 0.014 , 0.0688,\n        0.0346]),\n 'means': [array([0., 0., 0., ..., 0., 0., 0.]),\n  array([0., 0., 0., ..., 0., 0., 0.]),\n  array([0., 0., 0., ..., 0., 0., 0.]),\n  array([0.00126664, 0.        , 0.        , ..., 0.        , 0.        ,\n         0.        ]),\n  array([0., 0., 0., ..., 0., 0., 0.]),\n  array([0., 0., 0., ..., 0., 0., 0.]),\n  array([0., 0., 0., ..., 0., 0., 0.]),\n  array([0.        , 0.        , 0.00197842, ..., 0.        , 0.        ,\n         0.        ]),\n  array([5.55293513e-05, 0.00000000e+00, 9.88706792e-05, ...,\n         0.00000000e+00, 0.00000000e+00, 1.09179211e-04]),\n  array([0., 0., 0., ..., 0., 0., 0.]),\n  array([0.00171165, 0.00074829, 0.        , ..., 0.        , 0.        ,\n         0.        ]),\n  array([9.53175257e-05, 0.00000000e+00, 0.00000000e+00, ...,\n         4.10222986e-04, 0.00000000e+00, 0.00000000e+00]),\n  array([0., 0., 0., ..., 0., 0., 0.]),\n  array([0., 0., 0., ..., 0., 0., 0.]),\n  array([0.00015951, 0.        , 0.        , ..., 0.        , 0.        ,\n         0.        ]),\n  array([0.        , 0.        , 0.        , ..., 0.        , 0.00195838,\n         0.        ]),\n  array([0., 0., 0., ..., 0., 0., 0.]),\n  array([0., 0., 0., ..., 0., 0., 0.]),\n  array([0., 0., 0., ..., 0., 0., 0.]),\n  array([0.00028686, 0.00080293, 0.00028153, ..., 0.        , 0.        ,\n         0.        ]),\n  array([0., 0., 0., ..., 0., 0., 0.]),\n  array([0.        , 0.        , 0.00017126, ..., 0.        , 0.        ,\n         0.        ]),\n  array([0.00147056, 0.        , 0.        , ..., 0.        , 0.        ,\n         0.        ]),\n  array([0.00018185, 0.        , 0.        , ..., 0.        , 0.        ,\n         0.        ]),\n  array([0.00124765, 0.00150853, 0.00057685, ..., 0.        , 0.        ,\n         0.        ])],\n 'covs': [array([1.e-10, 1.e-10, 1.e-10, ..., 1.e-10, 1.e-10, 1.e-10]),\n  array([1.e-10, 1.e-10, 1.e-10, ..., 1.e-10, 1.e-10, 1.e-10]),\n  array([1.e-10, 1.e-10, 1.e-10, ..., 1.e-10, 1.e-10, 1.e-10]),\n  array([1.04284188e-04, 1.00000000e-10, 1.00000000e-10, ...,\n         1.00000000e-10, 1.00000000e-10, 1.00000000e-10]),\n  array([1.e-10, 1.e-10, 1.e-10, ..., 1.e-10, 1.e-10, 1.e-10]),\n  array([1.e-10, 1.e-10, 1.e-10, ..., 1.e-10, 1.e-10, 1.e-10]),\n  array([1.e-10, 1.e-10, 1.e-10, ..., 1.e-10, 1.e-10, 1.e-10]),\n  array([1.00000000e-10, 1.00000000e-10, 3.58414989e-04, ...,\n         1.00000000e-10, 1.00000000e-10, 1.00000000e-10]),\n  array([2.58099692e-06, 1.00000000e-10, 8.18211918e-06, ...,\n         1.00000000e-10, 1.00000000e-10, 9.97722385e-06]),\n  array([1.e-10, 1.e-10, 1.e-10, ..., 1.e-10, 1.e-10, 1.e-10]),\n  array([1.10190563e-04, 5.43143509e-05, 1.00000000e-10, ...,\n         1.00000000e-10, 1.00000000e-10, 1.00000000e-10]),\n  array([2.38048284e-06, 1.00000000e-10, 1.00000000e-10, ...,\n         4.40902193e-05, 1.00000000e-10, 1.00000000e-10]),\n  array([1.e-10, 1.e-10, 1.e-10, ..., 1.e-10, 1.e-10, 1.e-10]),\n  array([1.e-10, 1.e-10, 1.e-10, ..., 1.e-10, 1.e-10, 1.e-10]),\n  array([6.0807024e-06, 1.0000000e-10, 1.0000000e-10, ..., 1.0000000e-10,\n         1.0000000e-10, 1.0000000e-10]),\n  array([1.00000000e-10, 1.00000000e-10, 1.00000000e-10, ...,\n         1.00000000e-10, 7.78191062e-04, 1.00000000e-10]),\n  array([1.e-10, 1.e-10, 1.e-10, ..., 1.e-10, 1.e-10, 1.e-10]),\n  array([1.e-10, 1.e-10, 1.e-10, ..., 1.e-10, 1.e-10, 1.e-10]),\n  array([1.e-10, 1.e-10, 1.e-10, ..., 1.e-10, 1.e-10, 1.e-10]),\n  array([2.08194810e-05, 5.95433836e-05, 2.00532786e-05, ...,\n         1.00000000e-10, 1.00000000e-10, 1.00000000e-10]),\n  array([1.e-10, 1.e-10, 1.e-10, ..., 1.e-10, 1.e-10, 1.e-10]),\n  array([1.00000000e-10, 1.00000000e-10, 4.92728841e-06, ...,\n         1.00000000e-10, 1.00000000e-10, 1.00000000e-10]),\n  array([1.49215577e-04, 1.00000000e-10, 1.00000000e-10, ...,\n         1.00000000e-10, 1.00000000e-10, 1.00000000e-10]),\n  array([1.13424245e-05, 1.00000000e-10, 1.00000000e-10, ...,\n         1.00000000e-10, 1.00000000e-10, 1.00000000e-10]),\n  array([9.17539061e-05, 1.04899321e-04, 5.72335337e-05, ...,\n         1.00000000e-10, 1.00000000e-10, 1.00000000e-10])],\n 'loglik': [3855847476.7012835, 4844053202.46348, 4844053202.46348],\n 'resp': array([[0., 0., 0., ..., 1., 0., 0.],\n        [0., 0., 0., ..., 0., 1., 0.],\n        [0., 0., 0., ..., 0., 0., 0.],\n        ...,\n        [0., 0., 1., ..., 0., 0., 0.],\n        [0., 0., 1., ..., 0., 0., 0.],\n        [0., 0., 0., ..., 0., 0., 0.]])}"
     },
     "metadata": {},
     "execution_count": 14
    }
   ],
   "source": [
    "out"
   ]
  },
  {
   "cell_type": "markdown",
   "metadata": {},
   "source": [
    "## Interpret clustering results"
   ]
  },
  {
   "cell_type": "markdown",
   "metadata": {},
   "source": [
    "In contrast to k-means, EM is able to explicitly model clusters of varying sizes and proportions. The relative magnitude of variances in the word dimensions tell us much about the nature of the clusters.\n",
    "\n",
    "Write yourself a cluster visualizer as follows.  Examining each cluster's mean vector, list the 5 words with the largest mean values (5 most common words in the cluster). For each word, also include the associated variance parameter (diagonal element of the covariance matrix). \n",
    "\n",
    "A sample output may be:\n",
    "```\n",
    "==========================================================\n",
    "Cluster 0: Largest mean parameters in cluster \n",
    "\n",
    "Word        Mean        Variance    \n",
    "football    1.08e-01    8.64e-03\n",
    "season      5.80e-02    2.93e-03\n",
    "club        4.48e-02    1.99e-03\n",
    "league      3.94e-02    1.08e-03\n",
    "played      3.83e-02    8.45e-04\n",
    "...\n",
    "```"
   ]
  },
  {
   "cell_type": "code",
   "execution_count": 15,
   "metadata": {},
   "outputs": [
    {
     "output_type": "execute_result",
     "data": {
      "text/plain": "<5000x100282 sparse matrix of type '<class 'numpy.float64'>'\n\twith 881415 stored elements in Compressed Sparse Row format>"
     },
     "metadata": {},
     "execution_count": 15
    }
   ],
   "source": [
    "tf_idf"
   ]
  },
  {
   "cell_type": "code",
   "execution_count": 16,
   "metadata": {},
   "outputs": [],
   "source": [
    "# Fill in the blanks\n",
    "def visualize_EM_clusters(tf_idf, means, covs, map_index_to_word):\n",
    "    print('')\n",
    "    print('==========================================================')\n",
    "    \n",
    "    num_clusters = len(means)\n",
    "    for c in range(num_clusters):\n",
    "        print('Cluster {0:d}: Largest mean parameters in cluster '.format(c))\n",
    "        print('\\n{0: <12}{1: <12}{2: <12}'.format('Word', 'Mean', 'Variance'))\n",
    "        \n",
    "        # The k'th element of sorted_word_ids should be the index of the word \n",
    "        # that has the k'th-largest value in the cluster mean. Hint: Use np.argsort().\n",
    "        sorted_word_ids = np.argsort(means[c])[-5:-1] # YOUR CODE HERE\n",
    "\n",
    "        for i in sorted_word_ids[:5]:\n",
    "            print('{0: <12}{1:<10.2e}{2:10.2e}'.format(map_index_to_word[i], \n",
    "                                                       means[c][i],\n",
    "                                                       covs[c][i]))\n",
    "        print('\\n==========================================================')"
   ]
  },
  {
   "cell_type": "code",
   "execution_count": 17,
   "metadata": {},
   "outputs": [
    {
     "output_type": "stream",
     "name": "stdout",
     "text": "\n==========================================================\nCluster 0: Largest mean parameters in cluster \n\nWord        Mean        Variance    \nelected     2.91e-02    8.95e-04\nliberal     2.93e-02    4.55e-03\nparty       5.89e-02    2.61e-03\nelection    5.89e-02    3.21e-03\n\n==========================================================\nCluster 1: Largest mean parameters in cluster \n\nWord        Mean        Variance    \ndirected    3.39e-02    2.22e-03\nfeature     3.69e-02    1.81e-03\nfestival    4.66e-02    3.60e-03\nfilms       5.50e-02    2.97e-03\n\n==========================================================\nCluster 2: Largest mean parameters in cluster \n\nWord        Mean        Variance    \ndesign      3.20e-02    4.59e-03\nartist      3.61e-02    1.44e-03\ngallery     3.65e-02    3.40e-03\nmuseum      5.62e-02    7.27e-03\n\n==========================================================\nCluster 3: Largest mean parameters in cluster \n\nWord        Mean        Variance    \nteam        4.68e-02    1.30e-03\ncoach       5.57e-02    5.91e-03\npoints      6.25e-02    5.92e-03\nnba         1.01e-01    1.22e-02\n\n==========================================================\nCluster 4: Largest mean parameters in cluster \n\nWord        Mean        Variance    \nleague      4.31e-02    1.53e-03\nseason      5.05e-02    2.52e-03\nice         6.40e-02    2.97e-03\nnhl         1.56e-01    1.64e-02\n\n==========================================================\nCluster 5: Largest mean parameters in cluster \n\nWord        Mean        Variance    \ndemocratic  4.46e-02    3.02e-03\ndistrict    4.60e-02    2.37e-03\nhouse       4.64e-02    2.41e-03\nsenate      5.41e-02    6.28e-03\n\n==========================================================\nCluster 6: Largest mean parameters in cluster \n\nWord        Mean        Variance    \nwomens      1.21e-02    1.46e-03\nwomen       1.43e-02    1.36e-03\nmiss        2.22e-02    7.76e-03\nher         1.00e-01    3.14e-03\n\n==========================================================\nCluster 7: Largest mean parameters in cluster \n\nWord        Mean        Variance    \nshe         4.18e-02    5.99e-03\nmedal       4.28e-02    2.44e-03\nolympics    4.69e-02    2.59e-03\nm           4.70e-02    7.58e-03\n\n==========================================================\nCluster 8: Largest mean parameters in cluster \n\nWord        Mean        Variance    \nhe          1.04e-02    6.05e-05\nnovel       1.07e-02    1.43e-03\nthat        1.10e-02    1.73e-04\npublished   1.23e-02    6.16e-04\n\n==========================================================\nCluster 9: Largest mean parameters in cluster \n\nWord        Mean        Variance    \ndrama       5.03e-02    6.40e-03\nfilm        5.98e-02    3.44e-03\nactress     7.65e-02    4.29e-03\nher         8.99e-02    2.74e-03\n\n==========================================================\nCluster 10: Largest mean parameters in cluster \n\nWord        Mean        Variance    \nleague      3.07e-02    2.01e-03\ncoach       3.09e-02    4.45e-03\nteam        4.13e-02    2.15e-03\nchess       4.52e-02    1.66e-02\n\n==========================================================\nCluster 11: Largest mean parameters in cluster \n\nWord        Mean        Variance    \nexecutive   2.15e-02    1.23e-03\nserved      2.24e-02    6.99e-04\ncommittee   2.34e-02    2.38e-03\nchairman    2.44e-02    1.97e-03\n\n==========================================================\nCluster 12: Largest mean parameters in cluster \n\nWord        Mean        Variance    \nchinese     3.12e-02    5.33e-03\nkong        3.50e-02    8.64e-03\nhong        3.78e-02    9.92e-03\njazz        6.07e-02    1.14e-02\n\n==========================================================\nCluster 13: Largest mean parameters in cluster \n\nWord        Mean        Variance    \nstudies     2.41e-02    1.95e-03\nprofessor   2.74e-02    1.08e-03\nphilosophy  2.86e-02    5.35e-03\nhistory     3.38e-02    2.81e-03\n\n==========================================================\nCluster 14: Largest mean parameters in cluster \n\nWord        Mean        Variance    \ncomedy      2.86e-02    3.91e-03\nfilm        2.93e-02    1.16e-03\ntelevision  3.21e-02    1.67e-03\nactor       3.56e-02    2.91e-03\n\n==========================================================\nCluster 15: Largest mean parameters in cluster \n\nWord        Mean        Variance    \nsong        2.50e-02    1.81e-03\nreleased    3.13e-02    1.11e-03\nmusic       4.18e-02    1.96e-03\nband        5.35e-02    4.21e-03\n\n==========================================================\nCluster 16: Largest mean parameters in cluster \n\nWord        Mean        Variance    \nformula     6.06e-02    1.31e-02\nchampionship6.27e-02    4.54e-03\nracing      8.45e-02    8.26e-03\npga         1.08e-01    2.65e-02\n\n==========================================================\nCluster 17: Largest mean parameters in cluster \n\nWord        Mean        Variance    \nchef        3.27e-02    1.18e-02\nbbc         3.63e-02    7.41e-03\nshow        3.75e-02    2.56e-03\nradio       5.18e-02    4.62e-03\n\n==========================================================\nCluster 18: Largest mean parameters in cluster \n\nWord        Mean        Variance    \nquarterback 4.02e-02    7.16e-03\ncoach       6.74e-02    7.85e-03\nnfl         6.98e-02    9.15e-03\nyards       7.37e-02    1.72e-02\n\n==========================================================\nCluster 19: Largest mean parameters in cluster \n\nWord        Mean        Variance    \ncup         4.22e-02    2.46e-03\nrugby       4.35e-02    8.18e-03\nseason      4.77e-02    2.30e-03\nclub        5.04e-02    2.64e-03\n\n==========================================================\nCluster 20: Largest mean parameters in cluster \n\nWord        Mean        Variance    \nphilharmonic4.96e-02    3.27e-03\nconductor   8.16e-02    1.01e-02\nsymphony    8.70e-02    1.08e-02\nmusic       1.23e-01    6.15e-03\n\n==========================================================\nCluster 21: Largest mean parameters in cluster \n\nWord        Mean        Variance    \ndistrict    3.72e-02    4.20e-03\nattorney    3.74e-02    4.30e-03\njudge       4.59e-02    4.44e-03\ncourt       6.84e-02    5.24e-03\n\n==========================================================\nCluster 22: Largest mean parameters in cluster \n\nWord        Mean        Variance    \nseason      5.58e-02    1.83e-03\nclub        5.93e-02    1.76e-03\naustralian  7.91e-02    1.58e-03\nafl         9.58e-02    1.31e-02\n\n==========================================================\nCluster 23: Largest mean parameters in cluster \n\nWord        Mean        Variance    \nphysics     2.61e-02    5.43e-03\nprofessor   3.20e-02    1.26e-03\nuniversity  3.34e-02    7.14e-04\nscience     3.50e-02    2.95e-03\n\n==========================================================\nCluster 24: Largest mean parameters in cluster \n\nWord        Mean        Variance    \nsox         4.55e-02    6.28e-03\ngames       4.66e-02    1.93e-03\nmajor       5.09e-02    1.19e-03\nleague      1.03e-01    3.63e-03\n\n==========================================================\n"
    }
   ],
   "source": [
    "'''By EM'''\n",
    "visualize_EM_clusters(tf_idf, out['means'], out['covs'], map_index_to_word)"
   ]
  },
  {
   "cell_type": "markdown",
   "metadata": {},
   "source": [
    "**Quiz Question**. Select all the topics that have a cluster in the model created above. [multiple choice]\n",
    "\n",
    "- Baseball\n",
    "- Basketball\n",
    "- Soccer/Football\n",
    "- Music\n",
    "- Politics\n",
    "- Law\n",
    "- Finance"
   ]
  },
  {
   "cell_type": "markdown",
   "metadata": {},
   "source": [
    "## Comparing to random initialization"
   ]
  },
  {
   "cell_type": "markdown",
   "metadata": {},
   "source": [
    "Create variables for randomly initializing the EM algorithm. Complete the following code block."
   ]
  },
  {
   "cell_type": "code",
   "execution_count": 18,
   "metadata": {},
   "outputs": [],
   "source": [
    "np.random.seed(5) # See the note below to see why we set seed=5.\n",
    "num_clusters = len(means)\n",
    "num_docs, num_words = tf_idf.shape\n",
    "\n",
    "random_means = []\n",
    "random_covs = []\n",
    "random_weights = []\n",
    "\n",
    "for k in range(num_clusters):\n",
    "    \n",
    "    # Create a numpy array of length num_words with random normally distributed values.\n",
    "    # Use the standard univariate normal distribution (mean 0, variance 1).\n",
    "    # YOUR CODE HERE\n",
    "    mean = np.random.normal(0,1,num_words)\n",
    "    \n",
    "    # Create a numpy array of length num_words with random values uniformly distributed between 1 and 5.\n",
    "    # YOUR CODE HERE\n",
    "    cov = np.random.uniform(1,5,num_words)\n",
    "\n",
    "    # Initially give each cluster equal weight.\n",
    "    # YOUR CODE HERE\n",
    "    weight = 1.0/num_words\n",
    "    \n",
    "    random_means.append(mean)\n",
    "    random_covs.append(cov)\n",
    "    random_weights.append(weight)"
   ]
  },
  {
   "cell_type": "markdown",
   "metadata": {},
   "source": [
    "**Quiz Question**: Try fitting EM with the random initial parameters you created above. (Use `cov_smoothing=1e-5`.) Store the result to `out_random_init`. What is the final loglikelihood that the algorithm converges to?"
   ]
  },
  {
   "cell_type": "code",
   "execution_count": 19,
   "metadata": {},
   "outputs": [],
   "source": [
    "out_random_init=EM_for_high_dimension(tf_idf,random_means,random_covs,random_weights,cov_smoothing=1e-5)"
   ]
  },
  {
   "cell_type": "markdown",
   "metadata": {},
   "source": [
    "**Quiz Question:** Is the final loglikelihood larger or smaller than the final loglikelihood we obtained above when initializing EM with the results from running k-means?"
   ]
  },
  {
   "cell_type": "code",
   "execution_count": 20,
   "metadata": {},
   "outputs": [
    {
     "output_type": "execute_result",
     "data": {
      "text/plain": "[-764127513.4171147,\n 2282599968.73394,\n 2362197958.6081905,\n 2362457265.2184424,\n 2362457265.2187605,\n 2362457265.2187605]"
     },
     "metadata": {},
     "execution_count": 20
    }
   ],
   "source": [
    "out_random_init['loglik']"
   ]
  },
  {
   "cell_type": "code",
   "execution_count": 21,
   "metadata": {},
   "outputs": [
    {
     "output_type": "execute_result",
     "data": {
      "text/plain": "[3855847476.7012835, 4844053202.46348, 4844053202.46348]"
     },
     "metadata": {},
     "execution_count": 21
    }
   ],
   "source": [
    "out['loglik']"
   ]
  },
  {
   "cell_type": "markdown",
   "metadata": {},
   "source": [
    "**Quiz Question**: For the above model, `out_random_init`, use the `visualize_EM_clusters` method you created above. Are the clusters more or less interpretable than the ones found after initializing using k-means?"
   ]
  },
  {
   "cell_type": "code",
   "execution_count": 22,
   "metadata": {},
   "outputs": [
    {
     "output_type": "stream",
     "name": "stdout",
     "text": "\n==========================================================\nCluster 0: Largest mean parameters in cluster \n\nWord        Mean        Variance    \nmellor      4.01e+00    3.40e+00\nsurly       4.03e+00    1.49e+00\nsalpaussel  4.08e+00    4.06e+00\nmonithe     4.08e+00    1.97e+00\n\n==========================================================\nCluster 1: Largest mean parameters in cluster \n\nWord        Mean        Variance    \ncalendar    3.95e+00    2.64e+00\nshutouts    4.00e+00    3.64e+00\nmarinella   4.01e+00    1.07e+00\nbull        4.09e+00    2.28e+00\n\n==========================================================\nCluster 2: Largest mean parameters in cluster \n\nWord        Mean        Variance    \nwsis        3.92e+00    1.37e+00\njemima      3.93e+00    4.48e+00\nmatteo      3.95e+00    2.46e+00\nslap        4.05e+00    3.55e+00\n\n==========================================================\nCluster 3: Largest mean parameters in cluster \n\nWord        Mean        Variance    \nrichs       3.88e+00    4.93e+00\nrazuvaev    3.96e+00    4.22e+00\nrack        3.98e+00    4.22e+00\nfrassinelli 3.99e+00    1.23e+00\n\n==========================================================\nCluster 4: Largest mean parameters in cluster \n\nWord        Mean        Variance    \nlliw        3.86e+00    2.68e+00\nashton      3.93e+00    4.09e+00\nmanningmanning4.03e+00    4.49e+00\n45sas       4.10e+00    2.24e+00\n\n==========================================================\nCluster 5: Largest mean parameters in cluster \n\nWord        Mean        Variance    \nthicker     4.02e+00    4.74e+00\nissuein     4.02e+00    2.19e+00\nsimultaneity4.04e+00    3.50e+00\nallunion    4.06e+00    4.26e+00\n\n==========================================================\nCluster 6: Largest mean parameters in cluster \n\nWord        Mean        Variance    \nheroics     4.01e+00    3.34e+00\nbanishment  4.07e+00    1.93e+00\nleahey      4.17e+00    4.84e+00\nbook1995    4.77e+00    4.83e+00\n\n==========================================================\nCluster 7: Largest mean parameters in cluster \n\nWord        Mean        Variance    \nf36         3.75e+00    1.96e+00\nsanskrit    3.80e+00    3.94e+00\nckfm        3.87e+00    3.09e+00\nmovieludlow 4.01e+00    3.46e+00\n\n==========================================================\nCluster 8: Largest mean parameters in cluster \n\nWord        Mean        Variance    \nrunningin   4.13e+00    2.06e+00\nmadoka      4.16e+00    3.98e+00\npolicypaul  4.19e+00    1.95e+00\nkarzais     4.34e+00    1.62e+00\n\n==========================================================\nCluster 9: Largest mean parameters in cluster \n\nWord        Mean        Variance    \nkreiterforonda3.89e+00    3.75e+00\ncolbon      3.92e+00    4.72e+00\n57th        3.93e+00    2.19e+00\nervin       4.03e+00    1.86e+00\n\n==========================================================\nCluster 10: Largest mean parameters in cluster \n\nWord        Mean        Variance    \n1992hegerfors3.88e+00    1.30e+00\nware        3.92e+00    4.00e+00\ncricketer   3.92e+00    1.95e+00\nviswanatha  4.17e+00    2.74e+00\n\n==========================================================\nCluster 11: Largest mean parameters in cluster \n\nWord        Mean        Variance    \nbishops     4.06e+00    3.39e+00\nfireworks   4.08e+00    3.15e+00\nthinning    4.20e+00    3.42e+00\ndiffusion   4.22e+00    4.22e+00\n\n==========================================================\nCluster 12: Largest mean parameters in cluster \n\nWord        Mean        Variance    \nmastroiannis3.96e+00    4.13e+00\nloos        3.98e+00    3.97e+00\nawarded     4.08e+00    4.35e+00\nmembergrayna4.21e+00    3.86e+00\n\n==========================================================\nCluster 13: Largest mean parameters in cluster \n\nWord        Mean        Variance    \ngijon       3.84e+00    2.75e+00\ntempus      3.84e+00    1.89e+00\ndaughtersshe4.09e+00    4.85e+00\nboric       4.17e+00    1.98e+00\n\n==========================================================\nCluster 14: Largest mean parameters in cluster \n\nWord        Mean        Variance    \nstartedin   3.66e+00    2.84e+00\nshauna      3.95e+00    4.39e+00\n84th        3.98e+00    1.28e+00\nerzsbet     4.02e+00    4.74e+00\n\n==========================================================\nCluster 15: Largest mean parameters in cluster \n\nWord        Mean        Variance    \n19992001in  3.88e+00    1.16e+00\nkeira       4.03e+00    2.89e+00\neisenhower  4.19e+00    3.43e+00\nrigo        4.29e+00    3.11e+00\n\n==========================================================\nCluster 16: Largest mean parameters in cluster \n\nWord        Mean        Variance    \n198283      4.12e+00    2.62e+00\ngeorgios    4.13e+00    2.12e+00\ntippett     4.19e+00    2.99e+00\nbraggs      4.23e+00    3.84e+00\n\n==========================================================\nCluster 17: Largest mean parameters in cluster \n\nWord        Mean        Variance    \nbooz        3.93e+00    3.99e+00\nnow         3.95e+00    3.32e+00\npersephone  3.99e+00    3.20e+00\n2011alone   4.04e+00    2.52e+00\n\n==========================================================\nCluster 18: Largest mean parameters in cluster \n\nWord        Mean        Variance    \nplummeted   3.86e+00    2.70e+00\nkaul        3.88e+00    3.61e+00\nterms       3.95e+00    3.22e+00\ntep1        3.96e+00    2.94e+00\n\n==========================================================\nCluster 19: Largest mean parameters in cluster \n\nWord        Mean        Variance    \nolympicsduring3.86e+00    1.38e+00\nsingeras    3.90e+00    4.43e+00\ninjections  3.91e+00    3.94e+00\nprosieben   4.15e+00    3.63e+00\n\n==========================================================\nCluster 20: Largest mean parameters in cluster \n\nWord        Mean        Variance    \narthur      3.91e+00    1.90e+00\nencyclopaedia4.02e+00    1.44e+00\npolvere     4.08e+00    1.93e+00\nfloridabased4.17e+00    1.19e+00\n\n==========================================================\nCluster 21: Largest mean parameters in cluster \n\nWord        Mean        Variance    \n1993present 3.94e+00    4.95e+00\nbhagam      3.95e+00    3.56e+00\ncrawdads    4.05e+00    2.43e+00\nkhorasan    4.21e+00    4.15e+00\n\n==========================================================\nCluster 22: Largest mean parameters in cluster \n\nWord        Mean        Variance    \nsaakshi     3.85e+00    1.12e+00\nunrelenting 3.86e+00    4.65e+00\nunchristian 3.86e+00    1.46e+00\ngastronomy  4.06e+00    4.09e+00\n\n==========================================================\nCluster 23: Largest mean parameters in cluster \n\nWord        Mean        Variance    \nupset       3.94e+00    2.69e+00\nrayford     3.96e+00    1.01e+00\nnonspecific 4.05e+00    3.38e+00\npress       4.21e+00    4.81e+00\n\n==========================================================\nCluster 24: Largest mean parameters in cluster \n\nWord        Mean        Variance    \nopponentspeter3.81e+00    1.62e+00\nrepertoirean3.89e+00    3.46e+00\nlifedoyle   3.96e+00    2.35e+00\nquench      3.96e+00    2.30e+00\n\n==========================================================\n"
    }
   ],
   "source": [
    "# YOUR CODE HERE. Use visualize_EM_clusters, which will require you to pass in tf_idf and map_index_to_word.\n",
    "visualize_EM_clusters(tf_idf,random_means,random_covs,map_index_to_word)"
   ]
  },
  {
   "cell_type": "markdown",
   "metadata": {
    "collapsed": true
   },
   "source": [
    "**Note**: Random initialization may sometimes produce a superior fit than k-means initialization. We do not claim that random initialization is always worse. However, this section does illustrate that random initialization often produces much worse clustering than k-means counterpart. This is the reason why we provide the particular random seed (`np.random.seed(5)`)."
   ]
  },
  {
   "cell_type": "markdown",
   "metadata": {
    "collapsed": true
   },
   "source": [
    "## Takeaway\n",
    "\n",
    "In this assignment we were able to apply the EM algorithm to a mixture of Gaussians model of text data. This was made possible by modifying the model to assume a diagonal covariance for each cluster, and by modifying the implementation to use a sparse matrix representation. In the second part you explored the role of k-means initialization on the convergence of the model as well as the interpretability of the clusters."
   ]
  }
 ],
 "metadata": {
  "anaconda-cloud": {},
  "kernelspec": {
   "display_name": "Python 3.7.6 64-bit (conda)",
   "language": "python",
   "name": "python37664bitconda566ba5c91f704513ab58cb335e9679a8"
  },
  "language_info": {
   "codemirror_mode": {
    "name": "ipython",
    "version": 3
   },
   "file_extension": ".py",
   "mimetype": "text/x-python",
   "name": "python",
   "nbconvert_exporter": "python",
   "pygments_lexer": "ipython3",
   "version": "3.7.6-final"
  }
 },
 "nbformat": 4,
 "nbformat_minor": 1
}