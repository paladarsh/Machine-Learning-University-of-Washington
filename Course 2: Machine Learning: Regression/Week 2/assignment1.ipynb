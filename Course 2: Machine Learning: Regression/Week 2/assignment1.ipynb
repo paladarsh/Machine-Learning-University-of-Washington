{
 "cells": [
  {
   "cell_type": "markdown",
   "metadata": {},
   "source": [
    "# Regression Week 2: Multiple Regression (Interpretation)"
   ]
  },
  {
   "cell_type": "markdown",
   "metadata": {},
   "source": [
    "The goal of this first notebook is to explore multiple regression and feature engineering with existing Turi Create functions.\n",
    "\n",
    "In this notebook you will use data on house sales in King County to predict prices using multiple regression. You will:\n",
    "* Use SFrames to do some feature engineering\n",
    "* Use built-in Turi Create functions to compute the regression weights (coefficients/parameters)\n",
    "* Given the regression weights, predictors and outcome write a function to compute the Residual Sum of Squares\n",
    "* Look at coefficients and interpret their meanings\n",
    "* Evaluate multiple models via RSS"
   ]
  },
  {
   "cell_type": "markdown",
   "metadata": {},
   "source": [
    "# Fire up Turi Create"
   ]
  },
  {
   "cell_type": "code",
   "execution_count": 1,
   "metadata": {},
   "outputs": [],
   "source": [
    "import turicreate"
   ]
  },
  {
   "cell_type": "markdown",
   "metadata": {},
   "source": [
    "# Load in house sales data\n",
    "\n",
    "Dataset is from house sales in King County, the region where the city of Seattle, WA is located."
   ]
  },
  {
   "cell_type": "code",
   "execution_count": 2,
   "metadata": {
    "scrolled": true
   },
   "outputs": [],
   "source": [
    "sales = turicreate.SFrame('home_data.sframe/')"
   ]
  },
  {
   "cell_type": "markdown",
   "metadata": {},
   "source": [
    "# Split data into training and testing.\n",
    "We use seed=0 so that everyone running this notebook gets the same results.  In practice, you may set a random seed (or let Turi Create pick a random seed for you).  "
   ]
  },
  {
   "cell_type": "code",
   "execution_count": 3,
   "metadata": {},
   "outputs": [],
   "source": [
    "train_data,test_data = sales.random_split(.8,seed=0)"
   ]
  },
  {
   "cell_type": "markdown",
   "metadata": {},
   "source": [
    "# Learning a multiple regression model"
   ]
  },
  {
   "cell_type": "markdown",
   "metadata": {},
   "source": [
    "Recall we can use the following code to learn a multiple regression model predicting 'price' based on the following features:\n",
    "example_features = ['sqft_living', 'bedrooms', 'bathrooms'] on training data with the following code:\n",
    "\n",
    "(Aside: We set validation_set = None to ensure that the results are always the same)"
   ]
  },
  {
   "cell_type": "code",
   "execution_count": 4,
   "metadata": {},
   "outputs": [
    {
     "output_type": "display_data",
     "data": {
      "text/html": "<pre>Linear regression:</pre>",
      "text/plain": "Linear regression:"
     },
     "metadata": {}
    },
    {
     "output_type": "display_data",
     "data": {
      "text/html": "<pre>--------------------------------------------------------</pre>",
      "text/plain": "--------------------------------------------------------"
     },
     "metadata": {}
    },
    {
     "output_type": "display_data",
     "data": {
      "text/html": "<pre>Number of examples          : 17384</pre>",
      "text/plain": "Number of examples          : 17384"
     },
     "metadata": {}
    },
    {
     "output_type": "display_data",
     "data": {
      "text/html": "<pre>Number of features          : 3</pre>",
      "text/plain": "Number of features          : 3"
     },
     "metadata": {}
    },
    {
     "output_type": "display_data",
     "data": {
      "text/html": "<pre>Number of unpacked features : 3</pre>",
      "text/plain": "Number of unpacked features : 3"
     },
     "metadata": {}
    },
    {
     "output_type": "display_data",
     "data": {
      "text/html": "<pre>Number of coefficients    : 4</pre>",
      "text/plain": "Number of coefficients    : 4"
     },
     "metadata": {}
    },
    {
     "output_type": "display_data",
     "data": {
      "text/html": "<pre>Starting Newton Method</pre>",
      "text/plain": "Starting Newton Method"
     },
     "metadata": {}
    },
    {
     "output_type": "display_data",
     "data": {
      "text/html": "<pre>--------------------------------------------------------</pre>",
      "text/plain": "--------------------------------------------------------"
     },
     "metadata": {}
    },
    {
     "output_type": "display_data",
     "data": {
      "text/html": "<pre>+-----------+----------+--------------+--------------------+---------------------------------+</pre>",
      "text/plain": "+-----------+----------+--------------+--------------------+---------------------------------+"
     },
     "metadata": {}
    },
    {
     "output_type": "display_data",
     "data": {
      "text/html": "<pre>| Iteration | Passes   | Elapsed Time | Training Max Error | Training Root-Mean-Square Error |</pre>",
      "text/plain": "| Iteration | Passes   | Elapsed Time | Training Max Error | Training Root-Mean-Square Error |"
     },
     "metadata": {}
    },
    {
     "output_type": "display_data",
     "data": {
      "text/html": "<pre>+-----------+----------+--------------+--------------------+---------------------------------+</pre>",
      "text/plain": "+-----------+----------+--------------+--------------------+---------------------------------+"
     },
     "metadata": {}
    },
    {
     "output_type": "display_data",
     "data": {
      "text/html": "<pre>| 1         | 2        | 1.044620     | 4146407.600631     | 258679.804477                   |</pre>",
      "text/plain": "| 1         | 2        | 1.044620     | 4146407.600631     | 258679.804477                   |"
     },
     "metadata": {}
    },
    {
     "output_type": "display_data",
     "data": {
      "text/html": "<pre>+-----------+----------+--------------+--------------------+---------------------------------+</pre>",
      "text/plain": "+-----------+----------+--------------+--------------------+---------------------------------+"
     },
     "metadata": {}
    },
    {
     "output_type": "display_data",
     "data": {
      "text/html": "<pre>SUCCESS: Optimal solution found.</pre>",
      "text/plain": "SUCCESS: Optimal solution found."
     },
     "metadata": {}
    },
    {
     "output_type": "display_data",
     "data": {
      "text/html": "<pre></pre>",
      "text/plain": ""
     },
     "metadata": {}
    }
   ],
   "source": [
    "example_features = ['sqft_living', 'bedrooms', 'bathrooms']\n",
    "example_model = turicreate.linear_regression.create(train_data, target = 'price', features = example_features, \n",
    "                                                    validation_set = None)"
   ]
  },
  {
   "cell_type": "markdown",
   "metadata": {},
   "source": [
    "Now that we have fitted the model we can extract the regression weights (coefficients) as an SFrame as follows:"
   ]
  },
  {
   "cell_type": "code",
   "execution_count": 5,
   "metadata": {},
   "outputs": [
    {
     "output_type": "stream",
     "name": "stdout",
     "text": "+-------------+-------+---------------------+--------------------+\n|     name    | index |        value        |       stderr       |\n+-------------+-------+---------------------+--------------------+\n| (intercept) |  None |   87910.0724923957  | 7873.338143401634  |\n| sqft_living |  None |  315.40344055210005 | 3.4557003258547296 |\n|   bedrooms  |  None | -65080.215552827525 | 2717.4568544207045 |\n|  bathrooms  |  None |  6944.020192638836  | 3923.114931441481  |\n+-------------+-------+---------------------+--------------------+\n[4 rows x 4 columns]\n\n"
    }
   ],
   "source": [
    "example_weight_summary = example_model.coefficients\n",
    "print (example_weight_summary)"
   ]
  },
  {
   "cell_type": "markdown",
   "metadata": {},
   "source": [
    "# Making Predictions\n",
    "\n",
    "In the gradient descent notebook we use numpy to do our regression. In this book we will use existing Turi Create functions to analyze multiple regressions. \n",
    "\n",
    "Recall that once a model is built we can use the .predict() function to find the predicted values for data we pass. For example using the example model above:"
   ]
  },
  {
   "cell_type": "code",
   "execution_count": 6,
   "metadata": {},
   "outputs": [
    {
     "output_type": "stream",
     "name": "stdout",
     "text": "271789.5058780301\n"
    }
   ],
   "source": [
    "example_predictions = example_model.predict(train_data)\n",
    "print (example_predictions[0]) # should be 271789.505878"
   ]
  },
  {
   "cell_type": "markdown",
   "metadata": {},
   "source": [
    "# Compute RSS"
   ]
  },
  {
   "cell_type": "markdown",
   "metadata": {},
   "source": [
    "Now that we can make predictions given the model, let's write a function to compute the RSS of the model. Complete the function below to calculate RSS given the model, data, and the outcome."
   ]
  },
  {
   "cell_type": "code",
   "execution_count": 7,
   "metadata": {},
   "outputs": [],
   "source": [
    "def get_residual_sum_of_squares(model, data, outcome):\n",
    "    # First get the predictions\n",
    "    minus=model.predict(data)\n",
    "    # Then compute the residuals/errors\n",
    "    RSS=outcome-minus\n",
    "    RSS=RSS*RSS\n",
    "    RSS=RSS.sum()\n",
    "    # Then square and add them up\n",
    "    return(RSS)    "
   ]
  },
  {
   "cell_type": "markdown",
   "metadata": {},
   "source": [
    "Test your function by computing the RSS on TEST data for the example model:"
   ]
  },
  {
   "cell_type": "code",
   "execution_count": 9,
   "metadata": {},
   "outputs": [
    {
     "output_type": "stream",
     "name": "stdout",
     "text": "273761538330193.0\n"
    }
   ],
   "source": [
    "rss_example_train = get_residual_sum_of_squares(example_model, test_data, test_data['price'])\n",
    "print (rss_example_train) # should be 2.7376153833e+14"
   ]
  },
  {
   "cell_type": "markdown",
   "metadata": {},
   "source": [
    "# Create some new features"
   ]
  },
  {
   "cell_type": "markdown",
   "metadata": {},
   "source": [
    "Although we often think of multiple regression as including multiple different features (e.g. # of bedrooms, squarefeet, and # of bathrooms) but we can also consider transformations of existing features e.g. the log of the squarefeet or even \"interaction\" features such as the product of bedrooms and bathrooms."
   ]
  },
  {
   "cell_type": "markdown",
   "metadata": {},
   "source": [
    "You will use the logarithm function to create a new feature. so first you should import it from the math library."
   ]
  },
  {
   "cell_type": "code",
   "execution_count": 10,
   "metadata": {},
   "outputs": [],
   "source": [
    "from math import log"
   ]
  },
  {
   "cell_type": "markdown",
   "metadata": {},
   "source": [
    "Next create the following 4 new features as column in both TEST and TRAIN data:\n",
    "* bedrooms_squared = bedrooms\\*bedrooms\n",
    "* bed_bath_rooms = bedrooms\\*bathrooms\n",
    "* log_sqft_living = log(sqft_living)\n",
    "* lat_plus_long = lat + long \n",
    "As an example here's the first one:"
   ]
  },
  {
   "cell_type": "code",
   "execution_count": 11,
   "metadata": {},
   "outputs": [],
   "source": [
    "train_data['bedrooms_squared'] = train_data['bedrooms'].apply(lambda x: x**2)\n",
    "test_data['bedrooms_squared'] = test_data['bedrooms'].apply(lambda x: x**2)"
   ]
  },
  {
   "cell_type": "code",
   "execution_count": 15,
   "metadata": {},
   "outputs": [],
   "source": [
    "# create the remaining 3 features in both TEST and TRAIN data\n",
    "train_data['bedrooms_squared'] = train_data['bedrooms'].apply(lambda x: x**2)\n",
    "test_data['bedrooms_squared'] = test_data['bedrooms'].apply(lambda x: x**2)\n",
    "train_data['bed_bath_rooms'] = train_data['bedrooms']*train_data['bathrooms']\n",
    "test_data['bed_bath_rooms'] = test_data['bedrooms']*test_data['bathrooms']\n",
    "train_data['log_sqft_living'] = train_data['sqft_living'].apply(lambda x: log(x))\n",
    "test_data['log_sqft_living'] = test_data['sqft_living'].apply(lambda x: log(x))\n",
    "train_data['lat_plus_long'] = train_data['lat']+train_data['long']\n",
    "test_data['lat_plus_long'] = test_data['lat']+test_data['long']"
   ]
  },
  {
   "cell_type": "markdown",
   "metadata": {},
   "source": [
    "* Squaring bedrooms will increase the separation between not many bedrooms (e.g. 1) and lots of bedrooms (e.g. 4) since 1^2 = 1 but 4^2 = 16. Consequently this feature will mostly affect houses with many bedrooms.\n",
    "* bedrooms times bathrooms gives what's called an \"interaction\" feature. It is large when *both* of them are large.\n",
    "* Taking the log of squarefeet has the effect of bringing large values closer together and spreading out small values.\n",
    "* Adding latitude to longitude is totally non-sensical but we will do it anyway (you'll see why)"
   ]
  },
  {
   "cell_type": "markdown",
   "metadata": {},
   "source": [
    "**Quiz Question: What is the mean (arithmetic average) value of your 4 new features on TEST data? (round to 2 digits)**"
   ]
  },
  {
   "cell_type": "code",
   "execution_count": 16,
   "metadata": {},
   "outputs": [
    {
     "output_type": "stream",
     "name": "stdout",
     "text": "12.446677701584301\n7.503901631591394\n7.550274679645938\n-74.65333497217307\n"
    }
   ],
   "source": [
    "print(test_data['bedrooms_squared'].mean())\n",
    "print(test_data['bed_bath_rooms'].mean())\n",
    "print(test_data['log_sqft_living'].mean())\n",
    "print(test_data['lat_plus_long'].mean())"
   ]
  },
  {
   "cell_type": "markdown",
   "metadata": {},
   "source": [
    "# Learning Multiple Models"
   ]
  },
  {
   "cell_type": "markdown",
   "metadata": {},
   "source": [
    "Now we will learn the weights for three (nested) models for predicting house prices. The first model will have the fewest features the second model will add one more feature and the third will add a few more:\n",
    "* Model 1: squarefeet, # bedrooms, # bathrooms, latitude & longitude\n",
    "* Model 2: add bedrooms\\*bathrooms\n",
    "* Model 3: Add log squarefeet, bedrooms squared, and the (nonsensical) latitude + longitude"
   ]
  },
  {
   "cell_type": "code",
   "execution_count": 18,
   "metadata": {},
   "outputs": [],
   "source": [
    "model_1_features = ['sqft_living', 'bedrooms', 'bathrooms', 'lat', 'long']\n",
    "model_2_features = model_1_features + ['bed_bath_rooms']\n",
    "model_3_features = model_2_features + ['bedrooms_squared', 'log_sqft_living', 'lat_plus_long']"
   ]
  },
  {
   "cell_type": "markdown",
   "metadata": {},
   "source": [
    "Now that you have the features, learn the weights for the three different models for predicting target = 'price' using turicreate.linear_regression.create() and look at the value of the weights/coefficients:"
   ]
  },
  {
   "cell_type": "code",
   "execution_count": 19,
   "metadata": {},
   "outputs": [
    {
     "output_type": "display_data",
     "data": {
      "text/html": "<pre>Linear regression:</pre>",
      "text/plain": "Linear regression:"
     },
     "metadata": {}
    },
    {
     "output_type": "display_data",
     "data": {
      "text/html": "<pre>--------------------------------------------------------</pre>",
      "text/plain": "--------------------------------------------------------"
     },
     "metadata": {}
    },
    {
     "output_type": "display_data",
     "data": {
      "text/html": "<pre>Number of examples          : 17384</pre>",
      "text/plain": "Number of examples          : 17384"
     },
     "metadata": {}
    },
    {
     "output_type": "display_data",
     "data": {
      "text/html": "<pre>Number of features          : 5</pre>",
      "text/plain": "Number of features          : 5"
     },
     "metadata": {}
    },
    {
     "output_type": "display_data",
     "data": {
      "text/html": "<pre>Number of unpacked features : 5</pre>",
      "text/plain": "Number of unpacked features : 5"
     },
     "metadata": {}
    },
    {
     "output_type": "display_data",
     "data": {
      "text/html": "<pre>Number of coefficients    : 6</pre>",
      "text/plain": "Number of coefficients    : 6"
     },
     "metadata": {}
    },
    {
     "output_type": "display_data",
     "data": {
      "text/html": "<pre>Starting Newton Method</pre>",
      "text/plain": "Starting Newton Method"
     },
     "metadata": {}
    },
    {
     "output_type": "display_data",
     "data": {
      "text/html": "<pre>--------------------------------------------------------</pre>",
      "text/plain": "--------------------------------------------------------"
     },
     "metadata": {}
    },
    {
     "output_type": "display_data",
     "data": {
      "text/html": "<pre>+-----------+----------+--------------+--------------------+---------------------------------+</pre>",
      "text/plain": "+-----------+----------+--------------+--------------------+---------------------------------+"
     },
     "metadata": {}
    },
    {
     "output_type": "display_data",
     "data": {
      "text/html": "<pre>| Iteration | Passes   | Elapsed Time | Training Max Error | Training Root-Mean-Square Error |</pre>",
      "text/plain": "| Iteration | Passes   | Elapsed Time | Training Max Error | Training Root-Mean-Square Error |"
     },
     "metadata": {}
    },
    {
     "output_type": "display_data",
     "data": {
      "text/html": "<pre>+-----------+----------+--------------+--------------------+---------------------------------+</pre>",
      "text/plain": "+-----------+----------+--------------+--------------------+---------------------------------+"
     },
     "metadata": {}
    },
    {
     "output_type": "display_data",
     "data": {
      "text/html": "<pre>| 1         | 2        | 0.060949     | 4074878.213132     | 236378.596455                   |</pre>",
      "text/plain": "| 1         | 2        | 0.060949     | 4074878.213132     | 236378.596455                   |"
     },
     "metadata": {}
    },
    {
     "output_type": "display_data",
     "data": {
      "text/html": "<pre>| 2         | 3        | 0.097182     | 4074878.213108     | 236378.596455                   |</pre>",
      "text/plain": "| 2         | 3        | 0.097182     | 4074878.213108     | 236378.596455                   |"
     },
     "metadata": {}
    },
    {
     "output_type": "display_data",
     "data": {
      "text/html": "<pre>+-----------+----------+--------------+--------------------+---------------------------------+</pre>",
      "text/plain": "+-----------+----------+--------------+--------------------+---------------------------------+"
     },
     "metadata": {}
    },
    {
     "output_type": "display_data",
     "data": {
      "text/html": "<pre>SUCCESS: Optimal solution found.</pre>",
      "text/plain": "SUCCESS: Optimal solution found."
     },
     "metadata": {}
    },
    {
     "output_type": "display_data",
     "data": {
      "text/html": "<pre></pre>",
      "text/plain": ""
     },
     "metadata": {}
    },
    {
     "output_type": "display_data",
     "data": {
      "text/html": "<pre>Linear regression:</pre>",
      "text/plain": "Linear regression:"
     },
     "metadata": {}
    },
    {
     "output_type": "display_data",
     "data": {
      "text/html": "<pre>--------------------------------------------------------</pre>",
      "text/plain": "--------------------------------------------------------"
     },
     "metadata": {}
    },
    {
     "output_type": "display_data",
     "data": {
      "text/html": "<pre>Number of examples          : 17384</pre>",
      "text/plain": "Number of examples          : 17384"
     },
     "metadata": {}
    },
    {
     "output_type": "display_data",
     "data": {
      "text/html": "<pre>Number of features          : 6</pre>",
      "text/plain": "Number of features          : 6"
     },
     "metadata": {}
    },
    {
     "output_type": "display_data",
     "data": {
      "text/html": "<pre>Number of unpacked features : 6</pre>",
      "text/plain": "Number of unpacked features : 6"
     },
     "metadata": {}
    },
    {
     "output_type": "display_data",
     "data": {
      "text/html": "<pre>Number of coefficients    : 7</pre>",
      "text/plain": "Number of coefficients    : 7"
     },
     "metadata": {}
    },
    {
     "output_type": "display_data",
     "data": {
      "text/html": "<pre>Starting Newton Method</pre>",
      "text/plain": "Starting Newton Method"
     },
     "metadata": {}
    },
    {
     "output_type": "display_data",
     "data": {
      "text/html": "<pre>--------------------------------------------------------</pre>",
      "text/plain": "--------------------------------------------------------"
     },
     "metadata": {}
    },
    {
     "output_type": "display_data",
     "data": {
      "text/html": "<pre>+-----------+----------+--------------+--------------------+---------------------------------+</pre>",
      "text/plain": "+-----------+----------+--------------+--------------------+---------------------------------+"
     },
     "metadata": {}
    },
    {
     "output_type": "display_data",
     "data": {
      "text/html": "<pre>| Iteration | Passes   | Elapsed Time | Training Max Error | Training Root-Mean-Square Error |</pre>",
      "text/plain": "| Iteration | Passes   | Elapsed Time | Training Max Error | Training Root-Mean-Square Error |"
     },
     "metadata": {}
    },
    {
     "output_type": "display_data",
     "data": {
      "text/html": "<pre>+-----------+----------+--------------+--------------------+---------------------------------+</pre>",
      "text/plain": "+-----------+----------+--------------+--------------------+---------------------------------+"
     },
     "metadata": {}
    },
    {
     "output_type": "display_data",
     "data": {
      "text/html": "<pre>| 1         | 2        | 0.085829     | 4014170.932952     | 235190.935429                   |</pre>",
      "text/plain": "| 1         | 2        | 0.085829     | 4014170.932952     | 235190.935429                   |"
     },
     "metadata": {}
    },
    {
     "output_type": "display_data",
     "data": {
      "text/html": "<pre>+-----------+----------+--------------+--------------------+---------------------------------+</pre>",
      "text/plain": "+-----------+----------+--------------+--------------------+---------------------------------+"
     },
     "metadata": {}
    },
    {
     "output_type": "display_data",
     "data": {
      "text/html": "<pre>SUCCESS: Optimal solution found.</pre>",
      "text/plain": "SUCCESS: Optimal solution found."
     },
     "metadata": {}
    },
    {
     "output_type": "display_data",
     "data": {
      "text/html": "<pre></pre>",
      "text/plain": ""
     },
     "metadata": {}
    },
    {
     "output_type": "display_data",
     "data": {
      "text/html": "<pre>Linear regression:</pre>",
      "text/plain": "Linear regression:"
     },
     "metadata": {}
    },
    {
     "output_type": "display_data",
     "data": {
      "text/html": "<pre>--------------------------------------------------------</pre>",
      "text/plain": "--------------------------------------------------------"
     },
     "metadata": {}
    },
    {
     "output_type": "display_data",
     "data": {
      "text/html": "<pre>Number of examples          : 17384</pre>",
      "text/plain": "Number of examples          : 17384"
     },
     "metadata": {}
    },
    {
     "output_type": "display_data",
     "data": {
      "text/html": "<pre>Number of features          : 9</pre>",
      "text/plain": "Number of features          : 9"
     },
     "metadata": {}
    },
    {
     "output_type": "display_data",
     "data": {
      "text/html": "<pre>Number of unpacked features : 9</pre>",
      "text/plain": "Number of unpacked features : 9"
     },
     "metadata": {}
    },
    {
     "output_type": "display_data",
     "data": {
      "text/html": "<pre>Number of coefficients    : 10</pre>",
      "text/plain": "Number of coefficients    : 10"
     },
     "metadata": {}
    },
    {
     "output_type": "display_data",
     "data": {
      "text/html": "<pre>Starting Newton Method</pre>",
      "text/plain": "Starting Newton Method"
     },
     "metadata": {}
    },
    {
     "output_type": "display_data",
     "data": {
      "text/html": "<pre>--------------------------------------------------------</pre>",
      "text/plain": "--------------------------------------------------------"
     },
     "metadata": {}
    },
    {
     "output_type": "display_data",
     "data": {
      "text/html": "<pre>+-----------+----------+--------------+--------------------+---------------------------------+</pre>",
      "text/plain": "+-----------+----------+--------------+--------------------+---------------------------------+"
     },
     "metadata": {}
    },
    {
     "output_type": "display_data",
     "data": {
      "text/html": "<pre>| Iteration | Passes   | Elapsed Time | Training Max Error | Training Root-Mean-Square Error |</pre>",
      "text/plain": "| Iteration | Passes   | Elapsed Time | Training Max Error | Training Root-Mean-Square Error |"
     },
     "metadata": {}
    },
    {
     "output_type": "display_data",
     "data": {
      "text/html": "<pre>+-----------+----------+--------------+--------------------+---------------------------------+</pre>",
      "text/plain": "+-----------+----------+--------------+--------------------+---------------------------------+"
     },
     "metadata": {}
    },
    {
     "output_type": "display_data",
     "data": {
      "text/html": "<pre>| 1         | 2        | 0.053698     | 3193229.177890     | 228200.043155                   |</pre>",
      "text/plain": "| 1         | 2        | 0.053698     | 3193229.177890     | 228200.043155                   |"
     },
     "metadata": {}
    },
    {
     "output_type": "display_data",
     "data": {
      "text/html": "<pre>| 2         | 3        | 0.096294     | 3193229.177873     | 228200.043155                   |</pre>",
      "text/plain": "| 2         | 3        | 0.096294     | 3193229.177873     | 228200.043155                   |"
     },
     "metadata": {}
    },
    {
     "output_type": "display_data",
     "data": {
      "text/html": "<pre>+-----------+----------+--------------+--------------------+---------------------------------+</pre>",
      "text/plain": "+-----------+----------+--------------+--------------------+---------------------------------+"
     },
     "metadata": {}
    },
    {
     "output_type": "display_data",
     "data": {
      "text/html": "<pre>SUCCESS: Optimal solution found.</pre>",
      "text/plain": "SUCCESS: Optimal solution found."
     },
     "metadata": {}
    },
    {
     "output_type": "display_data",
     "data": {
      "text/html": "<pre></pre>",
      "text/plain": ""
     },
     "metadata": {}
    }
   ],
   "source": [
    "# Learn the three models: (don't forget to set validation_set = None)\n",
    "model1 = turicreate.linear_regression.create(train_data, target = 'price', features = model_1_features, validation_set = None)\n",
    "model2 = turicreate.linear_regression.create(train_data, target = 'price', features = model_2_features, validation_set = None) \n",
    "model3 = turicreate.linear_regression.create(train_data, target = 'price', features = model_3_features, validation_set = None) "
   ]
  },
  {
   "cell_type": "code",
   "execution_count": 20,
   "metadata": {},
   "outputs": [
    {
     "output_type": "stream",
     "name": "stdout",
     "text": "+-------------+-------+---------------------+--------------------+\n|     name    | index |        value        |       stderr       |\n+-------------+-------+---------------------+--------------------+\n| (intercept) |  None |  -56140675.74114427 | 1649985.420135553  |\n| sqft_living |  None |  310.26332577692136 | 3.1888296040737765 |\n|   bedrooms  |  None |  -59577.11606759667 | 2487.2797732245012 |\n|  bathrooms  |  None |  13811.840541653264 | 3593.5421329670735 |\n|     lat     |  None |  629865.7894714845  | 13120.710032363884 |\n|     long    |  None | -214790.28516471002 | 13284.285159576597 |\n+-------------+-------+---------------------+--------------------+\n[6 rows x 4 columns]\n\n+----------------+-------+---------------------+--------------------+\n|      name      | index |        value        |       stderr       |\n+----------------+-------+---------------------+--------------------+\n|  (intercept)   |  None |  -54410676.1071702  | 1650405.1652726454 |\n|  sqft_living   |  None |  304.44929805407946 |  3.20217535637094  |\n|    bedrooms    |  None | -116366.04322451768 | 4805.5496654858225 |\n|   bathrooms    |  None |  -77972.33050970349 | 7565.059910947983  |\n|      lat       |  None |  625433.8349445503  | 13058.353097300462 |\n|      long      |  None | -203958.60289731968 | 13268.128370009661 |\n| bed_bath_rooms |  None |  26961.624907583264 | 1956.3656155588428 |\n+----------------+-------+---------------------+--------------------+\n[7 rows x 4 columns]\n\n+------------------+-------+---------------------+--------------------+\n|       name       | index |        value        |       stderr       |\n+------------------+-------+---------------------+--------------------+\n|   (intercept)    |  None |  -52974974.06892153 | 1615194.942821453  |\n|   sqft_living    |  None |  529.1964205687523  | 7.699134985078978  |\n|     bedrooms     |  None |  28948.527746351134 | 9395.728891110177  |\n|    bathrooms     |  None |  65661.20723969836  | 10795.338070247015 |\n|       lat        |  None |  704762.1484430869  |        nan         |\n|       long       |  None | -137780.02000717327 |        nan         |\n|  bed_bath_rooms  |  None |  -8478.364107167803 | 2858.9539125640354 |\n| bedrooms_squared |  None |  -6072.384661904947 | 1494.9704277794906 |\n| log_sqft_living  |  None |  -563467.7842801767 | 17567.823081204006 |\n|  lat_plus_long   |  None |  -83217.19791002883 |        nan         |\n+------------------+-------+---------------------+--------------------+\n[10 rows x 4 columns]\n\n"
    }
   ],
   "source": [
    "# Examine/extract each model's coefficients:\n",
    "print(model1.coefficients)\n",
    "print(model2.coefficients)\n",
    "print(model3.coefficients)"
   ]
  },
  {
   "cell_type": "markdown",
   "metadata": {},
   "source": [
    "**Quiz Question: What is the sign (positive or negative) for the coefficient/weight for 'bathrooms' in model 1?**\n",
    "\n",
    "**Quiz Question: What is the sign (positive or negative) for the coefficient/weight for 'bathrooms' in model 2?**\n",
    "\n",
    "Think about what this means."
   ]
  },
  {
   "cell_type": "markdown",
   "metadata": {},
   "source": [
    "# Comparing multiple models\n",
    "\n",
    "Now that you've learned three models and extracted the model weights we want to evaluate which model is best."
   ]
  },
  {
   "cell_type": "markdown",
   "metadata": {},
   "source": [
    "First use your functions from earlier to compute the RSS on TRAINING Data for each of the three models."
   ]
  },
  {
   "cell_type": "code",
   "execution_count": 22,
   "metadata": {},
   "outputs": [
    {
     "output_type": "stream",
     "name": "stdout",
     "text": "971328233545434.4\n961592067859822.1\n905276314551640.9\n"
    }
   ],
   "source": [
    "# Compute the RSS on TRAINING data for each of the three models and record the values:\n",
    "rss1=get_residual_sum_of_squares(model1,train_data,train_data['price'])\n",
    "rss2=get_residual_sum_of_squares(model2,train_data,train_data['price'])\n",
    "rss3=get_residual_sum_of_squares(model3,train_data,train_data['price'])\n",
    "print(rss1)\n",
    "print(rss2)\n",
    "print(rss3)"
   ]
  },
  {
   "cell_type": "markdown",
   "metadata": {},
   "source": [
    "**Quiz Question: Which model (1, 2 or 3) has lowest RSS on TRAINING Data?** Is this what you expected?"
   ]
  },
  {
   "cell_type": "markdown",
   "metadata": {},
   "source": [
    "Now compute the RSS on on TEST data for each of the three models."
   ]
  },
  {
   "cell_type": "code",
   "execution_count": 23,
   "metadata": {},
   "outputs": [
    {
     "output_type": "stream",
     "name": "stdout",
     "text": "226568089093160.56\n224368799994313.0\n251829318963157.28\n"
    }
   ],
   "source": [
    "# Compute the RSS on TESTING data for each of the three models and record the values:\n",
    "rst1=get_residual_sum_of_squares(model1,test_data,test_data['price'])\n",
    "rst2=get_residual_sum_of_squares(model2,test_data,test_data['price'])\n",
    "rst3=get_residual_sum_of_squares(model3,test_data,test_data['price'])\n",
    "print(rst1)\n",
    "print(rst2)\n",
    "print(rst3)"
   ]
  },
  {
   "cell_type": "markdown",
   "metadata": {},
   "source": [
    "**Quiz Question: Which model (1, 2 or 3) has lowest RSS on TESTING Data?** Is this what you expected? Think about the features that were added to each model from the previous."
   ]
  },
  {
   "cell_type": "code",
   "execution_count": null,
   "metadata": {},
   "outputs": [],
   "source": []
  }
 ],
 "metadata": {
  "kernelspec": {
   "display_name": "Python 3.7.6 64-bit (conda)",
   "language": "python",
   "name": "python37664bitconda566ba5c91f704513ab58cb335e9679a8"
  },
  "language_info": {
   "codemirror_mode": {
    "name": "ipython",
    "version": 2
   },
   "file_extension": ".py",
   "mimetype": "text/x-python",
   "name": "python",
   "nbconvert_exporter": "python",
   "pygments_lexer": "ipython2",
   "version": "2.7.17-final"
  }
 },
 "nbformat": 4,
 "nbformat_minor": 1
}