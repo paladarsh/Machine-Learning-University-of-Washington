{
 "nbformat": 4,
 "nbformat_minor": 2,
 "metadata": {
  "language_info": {
   "name": "python",
   "codemirror_mode": {
    "name": "ipython",
    "version": 2
   },
   "version": "2.7.17-final"
  },
  "orig_nbformat": 2,
  "file_extension": ".py",
  "mimetype": "text/x-python",
  "name": "python",
  "npconvert_exporter": "python",
  "pygments_lexer": "ipython2",
  "version": 2,
  "kernelspec": {
   "name": "python37764bitvirtualconda69d1cf11974a42aeb8d91780d46258cc",
   "display_name": "Python 3.7.7 64-bit ('virtual': conda)"
  }
 },
 "cells": [
  {
   "cell_type": "code",
   "execution_count": 1,
   "metadata": {},
   "outputs": [],
   "source": [
    "import turicreate"
   ]
  },
  {
   "cell_type": "code",
   "execution_count": 2,
   "metadata": {},
   "outputs": [],
   "source": [
    "sf=turicreate.SFrame('people_wiki.sframe/')"
   ]
  },
  {
   "cell_type": "code",
   "execution_count": 3,
   "metadata": {},
   "outputs": [
    {
     "output_type": "execute_result",
     "data": {
      "text/html": "<div style=\"max-height:1000px;max-width:1500px;overflow:auto;\"><table frame=\"box\" rules=\"cols\">\n    <tr>\n        <th style=\"padding-left: 1em; padding-right: 1em; text-align: center\">URI</th>\n        <th style=\"padding-left: 1em; padding-right: 1em; text-align: center\">name</th>\n        <th style=\"padding-left: 1em; padding-right: 1em; text-align: center\">text</th>\n    </tr>\n    <tr>\n        <td style=\"padding-left: 1em; padding-right: 1em; text-align: center; vertical-align: top\">&lt;http://dbpedia.org/resou<br>rce/Digby_Morrell&gt; ...</td>\n        <td style=\"padding-left: 1em; padding-right: 1em; text-align: center; vertical-align: top\">Digby Morrell</td>\n        <td style=\"padding-left: 1em; padding-right: 1em; text-align: center; vertical-align: top\">digby morrell born 10<br>october 1979 is a former ...</td>\n    </tr>\n    <tr>\n        <td style=\"padding-left: 1em; padding-right: 1em; text-align: center; vertical-align: top\">&lt;http://dbpedia.org/resou<br>rce/Alfred_J._Lewy&gt; ...</td>\n        <td style=\"padding-left: 1em; padding-right: 1em; text-align: center; vertical-align: top\">Alfred J. Lewy</td>\n        <td style=\"padding-left: 1em; padding-right: 1em; text-align: center; vertical-align: top\">alfred j lewy aka sandy<br>lewy graduated from ...</td>\n    </tr>\n    <tr>\n        <td style=\"padding-left: 1em; padding-right: 1em; text-align: center; vertical-align: top\">&lt;http://dbpedia.org/resou<br>rce/Harpdog_Brown&gt; ...</td>\n        <td style=\"padding-left: 1em; padding-right: 1em; text-align: center; vertical-align: top\">Harpdog Brown</td>\n        <td style=\"padding-left: 1em; padding-right: 1em; text-align: center; vertical-align: top\">harpdog brown is a singer<br>and harmonica player who ...</td>\n    </tr>\n    <tr>\n        <td style=\"padding-left: 1em; padding-right: 1em; text-align: center; vertical-align: top\">&lt;http://dbpedia.org/resou<br>rce/Franz_Rottensteiner&gt; ...</td>\n        <td style=\"padding-left: 1em; padding-right: 1em; text-align: center; vertical-align: top\">Franz Rottensteiner</td>\n        <td style=\"padding-left: 1em; padding-right: 1em; text-align: center; vertical-align: top\">franz rottensteiner born<br>in waidmannsfeld lower ...</td>\n    </tr>\n    <tr>\n        <td style=\"padding-left: 1em; padding-right: 1em; text-align: center; vertical-align: top\">&lt;http://dbpedia.org/resou<br>rce/G-Enka&gt; ...</td>\n        <td style=\"padding-left: 1em; padding-right: 1em; text-align: center; vertical-align: top\">G-Enka</td>\n        <td style=\"padding-left: 1em; padding-right: 1em; text-align: center; vertical-align: top\">henry krvits born 30<br>december 1974 in tallinn ...</td>\n    </tr>\n    <tr>\n        <td style=\"padding-left: 1em; padding-right: 1em; text-align: center; vertical-align: top\">&lt;http://dbpedia.org/resou<br>rce/Sam_Henderson&gt; ...</td>\n        <td style=\"padding-left: 1em; padding-right: 1em; text-align: center; vertical-align: top\">Sam Henderson</td>\n        <td style=\"padding-left: 1em; padding-right: 1em; text-align: center; vertical-align: top\">sam henderson born<br>october 18 1969 is an ...</td>\n    </tr>\n    <tr>\n        <td style=\"padding-left: 1em; padding-right: 1em; text-align: center; vertical-align: top\">&lt;http://dbpedia.org/resou<br>rce/Aaron_LaCrate&gt; ...</td>\n        <td style=\"padding-left: 1em; padding-right: 1em; text-align: center; vertical-align: top\">Aaron LaCrate</td>\n        <td style=\"padding-left: 1em; padding-right: 1em; text-align: center; vertical-align: top\">aaron lacrate is an<br>american music producer ...</td>\n    </tr>\n    <tr>\n        <td style=\"padding-left: 1em; padding-right: 1em; text-align: center; vertical-align: top\">&lt;http://dbpedia.org/resou<br>rce/Trevor_Ferguson&gt; ...</td>\n        <td style=\"padding-left: 1em; padding-right: 1em; text-align: center; vertical-align: top\">Trevor Ferguson</td>\n        <td style=\"padding-left: 1em; padding-right: 1em; text-align: center; vertical-align: top\">trevor ferguson aka john<br>farrow born 11 november ...</td>\n    </tr>\n    <tr>\n        <td style=\"padding-left: 1em; padding-right: 1em; text-align: center; vertical-align: top\">&lt;http://dbpedia.org/resou<br>rce/Grant_Nelson&gt; ...</td>\n        <td style=\"padding-left: 1em; padding-right: 1em; text-align: center; vertical-align: top\">Grant Nelson</td>\n        <td style=\"padding-left: 1em; padding-right: 1em; text-align: center; vertical-align: top\">grant nelson born 27<br>april 1971 in london  ...</td>\n    </tr>\n    <tr>\n        <td style=\"padding-left: 1em; padding-right: 1em; text-align: center; vertical-align: top\">&lt;http://dbpedia.org/resou<br>rce/Cathy_Caruth&gt; ...</td>\n        <td style=\"padding-left: 1em; padding-right: 1em; text-align: center; vertical-align: top\">Cathy Caruth</td>\n        <td style=\"padding-left: 1em; padding-right: 1em; text-align: center; vertical-align: top\">cathy caruth born 1955 is<br>frank h t rhodes ...</td>\n    </tr>\n</table>\n[59071 rows x 3 columns]<br/>Note: Only the head of the SFrame is printed.<br/>You can use print_rows(num_rows=m, num_columns=n) to print more rows and columns.\n</div>",
      "text/plain": "Columns:\n\tURI\tstr\n\tname\tstr\n\ttext\tstr\n\nRows: 59071\n\nData:\n+-------------------------------+---------------------+\n|              URI              |         name        |\n+-------------------------------+---------------------+\n| <http://dbpedia.org/resour... |    Digby Morrell    |\n| <http://dbpedia.org/resour... |    Alfred J. Lewy   |\n| <http://dbpedia.org/resour... |    Harpdog Brown    |\n| <http://dbpedia.org/resour... | Franz Rottensteiner |\n| <http://dbpedia.org/resour... |        G-Enka       |\n| <http://dbpedia.org/resour... |    Sam Henderson    |\n| <http://dbpedia.org/resour... |    Aaron LaCrate    |\n| <http://dbpedia.org/resour... |   Trevor Ferguson   |\n| <http://dbpedia.org/resour... |     Grant Nelson    |\n| <http://dbpedia.org/resour... |     Cathy Caruth    |\n+-------------------------------+---------------------+\n+-------------------------------+\n|              text             |\n+-------------------------------+\n| digby morrell born 10 octo... |\n| alfred j lewy aka sandy le... |\n| harpdog brown is a singer ... |\n| franz rottensteiner born i... |\n| henry krvits born 30 decem... |\n| sam henderson born october... |\n| aaron lacrate is an americ... |\n| trevor ferguson aka john f... |\n| grant nelson born 27 april... |\n| cathy caruth born 1955 is ... |\n+-------------------------------+\n[59071 rows x 3 columns]\nNote: Only the head of the SFrame is printed.\nYou can use print_rows(num_rows=m, num_columns=n) to print more rows and columns."
     },
     "metadata": {},
     "execution_count": 3
    }
   ],
   "source": []
  },
  {
   "cell_type": "code",
   "execution_count": 4,
   "metadata": {},
   "outputs": [],
   "source": [
    "sf['word_count']=turicreate.text_analytics.count_words(sf['text'])"
   ]
  },
  {
   "cell_type": "code",
   "execution_count": 6,
   "metadata": {},
   "outputs": [],
   "source": [
    "sf['tfidf']=turicreate.text_analytics.tf_idf(sf['word_count'])"
   ]
  },
  {
   "cell_type": "code",
   "execution_count": 8,
   "metadata": {},
   "outputs": [],
   "source": [
    "john=sf[sf['name']==\"Elton John\"]"
   ]
  },
  {
   "cell_type": "code",
   "execution_count": 9,
   "metadata": {},
   "outputs": [
    {
     "output_type": "execute_result",
     "data": {
      "text/html": "<div style=\"max-height:1000px;max-width:1500px;overflow:auto;\"><table frame=\"box\" rules=\"cols\">\n    <tr>\n        <th style=\"padding-left: 1em; padding-right: 1em; text-align: center\">URI</th>\n        <th style=\"padding-left: 1em; padding-right: 1em; text-align: center\">name</th>\n        <th style=\"padding-left: 1em; padding-right: 1em; text-align: center\">text</th>\n        <th style=\"padding-left: 1em; padding-right: 1em; text-align: center\">word_count</th>\n        <th style=\"padding-left: 1em; padding-right: 1em; text-align: center\">tfidf</th>\n    </tr>\n    <tr>\n        <td style=\"padding-left: 1em; padding-right: 1em; text-align: center; vertical-align: top\">&lt;http://dbpedia.org/resou<br>rce/Elton_John&gt; ...</td>\n        <td style=\"padding-left: 1em; padding-right: 1em; text-align: center; vertical-align: top\">Elton John</td>\n        <td style=\"padding-left: 1em; padding-right: 1em; text-align: center; vertical-align: top\">sir elton hercules john<br>cbe born reginald ken ...</td>\n        <td style=\"padding-left: 1em; padding-right: 1em; text-align: center; vertical-align: top\">{&#x27;movements&#x27;: 1.0,<br>&#x27;social&#x27;: 1.0, ...</td>\n        <td style=\"padding-left: 1em; padding-right: 1em; text-align: center; vertical-align: top\">{&#x27;movements&#x27;:<br>5.030658019760364, ...</td>\n    </tr>\n</table>\n[? rows x 5 columns]<br/>Note: Only the head of the SFrame is printed. This SFrame is lazily evaluated.<br/>You can use sf.materialize() to force materialization.\n</div>",
      "text/plain": "Columns:\n\tURI\tstr\n\tname\tstr\n\ttext\tstr\n\tword_count\tdict\n\ttfidf\tdict\n\nRows: Unknown\n\nData:\n+-------------------------------+------------+-------------------------------+\n|              URI              |    name    |              text             |\n+-------------------------------+------------+-------------------------------+\n| <http://dbpedia.org/resour... | Elton John | sir elton hercules john cb... |\n+-------------------------------+------------+-------------------------------+\n+-------------------------------+-------------------------------+\n|           word_count          |             tfidf             |\n+-------------------------------+-------------------------------+\n| {'movements': 1.0, 'social... | {'movements': 5.0306580197... |\n+-------------------------------+-------------------------------+\n[? rows x 5 columns]\nNote: Only the head of the SFrame is printed. This SFrame is lazily evaluated.\nYou can use sf.materialize() to force materialization."
     },
     "metadata": {},
     "execution_count": 9
    }
   ],
   "source": [
    "john"
   ]
  },
  {
   "cell_type": "code",
   "execution_count": 16,
   "metadata": {},
   "outputs": [],
   "source": [
    "johntable=john[['word_count']].stack('word_count',new_column_name=['word',\"count\"]).sort('count',ascending=False)"
   ]
  },
  {
   "cell_type": "code",
   "execution_count": 17,
   "metadata": {},
   "outputs": [
    {
     "output_type": "execute_result",
     "data": {
      "text/html": "<div style=\"max-height:1000px;max-width:1500px;overflow:auto;\"><table frame=\"box\" rules=\"cols\">\n    <tr>\n        <th style=\"padding-left: 1em; padding-right: 1em; text-align: center\">word</th>\n        <th style=\"padding-left: 1em; padding-right: 1em; text-align: center\">count</th>\n    </tr>\n    <tr>\n        <td style=\"padding-left: 1em; padding-right: 1em; text-align: center; vertical-align: top\">the</td>\n        <td style=\"padding-left: 1em; padding-right: 1em; text-align: center; vertical-align: top\">27.0</td>\n    </tr>\n    <tr>\n        <td style=\"padding-left: 1em; padding-right: 1em; text-align: center; vertical-align: top\">in</td>\n        <td style=\"padding-left: 1em; padding-right: 1em; text-align: center; vertical-align: top\">18.0</td>\n    </tr>\n    <tr>\n        <td style=\"padding-left: 1em; padding-right: 1em; text-align: center; vertical-align: top\">and</td>\n        <td style=\"padding-left: 1em; padding-right: 1em; text-align: center; vertical-align: top\">15.0</td>\n    </tr>\n    <tr>\n        <td style=\"padding-left: 1em; padding-right: 1em; text-align: center; vertical-align: top\">of</td>\n        <td style=\"padding-left: 1em; padding-right: 1em; text-align: center; vertical-align: top\">13.0</td>\n    </tr>\n    <tr>\n        <td style=\"padding-left: 1em; padding-right: 1em; text-align: center; vertical-align: top\">a</td>\n        <td style=\"padding-left: 1em; padding-right: 1em; text-align: center; vertical-align: top\">10.0</td>\n    </tr>\n    <tr>\n        <td style=\"padding-left: 1em; padding-right: 1em; text-align: center; vertical-align: top\">has</td>\n        <td style=\"padding-left: 1em; padding-right: 1em; text-align: center; vertical-align: top\">9.0</td>\n    </tr>\n    <tr>\n        <td style=\"padding-left: 1em; padding-right: 1em; text-align: center; vertical-align: top\">he</td>\n        <td style=\"padding-left: 1em; padding-right: 1em; text-align: center; vertical-align: top\">7.0</td>\n    </tr>\n    <tr>\n        <td style=\"padding-left: 1em; padding-right: 1em; text-align: center; vertical-align: top\">john</td>\n        <td style=\"padding-left: 1em; padding-right: 1em; text-align: center; vertical-align: top\">7.0</td>\n    </tr>\n    <tr>\n        <td style=\"padding-left: 1em; padding-right: 1em; text-align: center; vertical-align: top\">on</td>\n        <td style=\"padding-left: 1em; padding-right: 1em; text-align: center; vertical-align: top\">6.0</td>\n    </tr>\n    <tr>\n        <td style=\"padding-left: 1em; padding-right: 1em; text-align: center; vertical-align: top\">award</td>\n        <td style=\"padding-left: 1em; padding-right: 1em; text-align: center; vertical-align: top\">5.0</td>\n    </tr>\n</table>\n[255 rows x 2 columns]<br/>Note: Only the head of the SFrame is printed.<br/>You can use print_rows(num_rows=m, num_columns=n) to print more rows and columns.\n</div>",
      "text/plain": "Columns:\n\tword\tstr\n\tcount\tfloat\n\nRows: 255\n\nData:\n+-------+-------+\n|  word | count |\n+-------+-------+\n|  the  |  27.0 |\n|   in  |  18.0 |\n|  and  |  15.0 |\n|   of  |  13.0 |\n|   a   |  10.0 |\n|  has  |  9.0  |\n|   he  |  7.0  |\n|  john |  7.0  |\n|   on  |  6.0  |\n| award |  5.0  |\n+-------+-------+\n[255 rows x 2 columns]\nNote: Only the head of the SFrame is printed.\nYou can use print_rows(num_rows=m, num_columns=n) to print more rows and columns."
     },
     "metadata": {},
     "execution_count": 17
    }
   ],
   "source": [
    "johntable"
   ]
  },
  {
   "cell_type": "code",
   "execution_count": 18,
   "metadata": {},
   "outputs": [],
   "source": [
    "johnidf=john[['tfidf']].stack('tfidf',new_column_name=['word',\"count\"]).sort('count',ascending=False)"
   ]
  },
  {
   "cell_type": "code",
   "execution_count": 19,
   "metadata": {},
   "outputs": [
    {
     "output_type": "execute_result",
     "data": {
      "text/html": "<div style=\"max-height:1000px;max-width:1500px;overflow:auto;\"><table frame=\"box\" rules=\"cols\">\n    <tr>\n        <th style=\"padding-left: 1em; padding-right: 1em; text-align: center\">word</th>\n        <th style=\"padding-left: 1em; padding-right: 1em; text-align: center\">count</th>\n    </tr>\n    <tr>\n        <td style=\"padding-left: 1em; padding-right: 1em; text-align: center; vertical-align: top\">furnish</td>\n        <td style=\"padding-left: 1em; padding-right: 1em; text-align: center; vertical-align: top\">18.38947183999428</td>\n    </tr>\n    <tr>\n        <td style=\"padding-left: 1em; padding-right: 1em; text-align: center; vertical-align: top\">elton</td>\n        <td style=\"padding-left: 1em; padding-right: 1em; text-align: center; vertical-align: top\">17.482320270031995</td>\n    </tr>\n    <tr>\n        <td style=\"padding-left: 1em; padding-right: 1em; text-align: center; vertical-align: top\">billboard</td>\n        <td style=\"padding-left: 1em; padding-right: 1em; text-align: center; vertical-align: top\">17.30368095754203</td>\n    </tr>\n    <tr>\n        <td style=\"padding-left: 1em; padding-right: 1em; text-align: center; vertical-align: top\">john</td>\n        <td style=\"padding-left: 1em; padding-right: 1em; text-align: center; vertical-align: top\">13.93931279239831</td>\n    </tr>\n    <tr>\n        <td style=\"padding-left: 1em; padding-right: 1em; text-align: center; vertical-align: top\">songwriters</td>\n        <td style=\"padding-left: 1em; padding-right: 1em; text-align: center; vertical-align: top\">11.250406447031539</td>\n    </tr>\n    <tr>\n        <td style=\"padding-left: 1em; padding-right: 1em; text-align: center; vertical-align: top\">overallelton</td>\n        <td style=\"padding-left: 1em; padding-right: 1em; text-align: center; vertical-align: top\">10.986495389225194</td>\n    </tr>\n    <tr>\n        <td style=\"padding-left: 1em; padding-right: 1em; text-align: center; vertical-align: top\">tonightcandle</td>\n        <td style=\"padding-left: 1em; padding-right: 1em; text-align: center; vertical-align: top\">10.986495389225194</td>\n    </tr>\n    <tr>\n        <td style=\"padding-left: 1em; padding-right: 1em; text-align: center; vertical-align: top\">fivedecade</td>\n        <td style=\"padding-left: 1em; padding-right: 1em; text-align: center; vertical-align: top\">10.293348208665249</td>\n    </tr>\n    <tr>\n        <td style=\"padding-left: 1em; padding-right: 1em; text-align: center; vertical-align: top\">19702000</td>\n        <td style=\"padding-left: 1em; padding-right: 1em; text-align: center; vertical-align: top\">10.293348208665249</td>\n    </tr>\n    <tr>\n        <td style=\"padding-left: 1em; padding-right: 1em; text-align: center; vertical-align: top\">aids</td>\n        <td style=\"padding-left: 1em; padding-right: 1em; text-align: center; vertical-align: top\">10.262846934045534</td>\n    </tr>\n</table>\n[255 rows x 2 columns]<br/>Note: Only the head of the SFrame is printed.<br/>You can use print_rows(num_rows=m, num_columns=n) to print more rows and columns.\n</div>",
      "text/plain": "Columns:\n\tword\tstr\n\tcount\tfloat\n\nRows: 255\n\nData:\n+---------------+--------------------+\n|      word     |       count        |\n+---------------+--------------------+\n|    furnish    | 18.38947183999428  |\n|     elton     | 17.482320270031995 |\n|   billboard   | 17.30368095754203  |\n|      john     | 13.93931279239831  |\n|  songwriters  | 11.250406447031539 |\n|  overallelton | 10.986495389225194 |\n| tonightcandle | 10.986495389225194 |\n|   fivedecade  | 10.293348208665249 |\n|    19702000   | 10.293348208665249 |\n|      aids     | 10.262846934045534 |\n+---------------+--------------------+\n[255 rows x 2 columns]\nNote: Only the head of the SFrame is printed.\nYou can use print_rows(num_rows=m, num_columns=n) to print more rows and columns."
     },
     "metadata": {},
     "execution_count": 19
    }
   ],
   "source": [
    "johnidf"
   ]
  },
  {
   "cell_type": "code",
   "execution_count": 20,
   "metadata": {},
   "outputs": [],
   "source": [
    "vct=sf[sf[\"name\"]==\"Victoria Beckham\"]"
   ]
  },
  {
   "cell_type": "code",
   "execution_count": 21,
   "metadata": {},
   "outputs": [
    {
     "output_type": "execute_result",
     "data": {
      "text/html": "<div style=\"max-height:1000px;max-width:1500px;overflow:auto;\"><table frame=\"box\" rules=\"cols\">\n    <tr>\n        <th style=\"padding-left: 1em; padding-right: 1em; text-align: center\">URI</th>\n        <th style=\"padding-left: 1em; padding-right: 1em; text-align: center\">name</th>\n        <th style=\"padding-left: 1em; padding-right: 1em; text-align: center\">text</th>\n        <th style=\"padding-left: 1em; padding-right: 1em; text-align: center\">word_count</th>\n    </tr>\n    <tr>\n        <td style=\"padding-left: 1em; padding-right: 1em; text-align: center; vertical-align: top\">&lt;http://dbpedia.org/resou<br>rce/Victoria_Beckham&gt; ...</td>\n        <td style=\"padding-left: 1em; padding-right: 1em; text-align: center; vertical-align: top\">Victoria Beckham</td>\n        <td style=\"padding-left: 1em; padding-right: 1em; text-align: center; vertical-align: top\">victoria caroline beckham<br>ne adams born 17 april ...</td>\n        <td style=\"padding-left: 1em; padding-right: 1em; text-align: center; vertical-align: top\">{&#x27;week&#x27;: 1.0, &#x27;york&#x27;:<br>1.0, &#x27;show&#x27;: 1.0, ...</td>\n    </tr>\n</table>\n<table frame=\"box\" rules=\"cols\">\n    <tr>\n        <th style=\"padding-left: 1em; padding-right: 1em; text-align: center\">tfidf</th>\n    </tr>\n    <tr>\n        <td style=\"padding-left: 1em; padding-right: 1em; text-align: center; vertical-align: top\">{&#x27;week&#x27;:<br>3.57252509903475, &#x27;yo ...</td>\n    </tr>\n</table>\n[? rows x 5 columns]<br/>Note: Only the head of the SFrame is printed. This SFrame is lazily evaluated.<br/>You can use sf.materialize() to force materialization.\n</div>",
      "text/plain": "Columns:\n\tURI\tstr\n\tname\tstr\n\ttext\tstr\n\tword_count\tdict\n\ttfidf\tdict\n\nRows: Unknown\n\nData:\n+-------------------------------+------------------+\n|              URI              |       name       |\n+-------------------------------+------------------+\n| <http://dbpedia.org/resour... | Victoria Beckham |\n+-------------------------------+------------------+\n+-------------------------------+-------------------------------+\n|              text             |           word_count          |\n+-------------------------------+-------------------------------+\n| victoria caroline beckham ... | {'week': 1.0, 'york': 1.0,... |\n+-------------------------------+-------------------------------+\n+-------------------------------+\n|             tfidf             |\n+-------------------------------+\n| {'week': 3.57252509903475,... |\n+-------------------------------+\n[? rows x 5 columns]\nNote: Only the head of the SFrame is printed. This SFrame is lazily evaluated.\nYou can use sf.materialize() to force materialization."
     },
     "metadata": {},
     "execution_count": 21
    }
   ],
   "source": [
    "vct"
   ]
  },
  {
   "cell_type": "code",
   "execution_count": 22,
   "metadata": {},
   "outputs": [],
   "source": [
    "paul=sf[sf[\"name\"]==\"Paul McCartney\"]"
   ]
  },
  {
   "cell_type": "code",
   "execution_count": 23,
   "metadata": {},
   "outputs": [
    {
     "output_type": "execute_result",
     "data": {
      "text/html": "<div style=\"max-height:1000px;max-width:1500px;overflow:auto;\"><table frame=\"box\" rules=\"cols\">\n    <tr>\n        <th style=\"padding-left: 1em; padding-right: 1em; text-align: center\">URI</th>\n        <th style=\"padding-left: 1em; padding-right: 1em; text-align: center\">name</th>\n        <th style=\"padding-left: 1em; padding-right: 1em; text-align: center\">text</th>\n        <th style=\"padding-left: 1em; padding-right: 1em; text-align: center\">word_count</th>\n    </tr>\n    <tr>\n        <td style=\"padding-left: 1em; padding-right: 1em; text-align: center; vertical-align: top\">&lt;http://dbpedia.org/resou<br>rce/Paul_McCartney&gt; ...</td>\n        <td style=\"padding-left: 1em; padding-right: 1em; text-align: center; vertical-align: top\">Paul McCartney</td>\n        <td style=\"padding-left: 1em; padding-right: 1em; text-align: center; vertical-align: top\">sir james paul mccartney<br>mbe born 18 june 1942 is ...</td>\n        <td style=\"padding-left: 1em; padding-right: 1em; text-align: center; vertical-align: top\">{&#x27;children&#x27;: 1.0, &#x27;five&#x27;:<br>1.0, &#x27;married&#x27;: 1.0, ...</td>\n    </tr>\n</table>\n<table frame=\"box\" rules=\"cols\">\n    <tr>\n        <th style=\"padding-left: 1em; padding-right: 1em; text-align: center\">tfidf</th>\n    </tr>\n    <tr>\n        <td style=\"padding-left: 1em; padding-right: 1em; text-align: center; vertical-align: top\">{&#x27;children&#x27;:<br>2.4252853123921825, ...</td>\n    </tr>\n</table>\n[? rows x 5 columns]<br/>Note: Only the head of the SFrame is printed. This SFrame is lazily evaluated.<br/>You can use sf.materialize() to force materialization.\n</div>",
      "text/plain": "Columns:\n\tURI\tstr\n\tname\tstr\n\ttext\tstr\n\tword_count\tdict\n\ttfidf\tdict\n\nRows: Unknown\n\nData:\n+-------------------------------+----------------+\n|              URI              |      name      |\n+-------------------------------+----------------+\n| <http://dbpedia.org/resour... | Paul McCartney |\n+-------------------------------+----------------+\n+-------------------------------+-------------------------------+\n|              text             |           word_count          |\n+-------------------------------+-------------------------------+\n| sir james paul mccartney m... | {'children': 1.0, 'five': ... |\n+-------------------------------+-------------------------------+\n+-------------------------------+\n|             tfidf             |\n+-------------------------------+\n| {'children': 2.42528531239... |\n+-------------------------------+\n[? rows x 5 columns]\nNote: Only the head of the SFrame is printed. This SFrame is lazily evaluated.\nYou can use sf.materialize() to force materialization."
     },
     "metadata": {},
     "execution_count": 23
    }
   ],
   "source": [
    "paul"
   ]
  },
  {
   "cell_type": "code",
   "execution_count": 25,
   "metadata": {},
   "outputs": [
    {
     "output_type": "execute_result",
     "data": {
      "text/plain": "0.9567006376655429"
     },
     "metadata": {},
     "execution_count": 25
    }
   ],
   "source": [
    "turicreate.distances.cosine(vct['tfidf'][0],john['tfidf'][0])"
   ]
  },
  {
   "cell_type": "code",
   "execution_count": 26,
   "metadata": {},
   "outputs": [
    {
     "output_type": "execute_result",
     "data": {
      "text/plain": "0.8250310029221779"
     },
     "metadata": {},
     "execution_count": 26
    }
   ],
   "source": [
    "turicreate.distances.cosine(paul['tfidf'][0],john['tfidf'][0])"
   ]
  },
  {
   "cell_type": "code",
   "execution_count": 27,
   "metadata": {},
   "outputs": [
    {
     "output_type": "display_data",
     "data": {
      "text/html": "<pre>Starting brute force nearest neighbors model training.</pre>",
      "text/plain": "Starting brute force nearest neighbors model training."
     },
     "metadata": {}
    },
    {
     "output_type": "display_data",
     "data": {
      "text/html": "<pre>Validating distance components.</pre>",
      "text/plain": "Validating distance components."
     },
     "metadata": {}
    },
    {
     "output_type": "display_data",
     "data": {
      "text/html": "<pre>Initializing model data.</pre>",
      "text/plain": "Initializing model data."
     },
     "metadata": {}
    },
    {
     "output_type": "display_data",
     "data": {
      "text/html": "<pre>Initializing distances.</pre>",
      "text/plain": "Initializing distances."
     },
     "metadata": {}
    },
    {
     "output_type": "display_data",
     "data": {
      "text/html": "<pre>Done.</pre>",
      "text/plain": "Done."
     },
     "metadata": {}
    }
   ],
   "source": [
    "wordknn=turicreate.nearest_neighbors.create(sf,features=['word_count'],label='name')"
   ]
  },
  {
   "cell_type": "code",
   "execution_count": 28,
   "metadata": {},
   "outputs": [
    {
     "output_type": "display_data",
     "data": {
      "text/html": "<pre>Starting brute force nearest neighbors model training.</pre>",
      "text/plain": "Starting brute force nearest neighbors model training."
     },
     "metadata": {}
    },
    {
     "output_type": "display_data",
     "data": {
      "text/html": "<pre>Validating distance components.</pre>",
      "text/plain": "Validating distance components."
     },
     "metadata": {}
    },
    {
     "output_type": "display_data",
     "data": {
      "text/html": "<pre>Initializing model data.</pre>",
      "text/plain": "Initializing model data."
     },
     "metadata": {}
    },
    {
     "output_type": "display_data",
     "data": {
      "text/html": "<pre>Initializing distances.</pre>",
      "text/plain": "Initializing distances."
     },
     "metadata": {}
    },
    {
     "output_type": "display_data",
     "data": {
      "text/html": "<pre>Done.</pre>",
      "text/plain": "Done."
     },
     "metadata": {}
    }
   ],
   "source": [
    "tfknn=turicreate.nearest_neighbors.create(sf,features=['tfidf'],label='name')"
   ]
  },
  {
   "cell_type": "code",
   "execution_count": 29,
   "metadata": {},
   "outputs": [
    {
     "output_type": "display_data",
     "data": {
      "text/html": "<pre>Starting pairwise querying.</pre>",
      "text/plain": "Starting pairwise querying."
     },
     "metadata": {}
    },
    {
     "output_type": "display_data",
     "data": {
      "text/html": "<pre>+--------------+---------+-------------+--------------+</pre>",
      "text/plain": "+--------------+---------+-------------+--------------+"
     },
     "metadata": {}
    },
    {
     "output_type": "display_data",
     "data": {
      "text/html": "<pre>| Query points | # Pairs | % Complete. | Elapsed Time |</pre>",
      "text/plain": "| Query points | # Pairs | % Complete. | Elapsed Time |"
     },
     "metadata": {}
    },
    {
     "output_type": "display_data",
     "data": {
      "text/html": "<pre>+--------------+---------+-------------+--------------+</pre>",
      "text/plain": "+--------------+---------+-------------+--------------+"
     },
     "metadata": {}
    },
    {
     "output_type": "display_data",
     "data": {
      "text/html": "<pre>| 0            | 1       | 0.00169288  | 15.416ms     |</pre>",
      "text/plain": "| 0            | 1       | 0.00169288  | 15.416ms     |"
     },
     "metadata": {}
    },
    {
     "output_type": "display_data",
     "data": {
      "text/html": "<pre>| Done         |         | 100         | 432.306ms    |</pre>",
      "text/plain": "| Done         |         | 100         | 432.306ms    |"
     },
     "metadata": {}
    },
    {
     "output_type": "display_data",
     "data": {
      "text/html": "<pre>+--------------+---------+-------------+--------------+</pre>",
      "text/plain": "+--------------+---------+-------------+--------------+"
     },
     "metadata": {}
    },
    {
     "output_type": "execute_result",
     "data": {
      "text/html": "<div style=\"max-height:1000px;max-width:1500px;overflow:auto;\"><table frame=\"box\" rules=\"cols\">\n    <tr>\n        <th style=\"padding-left: 1em; padding-right: 1em; text-align: center\">query_label</th>\n        <th style=\"padding-left: 1em; padding-right: 1em; text-align: center\">reference_label</th>\n        <th style=\"padding-left: 1em; padding-right: 1em; text-align: center\">distance</th>\n        <th style=\"padding-left: 1em; padding-right: 1em; text-align: center\">rank</th>\n    </tr>\n    <tr>\n        <td style=\"padding-left: 1em; padding-right: 1em; text-align: center; vertical-align: top\">0</td>\n        <td style=\"padding-left: 1em; padding-right: 1em; text-align: center; vertical-align: top\">Elton John</td>\n        <td style=\"padding-left: 1em; padding-right: 1em; text-align: center; vertical-align: top\">0.0</td>\n        <td style=\"padding-left: 1em; padding-right: 1em; text-align: center; vertical-align: top\">1</td>\n    </tr>\n    <tr>\n        <td style=\"padding-left: 1em; padding-right: 1em; text-align: center; vertical-align: top\">0</td>\n        <td style=\"padding-left: 1em; padding-right: 1em; text-align: center; vertical-align: top\">Phil Collins</td>\n        <td style=\"padding-left: 1em; padding-right: 1em; text-align: center; vertical-align: top\">0.7639902676399026</td>\n        <td style=\"padding-left: 1em; padding-right: 1em; text-align: center; vertical-align: top\">2</td>\n    </tr>\n    <tr>\n        <td style=\"padding-left: 1em; padding-right: 1em; text-align: center; vertical-align: top\">0</td>\n        <td style=\"padding-left: 1em; padding-right: 1em; text-align: center; vertical-align: top\">Rod Stewart</td>\n        <td style=\"padding-left: 1em; padding-right: 1em; text-align: center; vertical-align: top\">0.7733333333333333</td>\n        <td style=\"padding-left: 1em; padding-right: 1em; text-align: center; vertical-align: top\">3</td>\n    </tr>\n    <tr>\n        <td style=\"padding-left: 1em; padding-right: 1em; text-align: center; vertical-align: top\">0</td>\n        <td style=\"padding-left: 1em; padding-right: 1em; text-align: center; vertical-align: top\">Annie Lennox</td>\n        <td style=\"padding-left: 1em; padding-right: 1em; text-align: center; vertical-align: top\">0.7766233766233767</td>\n        <td style=\"padding-left: 1em; padding-right: 1em; text-align: center; vertical-align: top\">4</td>\n    </tr>\n    <tr>\n        <td style=\"padding-left: 1em; padding-right: 1em; text-align: center; vertical-align: top\">0</td>\n        <td style=\"padding-left: 1em; padding-right: 1em; text-align: center; vertical-align: top\">Barry Gibb</td>\n        <td style=\"padding-left: 1em; padding-right: 1em; text-align: center; vertical-align: top\">0.780952380952381</td>\n        <td style=\"padding-left: 1em; padding-right: 1em; text-align: center; vertical-align: top\">5</td>\n    </tr>\n</table>\n[5 rows x 4 columns]<br/>\n</div>",
      "text/plain": "Columns:\n\tquery_label\tint\n\treference_label\tstr\n\tdistance\tfloat\n\trank\tint\n\nRows: 5\n\nData:\n+-------------+-----------------+--------------------+------+\n| query_label | reference_label |      distance      | rank |\n+-------------+-----------------+--------------------+------+\n|      0      |    Elton John   |        0.0         |  1   |\n|      0      |   Phil Collins  | 0.7639902676399026 |  2   |\n|      0      |   Rod Stewart   | 0.7733333333333333 |  3   |\n|      0      |   Annie Lennox  | 0.7766233766233767 |  4   |\n|      0      |    Barry Gibb   | 0.780952380952381  |  5   |\n+-------------+-----------------+--------------------+------+\n[5 rows x 4 columns]"
     },
     "metadata": {},
     "execution_count": 29
    }
   ],
   "source": [
    "wordknn.query(john)"
   ]
  },
  {
   "cell_type": "code",
   "execution_count": 30,
   "metadata": {},
   "outputs": [
    {
     "output_type": "display_data",
     "data": {
      "text/html": "<pre>Starting pairwise querying.</pre>",
      "text/plain": "Starting pairwise querying."
     },
     "metadata": {}
    },
    {
     "output_type": "display_data",
     "data": {
      "text/html": "<pre>+--------------+---------+-------------+--------------+</pre>",
      "text/plain": "+--------------+---------+-------------+--------------+"
     },
     "metadata": {}
    },
    {
     "output_type": "display_data",
     "data": {
      "text/html": "<pre>| Query points | # Pairs | % Complete. | Elapsed Time |</pre>",
      "text/plain": "| Query points | # Pairs | % Complete. | Elapsed Time |"
     },
     "metadata": {}
    },
    {
     "output_type": "display_data",
     "data": {
      "text/html": "<pre>+--------------+---------+-------------+--------------+</pre>",
      "text/plain": "+--------------+---------+-------------+--------------+"
     },
     "metadata": {}
    },
    {
     "output_type": "display_data",
     "data": {
      "text/html": "<pre>| 0            | 1       | 0.00169288  | 12.677ms     |</pre>",
      "text/plain": "| 0            | 1       | 0.00169288  | 12.677ms     |"
     },
     "metadata": {}
    },
    {
     "output_type": "display_data",
     "data": {
      "text/html": "<pre>| Done         |         | 100         | 298.92ms     |</pre>",
      "text/plain": "| Done         |         | 100         | 298.92ms     |"
     },
     "metadata": {}
    },
    {
     "output_type": "display_data",
     "data": {
      "text/html": "<pre>+--------------+---------+-------------+--------------+</pre>",
      "text/plain": "+--------------+---------+-------------+--------------+"
     },
     "metadata": {}
    },
    {
     "output_type": "execute_result",
     "data": {
      "text/html": "<div style=\"max-height:1000px;max-width:1500px;overflow:auto;\"><table frame=\"box\" rules=\"cols\">\n    <tr>\n        <th style=\"padding-left: 1em; padding-right: 1em; text-align: center\">query_label</th>\n        <th style=\"padding-left: 1em; padding-right: 1em; text-align: center\">reference_label</th>\n        <th style=\"padding-left: 1em; padding-right: 1em; text-align: center\">distance</th>\n        <th style=\"padding-left: 1em; padding-right: 1em; text-align: center\">rank</th>\n    </tr>\n    <tr>\n        <td style=\"padding-left: 1em; padding-right: 1em; text-align: center; vertical-align: top\">0</td>\n        <td style=\"padding-left: 1em; padding-right: 1em; text-align: center; vertical-align: top\">Elton John</td>\n        <td style=\"padding-left: 1em; padding-right: 1em; text-align: center; vertical-align: top\">0.0</td>\n        <td style=\"padding-left: 1em; padding-right: 1em; text-align: center; vertical-align: top\">1</td>\n    </tr>\n    <tr>\n        <td style=\"padding-left: 1em; padding-right: 1em; text-align: center; vertical-align: top\">0</td>\n        <td style=\"padding-left: 1em; padding-right: 1em; text-align: center; vertical-align: top\">Phil Collins</td>\n        <td style=\"padding-left: 1em; padding-right: 1em; text-align: center; vertical-align: top\">0.7639902676399026</td>\n        <td style=\"padding-left: 1em; padding-right: 1em; text-align: center; vertical-align: top\">2</td>\n    </tr>\n    <tr>\n        <td style=\"padding-left: 1em; padding-right: 1em; text-align: center; vertical-align: top\">0</td>\n        <td style=\"padding-left: 1em; padding-right: 1em; text-align: center; vertical-align: top\">Rod Stewart</td>\n        <td style=\"padding-left: 1em; padding-right: 1em; text-align: center; vertical-align: top\">0.7733333333333333</td>\n        <td style=\"padding-left: 1em; padding-right: 1em; text-align: center; vertical-align: top\">3</td>\n    </tr>\n    <tr>\n        <td style=\"padding-left: 1em; padding-right: 1em; text-align: center; vertical-align: top\">0</td>\n        <td style=\"padding-left: 1em; padding-right: 1em; text-align: center; vertical-align: top\">Annie Lennox</td>\n        <td style=\"padding-left: 1em; padding-right: 1em; text-align: center; vertical-align: top\">0.7766233766233767</td>\n        <td style=\"padding-left: 1em; padding-right: 1em; text-align: center; vertical-align: top\">4</td>\n    </tr>\n    <tr>\n        <td style=\"padding-left: 1em; padding-right: 1em; text-align: center; vertical-align: top\">0</td>\n        <td style=\"padding-left: 1em; padding-right: 1em; text-align: center; vertical-align: top\">Barry Gibb</td>\n        <td style=\"padding-left: 1em; padding-right: 1em; text-align: center; vertical-align: top\">0.780952380952381</td>\n        <td style=\"padding-left: 1em; padding-right: 1em; text-align: center; vertical-align: top\">5</td>\n    </tr>\n</table>\n[5 rows x 4 columns]<br/>\n</div>",
      "text/plain": "Columns:\n\tquery_label\tint\n\treference_label\tstr\n\tdistance\tfloat\n\trank\tint\n\nRows: 5\n\nData:\n+-------------+-----------------+--------------------+------+\n| query_label | reference_label |      distance      | rank |\n+-------------+-----------------+--------------------+------+\n|      0      |    Elton John   |        0.0         |  1   |\n|      0      |   Phil Collins  | 0.7639902676399026 |  2   |\n|      0      |   Rod Stewart   | 0.7733333333333333 |  3   |\n|      0      |   Annie Lennox  | 0.7766233766233767 |  4   |\n|      0      |    Barry Gibb   | 0.780952380952381  |  5   |\n+-------------+-----------------+--------------------+------+\n[5 rows x 4 columns]"
     },
     "metadata": {},
     "execution_count": 30
    }
   ],
   "source": [
    "tfknn.query(john)"
   ]
  },
  {
   "cell_type": "code",
   "execution_count": 32,
   "metadata": {},
   "outputs": [
    {
     "output_type": "display_data",
     "data": {
      "text/html": "<pre>Starting pairwise querying.</pre>",
      "text/plain": "Starting pairwise querying."
     },
     "metadata": {}
    },
    {
     "output_type": "display_data",
     "data": {
      "text/html": "<pre>+--------------+---------+-------------+--------------+</pre>",
      "text/plain": "+--------------+---------+-------------+--------------+"
     },
     "metadata": {}
    },
    {
     "output_type": "display_data",
     "data": {
      "text/html": "<pre>| Query points | # Pairs | % Complete. | Elapsed Time |</pre>",
      "text/plain": "| Query points | # Pairs | % Complete. | Elapsed Time |"
     },
     "metadata": {}
    },
    {
     "output_type": "display_data",
     "data": {
      "text/html": "<pre>+--------------+---------+-------------+--------------+</pre>",
      "text/plain": "+--------------+---------+-------------+--------------+"
     },
     "metadata": {}
    },
    {
     "output_type": "display_data",
     "data": {
      "text/html": "<pre>| 0            | 1       | 0.00169288  | 20.375ms     |</pre>",
      "text/plain": "| 0            | 1       | 0.00169288  | 20.375ms     |"
     },
     "metadata": {}
    },
    {
     "output_type": "display_data",
     "data": {
      "text/html": "<pre>| Done         |         | 100         | 299.975ms    |</pre>",
      "text/plain": "| Done         |         | 100         | 299.975ms    |"
     },
     "metadata": {}
    },
    {
     "output_type": "display_data",
     "data": {
      "text/html": "<pre>+--------------+---------+-------------+--------------+</pre>",
      "text/plain": "+--------------+---------+-------------+--------------+"
     },
     "metadata": {}
    },
    {
     "output_type": "execute_result",
     "data": {
      "text/html": "<div style=\"max-height:1000px;max-width:1500px;overflow:auto;\"><table frame=\"box\" rules=\"cols\">\n    <tr>\n        <th style=\"padding-left: 1em; padding-right: 1em; text-align: center\">query_label</th>\n        <th style=\"padding-left: 1em; padding-right: 1em; text-align: center\">reference_label</th>\n        <th style=\"padding-left: 1em; padding-right: 1em; text-align: center\">distance</th>\n        <th style=\"padding-left: 1em; padding-right: 1em; text-align: center\">rank</th>\n    </tr>\n    <tr>\n        <td style=\"padding-left: 1em; padding-right: 1em; text-align: center; vertical-align: top\">0</td>\n        <td style=\"padding-left: 1em; padding-right: 1em; text-align: center; vertical-align: top\">Victoria Beckham</td>\n        <td style=\"padding-left: 1em; padding-right: 1em; text-align: center; vertical-align: top\">0.0</td>\n        <td style=\"padding-left: 1em; padding-right: 1em; text-align: center; vertical-align: top\">1</td>\n    </tr>\n    <tr>\n        <td style=\"padding-left: 1em; padding-right: 1em; text-align: center; vertical-align: top\">0</td>\n        <td style=\"padding-left: 1em; padding-right: 1em; text-align: center; vertical-align: top\">Cheryl Cole</td>\n        <td style=\"padding-left: 1em; padding-right: 1em; text-align: center; vertical-align: top\">0.8005865102639296</td>\n        <td style=\"padding-left: 1em; padding-right: 1em; text-align: center; vertical-align: top\">2</td>\n    </tr>\n    <tr>\n        <td style=\"padding-left: 1em; padding-right: 1em; text-align: center; vertical-align: top\">0</td>\n        <td style=\"padding-left: 1em; padding-right: 1em; text-align: center; vertical-align: top\">Heidi Klum</td>\n        <td style=\"padding-left: 1em; padding-right: 1em; text-align: center; vertical-align: top\">0.8103448275862069</td>\n        <td style=\"padding-left: 1em; padding-right: 1em; text-align: center; vertical-align: top\">3</td>\n    </tr>\n    <tr>\n        <td style=\"padding-left: 1em; padding-right: 1em; text-align: center; vertical-align: top\">0</td>\n        <td style=\"padding-left: 1em; padding-right: 1em; text-align: center; vertical-align: top\">Simon Fuller</td>\n        <td style=\"padding-left: 1em; padding-right: 1em; text-align: center; vertical-align: top\">0.822742474916388</td>\n        <td style=\"padding-left: 1em; padding-right: 1em; text-align: center; vertical-align: top\">4</td>\n    </tr>\n    <tr>\n        <td style=\"padding-left: 1em; padding-right: 1em; text-align: center; vertical-align: top\">0</td>\n        <td style=\"padding-left: 1em; padding-right: 1em; text-align: center; vertical-align: top\">Adele</td>\n        <td style=\"padding-left: 1em; padding-right: 1em; text-align: center; vertical-align: top\">0.8249158249158249</td>\n        <td style=\"padding-left: 1em; padding-right: 1em; text-align: center; vertical-align: top\">5</td>\n    </tr>\n</table>\n[5 rows x 4 columns]<br/>\n</div>",
      "text/plain": "Columns:\n\tquery_label\tint\n\treference_label\tstr\n\tdistance\tfloat\n\trank\tint\n\nRows: 5\n\nData:\n+-------------+------------------+--------------------+------+\n| query_label | reference_label  |      distance      | rank |\n+-------------+------------------+--------------------+------+\n|      0      | Victoria Beckham |        0.0         |  1   |\n|      0      |   Cheryl Cole    | 0.8005865102639296 |  2   |\n|      0      |    Heidi Klum    | 0.8103448275862069 |  3   |\n|      0      |   Simon Fuller   | 0.822742474916388  |  4   |\n|      0      |      Adele       | 0.8249158249158249 |  5   |\n+-------------+------------------+--------------------+------+\n[5 rows x 4 columns]"
     },
     "metadata": {},
     "execution_count": 32
    }
   ],
   "source": [
    "wordknn.query(vct)"
   ]
  },
  {
   "cell_type": "code",
   "execution_count": 33,
   "metadata": {},
   "outputs": [
    {
     "output_type": "display_data",
     "data": {
      "text/html": "<pre>Starting pairwise querying.</pre>",
      "text/plain": "Starting pairwise querying."
     },
     "metadata": {}
    },
    {
     "output_type": "display_data",
     "data": {
      "text/html": "<pre>+--------------+---------+-------------+--------------+</pre>",
      "text/plain": "+--------------+---------+-------------+--------------+"
     },
     "metadata": {}
    },
    {
     "output_type": "display_data",
     "data": {
      "text/html": "<pre>| Query points | # Pairs | % Complete. | Elapsed Time |</pre>",
      "text/plain": "| Query points | # Pairs | % Complete. | Elapsed Time |"
     },
     "metadata": {}
    },
    {
     "output_type": "display_data",
     "data": {
      "text/html": "<pre>+--------------+---------+-------------+--------------+</pre>",
      "text/plain": "+--------------+---------+-------------+--------------+"
     },
     "metadata": {}
    },
    {
     "output_type": "display_data",
     "data": {
      "text/html": "<pre>| 0            | 1       | 0.00169288  | 13.616ms     |</pre>",
      "text/plain": "| 0            | 1       | 0.00169288  | 13.616ms     |"
     },
     "metadata": {}
    },
    {
     "output_type": "display_data",
     "data": {
      "text/html": "<pre>| Done         |         | 100         | 287.263ms    |</pre>",
      "text/plain": "| Done         |         | 100         | 287.263ms    |"
     },
     "metadata": {}
    },
    {
     "output_type": "display_data",
     "data": {
      "text/html": "<pre>+--------------+---------+-------------+--------------+</pre>",
      "text/plain": "+--------------+---------+-------------+--------------+"
     },
     "metadata": {}
    },
    {
     "output_type": "execute_result",
     "data": {
      "text/html": "<div style=\"max-height:1000px;max-width:1500px;overflow:auto;\"><table frame=\"box\" rules=\"cols\">\n    <tr>\n        <th style=\"padding-left: 1em; padding-right: 1em; text-align: center\">query_label</th>\n        <th style=\"padding-left: 1em; padding-right: 1em; text-align: center\">reference_label</th>\n        <th style=\"padding-left: 1em; padding-right: 1em; text-align: center\">distance</th>\n        <th style=\"padding-left: 1em; padding-right: 1em; text-align: center\">rank</th>\n    </tr>\n    <tr>\n        <td style=\"padding-left: 1em; padding-right: 1em; text-align: center; vertical-align: top\">0</td>\n        <td style=\"padding-left: 1em; padding-right: 1em; text-align: center; vertical-align: top\">Victoria Beckham</td>\n        <td style=\"padding-left: 1em; padding-right: 1em; text-align: center; vertical-align: top\">0.0</td>\n        <td style=\"padding-left: 1em; padding-right: 1em; text-align: center; vertical-align: top\">1</td>\n    </tr>\n    <tr>\n        <td style=\"padding-left: 1em; padding-right: 1em; text-align: center; vertical-align: top\">0</td>\n        <td style=\"padding-left: 1em; padding-right: 1em; text-align: center; vertical-align: top\">Cheryl Cole</td>\n        <td style=\"padding-left: 1em; padding-right: 1em; text-align: center; vertical-align: top\">0.8005865102639296</td>\n        <td style=\"padding-left: 1em; padding-right: 1em; text-align: center; vertical-align: top\">2</td>\n    </tr>\n    <tr>\n        <td style=\"padding-left: 1em; padding-right: 1em; text-align: center; vertical-align: top\">0</td>\n        <td style=\"padding-left: 1em; padding-right: 1em; text-align: center; vertical-align: top\">Heidi Klum</td>\n        <td style=\"padding-left: 1em; padding-right: 1em; text-align: center; vertical-align: top\">0.8103448275862069</td>\n        <td style=\"padding-left: 1em; padding-right: 1em; text-align: center; vertical-align: top\">3</td>\n    </tr>\n    <tr>\n        <td style=\"padding-left: 1em; padding-right: 1em; text-align: center; vertical-align: top\">0</td>\n        <td style=\"padding-left: 1em; padding-right: 1em; text-align: center; vertical-align: top\">Simon Fuller</td>\n        <td style=\"padding-left: 1em; padding-right: 1em; text-align: center; vertical-align: top\">0.822742474916388</td>\n        <td style=\"padding-left: 1em; padding-right: 1em; text-align: center; vertical-align: top\">4</td>\n    </tr>\n    <tr>\n        <td style=\"padding-left: 1em; padding-right: 1em; text-align: center; vertical-align: top\">0</td>\n        <td style=\"padding-left: 1em; padding-right: 1em; text-align: center; vertical-align: top\">Adele</td>\n        <td style=\"padding-left: 1em; padding-right: 1em; text-align: center; vertical-align: top\">0.8249158249158249</td>\n        <td style=\"padding-left: 1em; padding-right: 1em; text-align: center; vertical-align: top\">5</td>\n    </tr>\n</table>\n[5 rows x 4 columns]<br/>\n</div>",
      "text/plain": "Columns:\n\tquery_label\tint\n\treference_label\tstr\n\tdistance\tfloat\n\trank\tint\n\nRows: 5\n\nData:\n+-------------+------------------+--------------------+------+\n| query_label | reference_label  |      distance      | rank |\n+-------------+------------------+--------------------+------+\n|      0      | Victoria Beckham |        0.0         |  1   |\n|      0      |   Cheryl Cole    | 0.8005865102639296 |  2   |\n|      0      |    Heidi Klum    | 0.8103448275862069 |  3   |\n|      0      |   Simon Fuller   | 0.822742474916388  |  4   |\n|      0      |      Adele       | 0.8249158249158249 |  5   |\n+-------------+------------------+--------------------+------+\n[5 rows x 4 columns]"
     },
     "metadata": {},
     "execution_count": 33
    }
   ],
   "source": [
    "tfknn.query(vct)"
   ]
  },
  {
   "cell_type": "code",
   "execution_count": null,
   "metadata": {},
   "outputs": [],
   "source": []
  }
 ]
}