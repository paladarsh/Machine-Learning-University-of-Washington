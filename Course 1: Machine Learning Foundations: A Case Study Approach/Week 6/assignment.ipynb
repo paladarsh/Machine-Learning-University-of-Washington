{
 "nbformat": 4,
 "nbformat_minor": 2,
 "metadata": {
  "language_info": {
   "name": "python",
   "codemirror_mode": {
    "name": "ipython",
    "version": 2
   },
   "version": "2.7.17-final"
  },
  "orig_nbformat": 2,
  "file_extension": ".py",
  "mimetype": "text/x-python",
  "name": "python",
  "npconvert_exporter": "python",
  "pygments_lexer": "ipython2",
  "version": 2,
  "kernelspec": {
   "name": "python37764bitvirtualconda69d1cf11974a42aeb8d91780d46258cc",
   "display_name": "Python 3.7.7 64-bit ('virtual': conda)"
  }
 },
 "cells": [
  {
   "cell_type": "code",
   "execution_count": 72,
   "metadata": {},
   "outputs": [],
   "source": [
    "import turicreate"
   ]
  },
  {
   "cell_type": "code",
   "execution_count": 73,
   "metadata": {},
   "outputs": [],
   "source": [
    "train=turicreate.SFrame('image_train_data')"
   ]
  },
  {
   "cell_type": "markdown",
   "metadata": {},
   "source": [
    "# Computing summary statistics of data"
   ],
   "execution_count": null,
   "outputs": []
  },
  {
   "cell_type": "code",
   "execution_count": 74,
   "metadata": {},
   "outputs": [],
   "source": [
    "sketch=turicreate.Sketch(train['label'])"
   ]
  },
  {
   "cell_type": "code",
   "execution_count": 75,
   "metadata": {},
   "outputs": [
    {
     "output_type": "execute_result",
     "data": {
      "text/plain": "\n+------------------+-------+----------+\n|       item       | value | is exact |\n+------------------+-------+----------+\n|      Length      |  2005 |   Yes    |\n| # Missing Values |   0   |   Yes    |\n| # unique values  |   4   |    No    |\n+------------------+-------+----------+\n\nMost frequent items:\n+------------+-------+\n|   value    | count |\n+------------+-------+\n|    cat     |  509  |\n|    dog     |  509  |\n| automobile |  509  |\n|    bird    |  478  |\n+------------+-------+\n"
     },
     "metadata": {},
     "execution_count": 75
    }
   ],
   "source": [
    "sketch"
   ]
  },
  {
   "cell_type": "code",
   "execution_count": 76,
   "metadata": {},
   "outputs": [],
   "source": [
    "cat=train[train['label']=='cat']\n",
    "dog=train[train['label']=='dog']\n",
    "automobile=train[train['label']=='automobile']\n",
    "bird=train[train['label']=='bird']"
   ]
  },
  {
   "cell_type": "code",
   "execution_count": 77,
   "metadata": {},
   "outputs": [
    {
     "output_type": "display_data",
     "data": {
      "text/html": "<pre>Starting brute force nearest neighbors model training.</pre>",
      "text/plain": "Starting brute force nearest neighbors model training."
     },
     "metadata": {}
    },
    {
     "output_type": "display_data",
     "data": {
      "text/html": "<pre>Validating distance components.</pre>",
      "text/plain": "Validating distance components."
     },
     "metadata": {}
    },
    {
     "output_type": "display_data",
     "data": {
      "text/html": "<pre>Initializing model data.</pre>",
      "text/plain": "Initializing model data."
     },
     "metadata": {}
    },
    {
     "output_type": "display_data",
     "data": {
      "text/html": "<pre>Initializing distances.</pre>",
      "text/plain": "Initializing distances."
     },
     "metadata": {}
    },
    {
     "output_type": "display_data",
     "data": {
      "text/html": "<pre>Done.</pre>",
      "text/plain": "Done."
     },
     "metadata": {}
    }
   ],
   "source": [
    "knncat=turicreate.nearest_neighbors.create(cat,features=['deep_features'],label='id')"
   ]
  },
  {
   "cell_type": "code",
   "execution_count": 78,
   "metadata": {},
   "outputs": [
    {
     "output_type": "display_data",
     "data": {
      "text/html": "<pre>Starting brute force nearest neighbors model training.</pre>",
      "text/plain": "Starting brute force nearest neighbors model training."
     },
     "metadata": {}
    },
    {
     "output_type": "display_data",
     "data": {
      "text/html": "<pre>Validating distance components.</pre>",
      "text/plain": "Validating distance components."
     },
     "metadata": {}
    },
    {
     "output_type": "display_data",
     "data": {
      "text/html": "<pre>Initializing model data.</pre>",
      "text/plain": "Initializing model data."
     },
     "metadata": {}
    },
    {
     "output_type": "display_data",
     "data": {
      "text/html": "<pre>Initializing distances.</pre>",
      "text/plain": "Initializing distances."
     },
     "metadata": {}
    },
    {
     "output_type": "display_data",
     "data": {
      "text/html": "<pre>Done.</pre>",
      "text/plain": "Done."
     },
     "metadata": {}
    }
   ],
   "source": [
    "knndog=turicreate.nearest_neighbors.create(dog,features=['deep_features'],label='id')"
   ]
  },
  {
   "cell_type": "code",
   "execution_count": 79,
   "metadata": {},
   "outputs": [
    {
     "output_type": "display_data",
     "data": {
      "text/html": "<pre>Starting brute force nearest neighbors model training.</pre>",
      "text/plain": "Starting brute force nearest neighbors model training."
     },
     "metadata": {}
    },
    {
     "output_type": "display_data",
     "data": {
      "text/html": "<pre>Validating distance components.</pre>",
      "text/plain": "Validating distance components."
     },
     "metadata": {}
    },
    {
     "output_type": "display_data",
     "data": {
      "text/html": "<pre>Initializing model data.</pre>",
      "text/plain": "Initializing model data."
     },
     "metadata": {}
    },
    {
     "output_type": "display_data",
     "data": {
      "text/html": "<pre>Initializing distances.</pre>",
      "text/plain": "Initializing distances."
     },
     "metadata": {}
    },
    {
     "output_type": "display_data",
     "data": {
      "text/html": "<pre>Done.</pre>",
      "text/plain": "Done."
     },
     "metadata": {}
    }
   ],
   "source": [
    "knnbird=turicreate.nearest_neighbors.create(bird,features=['deep_features'],label='id')"
   ]
  },
  {
   "cell_type": "code",
   "execution_count": 80,
   "metadata": {},
   "outputs": [
    {
     "output_type": "display_data",
     "data": {
      "text/html": "<pre>Starting brute force nearest neighbors model training.</pre>",
      "text/plain": "Starting brute force nearest neighbors model training."
     },
     "metadata": {}
    },
    {
     "output_type": "display_data",
     "data": {
      "text/html": "<pre>Validating distance components.</pre>",
      "text/plain": "Validating distance components."
     },
     "metadata": {}
    },
    {
     "output_type": "display_data",
     "data": {
      "text/html": "<pre>Initializing model data.</pre>",
      "text/plain": "Initializing model data."
     },
     "metadata": {}
    },
    {
     "output_type": "display_data",
     "data": {
      "text/html": "<pre>Initializing distances.</pre>",
      "text/plain": "Initializing distances."
     },
     "metadata": {}
    },
    {
     "output_type": "display_data",
     "data": {
      "text/html": "<pre>Done.</pre>",
      "text/plain": "Done."
     },
     "metadata": {}
    }
   ],
   "source": [
    "knnauto=turicreate.nearest_neighbors.create(automobile,features=['deep_features'],label='id')"
   ]
  },
  {
   "cell_type": "code",
   "execution_count": 81,
   "metadata": {},
   "outputs": [],
   "source": [
    "test=turicreate.SFrame(\"image_test_data\")"
   ]
  },
  {
   "cell_type": "code",
   "execution_count": 82,
   "metadata": {},
   "outputs": [
    {
     "output_type": "display_data",
     "data": {
      "text/html": "<html lang=\"en\">                                                     <head>                                                               <style>                                                              .sframe {                                                            font-size: 12px;                                                   font-family: HelveticaNeue;                                        border: 1px solid silver;                                        }                                                                  .sframe thead th {                                                   background: #F7F7F7;                                               font-family: HelveticaNeue-Medium;                                 font-size: 14px;                                                   line-height: 16.8px;                                               padding-top: 16px;                                                 padding-bottom: 16px;                                              padding-left: 10px;                                                padding-right: 38px;                                               border-top: 1px solid #E9E9E9;                                     border-bottom: 1px solid #E9E9E9;                                  white-space: nowrap;                                               overflow: hidden;                                                  text-overflow:ellipsis;                                            text-align:center;                                                 font-weight:normal;                                              }                                                                  .sframe tbody th {                                                   background: #FFFFFF;                                               text-align:left;                                                   font-weight:normal;                                                border-right: 1px solid #E9E9E9;                                 }                                                                  .sframe td {                                                         background: #FFFFFF;                                               padding-left: 10px;                                                padding-right: 38px;                                               padding-top: 14px;                                                 padding-bottom: 14px;                                              border-bottom: 1px solid #E9E9E9;                                  max-height: 0px;                                                   transition: max-height 5s ease-out;                                vertical-align: middle;                                            font-family: HelveticaNeue;                                        font-size: 12px;                                                   line-height: 16.8px;                                               background: #FFFFFF;                                             }                                                                  .sframe tr {                                                         padding-left: 10px;                                                padding-right: 38px;                                               padding-top: 14px;                                                 padding-bottom: 14px;                                              border-bottom: 1px solid #E9E9E9;                                  max-height: 0px;                                                   transition: max-height 5s ease-out;                                vertical-align: middle;                                            font-family: HelveticaNeue;                                        font-size: 12px;                                                   line-height: 16.8px;                                               background: #FFFFFF;                                             }                                                                  .sframe tr:hover {                                                   background: silver;                                              },                                                               </style>                                                         </head>                                                            <body>                                                               <h1>  </h1>                                             <table border=\"1\" class=\"dataframe sframe\">\n  <thead>\n    <tr style=\"text-align: right;\">\n      <th></th>\n      <th>id</th>\n      <th>image</th>\n      <th>label</th>\n      <th>deep_features</th>\n      <th>image_array</th>\n    </tr>\n  </thead>\n  <tbody>\n    <tr>\n      <th>0</th>\n      <td>0</td>\n      <td><img src=\"data:image/png;base64,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\"/></td>\n      <td>cat</td>\n      <td>[1.1346900463104248, 0.0, 0.0, 0.0, 0.03664976358413696, 0.0, 9.353598594665527, 0.0, 0.0, 0.0, 0.0, 0.0, 0.0, 0.0, 0.0, 1.3807746171951294, 0.19604480266571045, 0.49913910031318665, 0.0, 0.6409578919410706, 0.0, 0.7487727403640747, 0.0, 0.0, 0.0, 0.21078139543533325, 0.8158698081970215, 0.0, 0.0, 0.0, 0.0, 0.7258063554763794, 0.07810157537460327, 0.0, 0.0, 0.0, 0.0, 0.0, 0.0, 0.5415886640548706, 0.0, 0.0, 1.3465909957885742, 0.0, 1.0266674757003784, 0.0, 0.0, 0.0, 0.18154239654541016, 0.0, 0.0, 0.0, 0.0, 0.0, 0.0, 0.0, 0.48050999641418457, 0.0, 0.0, 0.0, 0.0, 0.0, 0.0, 0.960645318031311, 0.9239095449447632, 0.0, 2.424736261367798, 0.0, 0.0, 0.0, 0.0, 0.0, 3.5506184101104736, 0.0, 0.0, 1.3895796537399292, 0.0, 0.0, 0.0, 0.9751324653625488, 0.5319417715072632, 0.0, 0.0, 0.0, 0.0, 0.0, 0.0, 0.0, 0.0, 0.0, 0.0, 1.3387210369110107, 0.6500557661056519, 0.0, 0.0, 0.0, 0.0, 0.0, 0.0, 0.0, ...]</td>\n      <td>[158.0, 112.0, 49.0, 159.0, 111.0, 47.0, 165.0, 116.0, 51.0, 166.0, 118.0, 53.0, 160.0, 112.0, 46.0, 156.0, 109.0, 41.0, 162.0, 115.0, 47.0, 159.0, 113.0, 45.0, 158.0, 111.0, 44.0, 159.0, 113.0, 41.0, 161.0, 116.0, 41.0, 160.0, 111.0, 52.0, 161.0, 111.0, 49.0, 166.0, 117.0, 41.0, 169.0, 117.0, 45.0, 170.0, 119.0, 44.0, 167.0, 117.0, 40.0, 162.0, 113.0, 38.0, 160.0, 111.0, 39.0, 160.0, 112.0, 43.0, 156.0, 109.0, 44.0, 149.0, 107.0, 45.0, 150.0, 107.0, 45.0, 148.0, 106.0, 43.0, 149.0, 107.0, 44.0, 143.0, 101.0, 39.0, 140.0, 98.0, 43.0, 141.0, 97.0, 41.0, 143.0, 97.0, 38.0, 137.0, 95.0, 36.0, 126.0, 91.0, 36.0, 116.0, 85.0, 33.0, 152.0, 112.0, 51.0, 151.0, ...]</td>\n    </tr>\n  </tbody>\n</table>                          </body>                                                          </html>",
      "text/plain": "<IPython.core.display.HTML object>"
     },
     "metadata": {}
    }
   ],
   "source": [
    "test[0:1].explore()"
   ]
  },
  {
   "cell_type": "code",
   "execution_count": 84,
   "metadata": {},
   "outputs": [],
   "source": [
    "def getquerybylabel(queryresult):\n",
    "    return train.filter_by(queryresult['reference_label'],'id')"
   ]
  },
  {
   "cell_type": "code",
   "execution_count": 88,
   "metadata": {},
   "outputs": [],
   "source": [
    "catq=lambda x: getquerybylabel(knncat.query(test[x:x+1]))['image'].explore()\n",
    "dogq=lambda x: getquerybylabel(knndog.query(test[x:x+1]))['image'].explore()"
   ]
  },
  {
   "cell_type": "code",
   "execution_count": 99,
   "metadata": {},
   "outputs": [
    {
     "output_type": "display_data",
     "data": {
      "text/html": "<pre>Starting pairwise querying.</pre>",
      "text/plain": "Starting pairwise querying."
     },
     "metadata": {}
    },
    {
     "output_type": "display_data",
     "data": {
      "text/html": "<pre>+--------------+---------+-------------+--------------+</pre>",
      "text/plain": "+--------------+---------+-------------+--------------+"
     },
     "metadata": {}
    },
    {
     "output_type": "display_data",
     "data": {
      "text/html": "<pre>| Query points | # Pairs | % Complete. | Elapsed Time |</pre>",
      "text/plain": "| Query points | # Pairs | % Complete. | Elapsed Time |"
     },
     "metadata": {}
    },
    {
     "output_type": "display_data",
     "data": {
      "text/html": "<pre>+--------------+---------+-------------+--------------+</pre>",
      "text/plain": "+--------------+---------+-------------+--------------+"
     },
     "metadata": {}
    },
    {
     "output_type": "display_data",
     "data": {
      "text/html": "<pre>| 0            | 1       | 0.196464    | 4.942ms      |</pre>",
      "text/plain": "| 0            | 1       | 0.196464    | 4.942ms      |"
     },
     "metadata": {}
    },
    {
     "output_type": "display_data",
     "data": {
      "text/html": "<pre>| Done         |         | 100         | 57.741ms     |</pre>",
      "text/plain": "| Done         |         | 100         | 57.741ms     |"
     },
     "metadata": {}
    },
    {
     "output_type": "display_data",
     "data": {
      "text/html": "<pre>+--------------+---------+-------------+--------------+</pre>",
      "text/plain": "+--------------+---------+-------------+--------------+"
     },
     "metadata": {}
    },
    {
     "output_type": "execute_result",
     "data": {
      "text/plain": "36.15573070978294"
     },
     "metadata": {},
     "execution_count": 99
    }
   ],
   "source": [
    "knncat.query(test[0:1])['distance'].mean()"
   ]
  },
  {
   "cell_type": "code",
   "execution_count": 100,
   "metadata": {},
   "outputs": [
    {
     "output_type": "display_data",
     "data": {
      "text/html": "<pre>Starting pairwise querying.</pre>",
      "text/plain": "Starting pairwise querying."
     },
     "metadata": {}
    },
    {
     "output_type": "display_data",
     "data": {
      "text/html": "<pre>+--------------+---------+-------------+--------------+</pre>",
      "text/plain": "+--------------+---------+-------------+--------------+"
     },
     "metadata": {}
    },
    {
     "output_type": "display_data",
     "data": {
      "text/html": "<pre>| Query points | # Pairs | % Complete. | Elapsed Time |</pre>",
      "text/plain": "| Query points | # Pairs | % Complete. | Elapsed Time |"
     },
     "metadata": {}
    },
    {
     "output_type": "display_data",
     "data": {
      "text/html": "<pre>+--------------+---------+-------------+--------------+</pre>",
      "text/plain": "+--------------+---------+-------------+--------------+"
     },
     "metadata": {}
    },
    {
     "output_type": "display_data",
     "data": {
      "text/html": "<pre>| 0            | 1       | 0.196464    | 11.31ms      |</pre>",
      "text/plain": "| 0            | 1       | 0.196464    | 11.31ms      |"
     },
     "metadata": {}
    },
    {
     "output_type": "display_data",
     "data": {
      "text/html": "<pre>| Done         |         | 100         | 51.796ms     |</pre>",
      "text/plain": "| Done         |         | 100         | 51.796ms     |"
     },
     "metadata": {}
    },
    {
     "output_type": "display_data",
     "data": {
      "text/html": "<pre>+--------------+---------+-------------+--------------+</pre>",
      "text/plain": "+--------------+---------+-------------+--------------+"
     },
     "metadata": {}
    },
    {
     "output_type": "execute_result",
     "data": {
      "text/plain": "37.77071136184157"
     },
     "metadata": {},
     "execution_count": 100
    }
   ],
   "source": [
    "knndog.query(test[0:1])['distance'].mean()"
   ]
  },
  {
   "cell_type": "code",
   "execution_count": 101,
   "metadata": {},
   "outputs": [],
   "source": [
    "cattest=test[test['label']=='cat']\n",
    "dogtest=test[test['label']=='dog']\n",
    "automobiletest=test[test['label']=='automobile']\n",
    "birdtest=test[test['label']=='bird']"
   ]
  },
  {
   "cell_type": "code",
   "execution_count": 102,
   "metadata": {},
   "outputs": [
    {
     "output_type": "display_data",
     "data": {
      "text/html": "<pre>Starting blockwise querying.</pre>",
      "text/plain": "Starting blockwise querying."
     },
     "metadata": {}
    },
    {
     "output_type": "display_data",
     "data": {
      "text/html": "<pre>max rows per data block: 4348</pre>",
      "text/plain": "max rows per data block: 4348"
     },
     "metadata": {}
    },
    {
     "output_type": "display_data",
     "data": {
      "text/html": "<pre>number of reference data blocks: 8</pre>",
      "text/plain": "number of reference data blocks: 8"
     },
     "metadata": {}
    },
    {
     "output_type": "display_data",
     "data": {
      "text/html": "<pre>number of query data blocks: 1</pre>",
      "text/plain": "number of query data blocks: 1"
     },
     "metadata": {}
    },
    {
     "output_type": "display_data",
     "data": {
      "text/html": "<pre>+--------------+---------+-------------+--------------+</pre>",
      "text/plain": "+--------------+---------+-------------+--------------+"
     },
     "metadata": {}
    },
    {
     "output_type": "display_data",
     "data": {
      "text/html": "<pre>| Query points | # Pairs | % Complete. | Elapsed Time |</pre>",
      "text/plain": "| Query points | # Pairs | % Complete. | Elapsed Time |"
     },
     "metadata": {}
    },
    {
     "output_type": "display_data",
     "data": {
      "text/html": "<pre>+--------------+---------+-------------+--------------+</pre>",
      "text/plain": "+--------------+---------+-------------+--------------+"
     },
     "metadata": {}
    },
    {
     "output_type": "display_data",
     "data": {
      "text/html": "<pre>| 1000         | 63000   | 12.3772     | 581.222ms    |</pre>",
      "text/plain": "| 1000         | 63000   | 12.3772     | 581.222ms    |"
     },
     "metadata": {}
    },
    {
     "output_type": "display_data",
     "data": {
      "text/html": "<pre>| Done         | 509000  | 100         | 726.394ms    |</pre>",
      "text/plain": "| Done         | 509000  | 100         | 726.394ms    |"
     },
     "metadata": {}
    },
    {
     "output_type": "display_data",
     "data": {
      "text/html": "<pre>+--------------+---------+-------------+--------------+</pre>",
      "text/plain": "+--------------+---------+-------------+--------------+"
     },
     "metadata": {}
    },
    {
     "output_type": "execute_result",
     "data": {
      "text/html": "<div style=\"max-height:1000px;max-width:1500px;overflow:auto;\"><table frame=\"box\" rules=\"cols\">\n    <tr>\n        <th style=\"padding-left: 1em; padding-right: 1em; text-align: center\">query_label</th>\n        <th style=\"padding-left: 1em; padding-right: 1em; text-align: center\">reference_label</th>\n        <th style=\"padding-left: 1em; padding-right: 1em; text-align: center\">distance</th>\n        <th style=\"padding-left: 1em; padding-right: 1em; text-align: center\">rank</th>\n    </tr>\n    <tr>\n        <td style=\"padding-left: 1em; padding-right: 1em; text-align: center; vertical-align: top\">0</td>\n        <td style=\"padding-left: 1em; padding-right: 1em; text-align: center; vertical-align: top\">33</td>\n        <td style=\"padding-left: 1em; padding-right: 1em; text-align: center; vertical-align: top\">36.419607706754384</td>\n        <td style=\"padding-left: 1em; padding-right: 1em; text-align: center; vertical-align: top\">1</td>\n    </tr>\n    <tr>\n        <td style=\"padding-left: 1em; padding-right: 1em; text-align: center; vertical-align: top\">1</td>\n        <td style=\"padding-left: 1em; padding-right: 1em; text-align: center; vertical-align: top\">30606</td>\n        <td style=\"padding-left: 1em; padding-right: 1em; text-align: center; vertical-align: top\">38.83532688735542</td>\n        <td style=\"padding-left: 1em; padding-right: 1em; text-align: center; vertical-align: top\">1</td>\n    </tr>\n    <tr>\n        <td style=\"padding-left: 1em; padding-right: 1em; text-align: center; vertical-align: top\">2</td>\n        <td style=\"padding-left: 1em; padding-right: 1em; text-align: center; vertical-align: top\">5545</td>\n        <td style=\"padding-left: 1em; padding-right: 1em; text-align: center; vertical-align: top\">36.97634108541546</td>\n        <td style=\"padding-left: 1em; padding-right: 1em; text-align: center; vertical-align: top\">1</td>\n    </tr>\n    <tr>\n        <td style=\"padding-left: 1em; padding-right: 1em; text-align: center; vertical-align: top\">3</td>\n        <td style=\"padding-left: 1em; padding-right: 1em; text-align: center; vertical-align: top\">19631</td>\n        <td style=\"padding-left: 1em; padding-right: 1em; text-align: center; vertical-align: top\">34.575007291446106</td>\n        <td style=\"padding-left: 1em; padding-right: 1em; text-align: center; vertical-align: top\">1</td>\n    </tr>\n    <tr>\n        <td style=\"padding-left: 1em; padding-right: 1em; text-align: center; vertical-align: top\">4</td>\n        <td style=\"padding-left: 1em; padding-right: 1em; text-align: center; vertical-align: top\">7493</td>\n        <td style=\"padding-left: 1em; padding-right: 1em; text-align: center; vertical-align: top\">34.77882479101661</td>\n        <td style=\"padding-left: 1em; padding-right: 1em; text-align: center; vertical-align: top\">1</td>\n    </tr>\n    <tr>\n        <td style=\"padding-left: 1em; padding-right: 1em; text-align: center; vertical-align: top\">5</td>\n        <td style=\"padding-left: 1em; padding-right: 1em; text-align: center; vertical-align: top\">47044</td>\n        <td style=\"padding-left: 1em; padding-right: 1em; text-align: center; vertical-align: top\">35.11715782924591</td>\n        <td style=\"padding-left: 1em; padding-right: 1em; text-align: center; vertical-align: top\">1</td>\n    </tr>\n    <tr>\n        <td style=\"padding-left: 1em; padding-right: 1em; text-align: center; vertical-align: top\">6</td>\n        <td style=\"padding-left: 1em; padding-right: 1em; text-align: center; vertical-align: top\">13918</td>\n        <td style=\"padding-left: 1em; padding-right: 1em; text-align: center; vertical-align: top\">40.60958309132649</td>\n        <td style=\"padding-left: 1em; padding-right: 1em; text-align: center; vertical-align: top\">1</td>\n    </tr>\n    <tr>\n        <td style=\"padding-left: 1em; padding-right: 1em; text-align: center; vertical-align: top\">7</td>\n        <td style=\"padding-left: 1em; padding-right: 1em; text-align: center; vertical-align: top\">10981</td>\n        <td style=\"padding-left: 1em; padding-right: 1em; text-align: center; vertical-align: top\">39.90368673062214</td>\n        <td style=\"padding-left: 1em; padding-right: 1em; text-align: center; vertical-align: top\">1</td>\n    </tr>\n    <tr>\n        <td style=\"padding-left: 1em; padding-right: 1em; text-align: center; vertical-align: top\">8</td>\n        <td style=\"padding-left: 1em; padding-right: 1em; text-align: center; vertical-align: top\">45456</td>\n        <td style=\"padding-left: 1em; padding-right: 1em; text-align: center; vertical-align: top\">38.067470016821176</td>\n        <td style=\"padding-left: 1em; padding-right: 1em; text-align: center; vertical-align: top\">1</td>\n    </tr>\n    <tr>\n        <td style=\"padding-left: 1em; padding-right: 1em; text-align: center; vertical-align: top\">9</td>\n        <td style=\"padding-left: 1em; padding-right: 1em; text-align: center; vertical-align: top\">44673</td>\n        <td style=\"padding-left: 1em; padding-right: 1em; text-align: center; vertical-align: top\">42.72587329506032</td>\n        <td style=\"padding-left: 1em; padding-right: 1em; text-align: center; vertical-align: top\">1</td>\n    </tr>\n</table>\n[1000 rows x 4 columns]<br/>Note: Only the head of the SFrame is printed.<br/>You can use print_rows(num_rows=m, num_columns=n) to print more rows and columns.\n</div>",
      "text/plain": "Columns:\n\tquery_label\tint\n\treference_label\tint\n\tdistance\tfloat\n\trank\tint\n\nRows: 1000\n\nData:\n+-------------+-----------------+--------------------+------+\n| query_label | reference_label |      distance      | rank |\n+-------------+-----------------+--------------------+------+\n|      0      |        33       | 36.419607706754384 |  1   |\n|      1      |      30606      | 38.83532688735542  |  1   |\n|      2      |       5545      | 36.97634108541546  |  1   |\n|      3      |      19631      | 34.575007291446106 |  1   |\n|      4      |       7493      | 34.77882479101661  |  1   |\n|      5      |      47044      | 35.11715782924591  |  1   |\n|      6      |      13918      | 40.60958309132649  |  1   |\n|      7      |      10981      | 39.90368673062214  |  1   |\n|      8      |      45456      | 38.067470016821176 |  1   |\n|      9      |      44673      | 42.72587329506032  |  1   |\n+-------------+-----------------+--------------------+------+\n[1000 rows x 4 columns]\nNote: Only the head of the SFrame is printed.\nYou can use print_rows(num_rows=m, num_columns=n) to print more rows and columns."
     },
     "metadata": {},
     "execution_count": 102
    }
   ],
   "source": [
    "knncat.query(dogtest,k=1)"
   ]
  },
  {
   "cell_type": "code",
   "execution_count": 106,
   "metadata": {},
   "outputs": [
    {
     "output_type": "display_data",
     "data": {
      "text/html": "<pre>Starting blockwise querying.</pre>",
      "text/plain": "Starting blockwise querying."
     },
     "metadata": {}
    },
    {
     "output_type": "display_data",
     "data": {
      "text/html": "<pre>max rows per data block: 4348</pre>",
      "text/plain": "max rows per data block: 4348"
     },
     "metadata": {}
    },
    {
     "output_type": "display_data",
     "data": {
      "text/html": "<pre>number of reference data blocks: 8</pre>",
      "text/plain": "number of reference data blocks: 8"
     },
     "metadata": {}
    },
    {
     "output_type": "display_data",
     "data": {
      "text/html": "<pre>number of query data blocks: 1</pre>",
      "text/plain": "number of query data blocks: 1"
     },
     "metadata": {}
    },
    {
     "output_type": "display_data",
     "data": {
      "text/html": "<pre>+--------------+---------+-------------+--------------+</pre>",
      "text/plain": "+--------------+---------+-------------+--------------+"
     },
     "metadata": {}
    },
    {
     "output_type": "display_data",
     "data": {
      "text/html": "<pre>| Query points | # Pairs | % Complete. | Elapsed Time |</pre>",
      "text/plain": "| Query points | # Pairs | % Complete. | Elapsed Time |"
     },
     "metadata": {}
    },
    {
     "output_type": "display_data",
     "data": {
      "text/html": "<pre>+--------------+---------+-------------+--------------+</pre>",
      "text/plain": "+--------------+---------+-------------+--------------+"
     },
     "metadata": {}
    },
    {
     "output_type": "display_data",
     "data": {
      "text/html": "<pre>| 1000         | 64000   | 12.5737     | 571.216ms    |</pre>",
      "text/plain": "| 1000         | 64000   | 12.5737     | 571.216ms    |"
     },
     "metadata": {}
    },
    {
     "output_type": "display_data",
     "data": {
      "text/html": "<pre>| Done         | 509000  | 100         | 745.532ms    |</pre>",
      "text/plain": "| Done         | 509000  | 100         | 745.532ms    |"
     },
     "metadata": {}
    },
    {
     "output_type": "display_data",
     "data": {
      "text/html": "<pre>+--------------+---------+-------------+--------------+</pre>",
      "text/plain": "+--------------+---------+-------------+--------------+"
     },
     "metadata": {}
    },
    {
     "output_type": "display_data",
     "data": {
      "text/html": "<pre>Starting blockwise querying.</pre>",
      "text/plain": "Starting blockwise querying."
     },
     "metadata": {}
    },
    {
     "output_type": "display_data",
     "data": {
      "text/html": "<pre>max rows per data block: 4348</pre>",
      "text/plain": "max rows per data block: 4348"
     },
     "metadata": {}
    },
    {
     "output_type": "display_data",
     "data": {
      "text/html": "<pre>number of reference data blocks: 8</pre>",
      "text/plain": "number of reference data blocks: 8"
     },
     "metadata": {}
    },
    {
     "output_type": "display_data",
     "data": {
      "text/html": "<pre>number of query data blocks: 1</pre>",
      "text/plain": "number of query data blocks: 1"
     },
     "metadata": {}
    },
    {
     "output_type": "display_data",
     "data": {
      "text/html": "<pre>+--------------+---------+-------------+--------------+</pre>",
      "text/plain": "+--------------+---------+-------------+--------------+"
     },
     "metadata": {}
    },
    {
     "output_type": "display_data",
     "data": {
      "text/html": "<pre>| Query points | # Pairs | % Complete. | Elapsed Time |</pre>",
      "text/plain": "| Query points | # Pairs | % Complete. | Elapsed Time |"
     },
     "metadata": {}
    },
    {
     "output_type": "display_data",
     "data": {
      "text/html": "<pre>+--------------+---------+-------------+--------------+</pre>",
      "text/plain": "+--------------+---------+-------------+--------------+"
     },
     "metadata": {}
    },
    {
     "output_type": "display_data",
     "data": {
      "text/html": "<pre>| 1000         | 64000   | 12.5737     | 540.971ms    |</pre>",
      "text/plain": "| 1000         | 64000   | 12.5737     | 540.971ms    |"
     },
     "metadata": {}
    },
    {
     "output_type": "display_data",
     "data": {
      "text/html": "<pre>| Done         | 509000  | 100         | 772.951ms    |</pre>",
      "text/plain": "| Done         | 509000  | 100         | 772.951ms    |"
     },
     "metadata": {}
    },
    {
     "output_type": "display_data",
     "data": {
      "text/html": "<pre>+--------------+---------+-------------+--------------+</pre>",
      "text/plain": "+--------------+---------+-------------+--------------+"
     },
     "metadata": {}
    },
    {
     "output_type": "display_data",
     "data": {
      "text/html": "<pre>Starting blockwise querying.</pre>",
      "text/plain": "Starting blockwise querying."
     },
     "metadata": {}
    },
    {
     "output_type": "display_data",
     "data": {
      "text/html": "<pre>max rows per data block: 4348</pre>",
      "text/plain": "max rows per data block: 4348"
     },
     "metadata": {}
    },
    {
     "output_type": "display_data",
     "data": {
      "text/html": "<pre>number of reference data blocks: 8</pre>",
      "text/plain": "number of reference data blocks: 8"
     },
     "metadata": {}
    },
    {
     "output_type": "display_data",
     "data": {
      "text/html": "<pre>number of query data blocks: 1</pre>",
      "text/plain": "number of query data blocks: 1"
     },
     "metadata": {}
    },
    {
     "output_type": "display_data",
     "data": {
      "text/html": "<pre>+--------------+---------+-------------+--------------+</pre>",
      "text/plain": "+--------------+---------+-------------+--------------+"
     },
     "metadata": {}
    },
    {
     "output_type": "display_data",
     "data": {
      "text/html": "<pre>| Query points | # Pairs | % Complete. | Elapsed Time |</pre>",
      "text/plain": "| Query points | # Pairs | % Complete. | Elapsed Time |"
     },
     "metadata": {}
    },
    {
     "output_type": "display_data",
     "data": {
      "text/html": "<pre>+--------------+---------+-------------+--------------+</pre>",
      "text/plain": "+--------------+---------+-------------+--------------+"
     },
     "metadata": {}
    },
    {
     "output_type": "display_data",
     "data": {
      "text/html": "<pre>| 1000         | 59000   | 12.3431     | 600.689ms    |</pre>",
      "text/plain": "| 1000         | 59000   | 12.3431     | 600.689ms    |"
     },
     "metadata": {}
    },
    {
     "output_type": "display_data",
     "data": {
      "text/html": "<pre>| Done         | 478000  | 100         | 764.17ms     |</pre>",
      "text/plain": "| Done         | 478000  | 100         | 764.17ms     |"
     },
     "metadata": {}
    },
    {
     "output_type": "display_data",
     "data": {
      "text/html": "<pre>+--------------+---------+-------------+--------------+</pre>",
      "text/plain": "+--------------+---------+-------------+--------------+"
     },
     "metadata": {}
    },
    {
     "output_type": "display_data",
     "data": {
      "text/html": "<pre>Starting blockwise querying.</pre>",
      "text/plain": "Starting blockwise querying."
     },
     "metadata": {}
    },
    {
     "output_type": "display_data",
     "data": {
      "text/html": "<pre>max rows per data block: 4348</pre>",
      "text/plain": "max rows per data block: 4348"
     },
     "metadata": {}
    },
    {
     "output_type": "display_data",
     "data": {
      "text/html": "<pre>number of reference data blocks: 8</pre>",
      "text/plain": "number of reference data blocks: 8"
     },
     "metadata": {}
    },
    {
     "output_type": "display_data",
     "data": {
      "text/html": "<pre>number of query data blocks: 1</pre>",
      "text/plain": "number of query data blocks: 1"
     },
     "metadata": {}
    },
    {
     "output_type": "display_data",
     "data": {
      "text/html": "<pre>+--------------+---------+-------------+--------------+</pre>",
      "text/plain": "+--------------+---------+-------------+--------------+"
     },
     "metadata": {}
    },
    {
     "output_type": "display_data",
     "data": {
      "text/html": "<pre>| Query points | # Pairs | % Complete. | Elapsed Time |</pre>",
      "text/plain": "| Query points | # Pairs | % Complete. | Elapsed Time |"
     },
     "metadata": {}
    },
    {
     "output_type": "display_data",
     "data": {
      "text/html": "<pre>+--------------+---------+-------------+--------------+</pre>",
      "text/plain": "+--------------+---------+-------------+--------------+"
     },
     "metadata": {}
    },
    {
     "output_type": "display_data",
     "data": {
      "text/html": "<pre>| 1000         | 64000   | 12.5737     | 483.35ms     |</pre>",
      "text/plain": "| 1000         | 64000   | 12.5737     | 483.35ms     |"
     },
     "metadata": {}
    },
    {
     "output_type": "display_data",
     "data": {
      "text/html": "<pre>| Done         | 509000  | 100         | 728.726ms    |</pre>",
      "text/plain": "| Done         | 509000  | 100         | 728.726ms    |"
     },
     "metadata": {}
    },
    {
     "output_type": "display_data",
     "data": {
      "text/html": "<pre>+--------------+---------+-------------+--------------+</pre>",
      "text/plain": "+--------------+---------+-------------+--------------+"
     },
     "metadata": {}
    }
   ],
   "source": [
    "newtable=turicreate.SFrame({'dogcat':knncat.query(dogtest,k=1)['distance'],'dogauto':knnauto.query(dogtest,k=1)['distance'],\"dogbird\":knnbird.query(dogtest,k=1)['distance'], \"dogdog\":knndog.query(dogtest,k=1)['distance']})"
   ]
  },
  {
   "cell_type": "code",
   "execution_count": 107,
   "metadata": {},
   "outputs": [
    {
     "output_type": "execute_result",
     "data": {
      "text/html": "<div style=\"max-height:1000px;max-width:1500px;overflow:auto;\"><table frame=\"box\" rules=\"cols\">\n    <tr>\n        <th style=\"padding-left: 1em; padding-right: 1em; text-align: center\">dogauto</th>\n        <th style=\"padding-left: 1em; padding-right: 1em; text-align: center\">dogbird</th>\n        <th style=\"padding-left: 1em; padding-right: 1em; text-align: center\">dogcat</th>\n        <th style=\"padding-left: 1em; padding-right: 1em; text-align: center\">dogdog</th>\n    </tr>\n    <tr>\n        <td style=\"padding-left: 1em; padding-right: 1em; text-align: center; vertical-align: top\">41.95797614571203</td>\n        <td style=\"padding-left: 1em; padding-right: 1em; text-align: center; vertical-align: top\">41.75386473035126</td>\n        <td style=\"padding-left: 1em; padding-right: 1em; text-align: center; vertical-align: top\">36.419607706754384</td>\n        <td style=\"padding-left: 1em; padding-right: 1em; text-align: center; vertical-align: top\">33.47735903726335</td>\n    </tr>\n    <tr>\n        <td style=\"padding-left: 1em; padding-right: 1em; text-align: center; vertical-align: top\">46.00213318067788</td>\n        <td style=\"padding-left: 1em; padding-right: 1em; text-align: center; vertical-align: top\">41.3382958924861</td>\n        <td style=\"padding-left: 1em; padding-right: 1em; text-align: center; vertical-align: top\">38.83532688735542</td>\n        <td style=\"padding-left: 1em; padding-right: 1em; text-align: center; vertical-align: top\">32.84584956840554</td>\n    </tr>\n    <tr>\n        <td style=\"padding-left: 1em; padding-right: 1em; text-align: center; vertical-align: top\">42.946229069238804</td>\n        <td style=\"padding-left: 1em; padding-right: 1em; text-align: center; vertical-align: top\">38.615759085289056</td>\n        <td style=\"padding-left: 1em; padding-right: 1em; text-align: center; vertical-align: top\">36.97634108541546</td>\n        <td style=\"padding-left: 1em; padding-right: 1em; text-align: center; vertical-align: top\">35.03970731890584</td>\n    </tr>\n    <tr>\n        <td style=\"padding-left: 1em; padding-right: 1em; text-align: center; vertical-align: top\">41.68660600484793</td>\n        <td style=\"padding-left: 1em; padding-right: 1em; text-align: center; vertical-align: top\">37.08922699538214</td>\n        <td style=\"padding-left: 1em; padding-right: 1em; text-align: center; vertical-align: top\">34.575007291446106</td>\n        <td style=\"padding-left: 1em; padding-right: 1em; text-align: center; vertical-align: top\">33.90103276968193</td>\n    </tr>\n    <tr>\n        <td style=\"padding-left: 1em; padding-right: 1em; text-align: center; vertical-align: top\">39.22696649347584</td>\n        <td style=\"padding-left: 1em; padding-right: 1em; text-align: center; vertical-align: top\">38.27228869398105</td>\n        <td style=\"padding-left: 1em; padding-right: 1em; text-align: center; vertical-align: top\">34.77882479101661</td>\n        <td style=\"padding-left: 1em; padding-right: 1em; text-align: center; vertical-align: top\">37.484925090925636</td>\n    </tr>\n    <tr>\n        <td style=\"padding-left: 1em; padding-right: 1em; text-align: center; vertical-align: top\">40.58451176980721</td>\n        <td style=\"padding-left: 1em; padding-right: 1em; text-align: center; vertical-align: top\">39.146208923590486</td>\n        <td style=\"padding-left: 1em; padding-right: 1em; text-align: center; vertical-align: top\">35.11715782924591</td>\n        <td style=\"padding-left: 1em; padding-right: 1em; text-align: center; vertical-align: top\">34.94516534398124</td>\n    </tr>\n    <tr>\n        <td style=\"padding-left: 1em; padding-right: 1em; text-align: center; vertical-align: top\">45.10673529610854</td>\n        <td style=\"padding-left: 1em; padding-right: 1em; text-align: center; vertical-align: top\">40.523040105962316</td>\n        <td style=\"padding-left: 1em; padding-right: 1em; text-align: center; vertical-align: top\">40.60958309132649</td>\n        <td style=\"padding-left: 1em; padding-right: 1em; text-align: center; vertical-align: top\">39.095727834463545</td>\n    </tr>\n    <tr>\n        <td style=\"padding-left: 1em; padding-right: 1em; text-align: center; vertical-align: top\">41.32211409739762</td>\n        <td style=\"padding-left: 1em; padding-right: 1em; text-align: center; vertical-align: top\">38.19479183926956</td>\n        <td style=\"padding-left: 1em; padding-right: 1em; text-align: center; vertical-align: top\">39.90368673062214</td>\n        <td style=\"padding-left: 1em; padding-right: 1em; text-align: center; vertical-align: top\">37.76961310322034</td>\n    </tr>\n    <tr>\n        <td style=\"padding-left: 1em; padding-right: 1em; text-align: center; vertical-align: top\">41.82446549950164</td>\n        <td style=\"padding-left: 1em; padding-right: 1em; text-align: center; vertical-align: top\">40.156713166131446</td>\n        <td style=\"padding-left: 1em; padding-right: 1em; text-align: center; vertical-align: top\">38.067470016821176</td>\n        <td style=\"padding-left: 1em; padding-right: 1em; text-align: center; vertical-align: top\">35.10891446032838</td>\n    </tr>\n    <tr>\n        <td style=\"padding-left: 1em; padding-right: 1em; text-align: center; vertical-align: top\">45.497692940110376</td>\n        <td style=\"padding-left: 1em; padding-right: 1em; text-align: center; vertical-align: top\">45.55979626027668</td>\n        <td style=\"padding-left: 1em; padding-right: 1em; text-align: center; vertical-align: top\">42.72587329506032</td>\n        <td style=\"padding-left: 1em; padding-right: 1em; text-align: center; vertical-align: top\">43.242283258453455</td>\n    </tr>\n</table>\n[1000 rows x 4 columns]<br/>Note: Only the head of the SFrame is printed.<br/>You can use print_rows(num_rows=m, num_columns=n) to print more rows and columns.\n</div>",
      "text/plain": "Columns:\n\tdogauto\tfloat\n\tdogbird\tfloat\n\tdogcat\tfloat\n\tdogdog\tfloat\n\nRows: 1000\n\nData:\n+--------------------+--------------------+--------------------+\n|      dogauto       |      dogbird       |       dogcat       |\n+--------------------+--------------------+--------------------+\n| 41.95797614571203  | 41.75386473035126  | 36.419607706754384 |\n| 46.00213318067788  |  41.3382958924861  | 38.83532688735542  |\n| 42.946229069238804 | 38.615759085289056 | 36.97634108541546  |\n| 41.68660600484793  | 37.08922699538214  | 34.575007291446106 |\n| 39.22696649347584  | 38.27228869398105  | 34.77882479101661  |\n| 40.58451176980721  | 39.146208923590486 | 35.11715782924591  |\n| 45.10673529610854  | 40.523040105962316 | 40.60958309132649  |\n| 41.32211409739762  | 38.19479183926956  | 39.90368673062214  |\n| 41.82446549950164  | 40.156713166131446 | 38.067470016821176 |\n| 45.497692940110376 | 45.55979626027668  | 42.72587329506032  |\n+--------------------+--------------------+--------------------+\n+--------------------+\n|       dogdog       |\n+--------------------+\n| 33.47735903726335  |\n| 32.84584956840554  |\n| 35.03970731890584  |\n| 33.90103276968193  |\n| 37.484925090925636 |\n| 34.94516534398124  |\n| 39.095727834463545 |\n| 37.76961310322034  |\n| 35.10891446032838  |\n| 43.242283258453455 |\n+--------------------+\n[1000 rows x 4 columns]\nNote: Only the head of the SFrame is printed.\nYou can use print_rows(num_rows=m, num_columns=n) to print more rows and columns."
     },
     "metadata": {},
     "execution_count": 107
    }
   ],
   "source": [
    "newtable"
   ]
  },
  {
   "cell_type": "code",
   "execution_count": 115,
   "metadata": {},
   "outputs": [],
   "source": [
    "ans=newtable[newtable['dogdog']<newtable['dogbird']]\n",
    "\n",
    ""
   ]
  },
  {
   "cell_type": "code",
   "execution_count": 117,
   "metadata": {},
   "outputs": [],
   "source": [
    "ans=ans[ans['dogdog']<ans['dogcat']]"
   ]
  },
  {
   "cell_type": "code",
   "execution_count": 118,
   "metadata": {},
   "outputs": [],
   "source": [
    "ans=ans[ans['dogdog']<ans['dogauto']]"
   ]
  },
  {
   "cell_type": "code",
   "execution_count": 119,
   "metadata": {},
   "outputs": [
    {
     "output_type": "execute_result",
     "data": {
      "text/html": "<div style=\"max-height:1000px;max-width:1500px;overflow:auto;\"><table frame=\"box\" rules=\"cols\">\n    <tr>\n        <th style=\"padding-left: 1em; padding-right: 1em; text-align: center\">dogauto</th>\n        <th style=\"padding-left: 1em; padding-right: 1em; text-align: center\">dogbird</th>\n        <th style=\"padding-left: 1em; padding-right: 1em; text-align: center\">dogcat</th>\n        <th style=\"padding-left: 1em; padding-right: 1em; text-align: center\">dogdog</th>\n    </tr>\n    <tr>\n        <td style=\"padding-left: 1em; padding-right: 1em; text-align: center; vertical-align: top\">41.95797614571203</td>\n        <td style=\"padding-left: 1em; padding-right: 1em; text-align: center; vertical-align: top\">41.75386473035126</td>\n        <td style=\"padding-left: 1em; padding-right: 1em; text-align: center; vertical-align: top\">36.419607706754384</td>\n        <td style=\"padding-left: 1em; padding-right: 1em; text-align: center; vertical-align: top\">33.47735903726335</td>\n    </tr>\n    <tr>\n        <td style=\"padding-left: 1em; padding-right: 1em; text-align: center; vertical-align: top\">46.00213318067788</td>\n        <td style=\"padding-left: 1em; padding-right: 1em; text-align: center; vertical-align: top\">41.3382958924861</td>\n        <td style=\"padding-left: 1em; padding-right: 1em; text-align: center; vertical-align: top\">38.83532688735542</td>\n        <td style=\"padding-left: 1em; padding-right: 1em; text-align: center; vertical-align: top\">32.84584956840554</td>\n    </tr>\n    <tr>\n        <td style=\"padding-left: 1em; padding-right: 1em; text-align: center; vertical-align: top\">42.946229069238804</td>\n        <td style=\"padding-left: 1em; padding-right: 1em; text-align: center; vertical-align: top\">38.615759085289056</td>\n        <td style=\"padding-left: 1em; padding-right: 1em; text-align: center; vertical-align: top\">36.97634108541546</td>\n        <td style=\"padding-left: 1em; padding-right: 1em; text-align: center; vertical-align: top\">35.03970731890584</td>\n    </tr>\n    <tr>\n        <td style=\"padding-left: 1em; padding-right: 1em; text-align: center; vertical-align: top\">41.68660600484793</td>\n        <td style=\"padding-left: 1em; padding-right: 1em; text-align: center; vertical-align: top\">37.08922699538214</td>\n        <td style=\"padding-left: 1em; padding-right: 1em; text-align: center; vertical-align: top\">34.575007291446106</td>\n        <td style=\"padding-left: 1em; padding-right: 1em; text-align: center; vertical-align: top\">33.90103276968193</td>\n    </tr>\n    <tr>\n        <td style=\"padding-left: 1em; padding-right: 1em; text-align: center; vertical-align: top\">40.58451176980721</td>\n        <td style=\"padding-left: 1em; padding-right: 1em; text-align: center; vertical-align: top\">39.146208923590486</td>\n        <td style=\"padding-left: 1em; padding-right: 1em; text-align: center; vertical-align: top\">35.11715782924591</td>\n        <td style=\"padding-left: 1em; padding-right: 1em; text-align: center; vertical-align: top\">34.94516534398124</td>\n    </tr>\n    <tr>\n        <td style=\"padding-left: 1em; padding-right: 1em; text-align: center; vertical-align: top\">45.10673529610854</td>\n        <td style=\"padding-left: 1em; padding-right: 1em; text-align: center; vertical-align: top\">40.523040105962316</td>\n        <td style=\"padding-left: 1em; padding-right: 1em; text-align: center; vertical-align: top\">40.60958309132649</td>\n        <td style=\"padding-left: 1em; padding-right: 1em; text-align: center; vertical-align: top\">39.095727834463545</td>\n    </tr>\n    <tr>\n        <td style=\"padding-left: 1em; padding-right: 1em; text-align: center; vertical-align: top\">41.32211409739762</td>\n        <td style=\"padding-left: 1em; padding-right: 1em; text-align: center; vertical-align: top\">38.19479183926956</td>\n        <td style=\"padding-left: 1em; padding-right: 1em; text-align: center; vertical-align: top\">39.90368673062214</td>\n        <td style=\"padding-left: 1em; padding-right: 1em; text-align: center; vertical-align: top\">37.76961310322034</td>\n    </tr>\n    <tr>\n        <td style=\"padding-left: 1em; padding-right: 1em; text-align: center; vertical-align: top\">41.82446549950164</td>\n        <td style=\"padding-left: 1em; padding-right: 1em; text-align: center; vertical-align: top\">40.156713166131446</td>\n        <td style=\"padding-left: 1em; padding-right: 1em; text-align: center; vertical-align: top\">38.067470016821176</td>\n        <td style=\"padding-left: 1em; padding-right: 1em; text-align: center; vertical-align: top\">35.10891446032838</td>\n    </tr>\n    <tr>\n        <td style=\"padding-left: 1em; padding-right: 1em; text-align: center; vertical-align: top\">44.943270702656925</td>\n        <td style=\"padding-left: 1em; padding-right: 1em; text-align: center; vertical-align: top\">40.96125773991599</td>\n        <td style=\"padding-left: 1em; padding-right: 1em; text-align: center; vertical-align: top\">40.07334854106311</td>\n        <td style=\"padding-left: 1em; padding-right: 1em; text-align: center; vertical-align: top\">36.23050539743552</td>\n    </tr>\n    <tr>\n        <td style=\"padding-left: 1em; padding-right: 1em; text-align: center; vertical-align: top\">42.88640613992419</td>\n        <td style=\"padding-left: 1em; padding-right: 1em; text-align: center; vertical-align: top\">40.148114504835995</td>\n        <td style=\"padding-left: 1em; padding-right: 1em; text-align: center; vertical-align: top\">39.09035764803644</td>\n        <td style=\"padding-left: 1em; padding-right: 1em; text-align: center; vertical-align: top\">39.0045609157312</td>\n    </tr>\n</table>\n[? rows x 4 columns]<br/>Note: Only the head of the SFrame is printed. This SFrame is lazily evaluated.<br/>You can use sf.materialize() to force materialization.\n</div>",
      "text/plain": "Columns:\n\tdogauto\tfloat\n\tdogbird\tfloat\n\tdogcat\tfloat\n\tdogdog\tfloat\n\nRows: Unknown\n\nData:\n+--------------------+--------------------+--------------------+\n|      dogauto       |      dogbird       |       dogcat       |\n+--------------------+--------------------+--------------------+\n| 41.95797614571203  | 41.75386473035126  | 36.419607706754384 |\n| 46.00213318067788  |  41.3382958924861  | 38.83532688735542  |\n| 42.946229069238804 | 38.615759085289056 | 36.97634108541546  |\n| 41.68660600484793  | 37.08922699538214  | 34.575007291446106 |\n| 40.58451176980721  | 39.146208923590486 | 35.11715782924591  |\n| 45.10673529610854  | 40.523040105962316 | 40.60958309132649  |\n| 41.32211409739762  | 38.19479183926956  | 39.90368673062214  |\n| 41.82446549950164  | 40.156713166131446 | 38.067470016821176 |\n| 44.943270702656925 | 40.96125773991599  | 40.07334854106311  |\n| 42.88640613992419  | 40.148114504835995 | 39.09035764803644  |\n+--------------------+--------------------+--------------------+\n+--------------------+\n|       dogdog       |\n+--------------------+\n| 33.47735903726335  |\n| 32.84584956840554  |\n| 35.03970731890584  |\n| 33.90103276968193  |\n| 34.94516534398124  |\n| 39.095727834463545 |\n| 37.76961310322034  |\n| 35.10891446032838  |\n| 36.23050539743552  |\n|  39.0045609157312  |\n+--------------------+\n[? rows x 4 columns]\nNote: Only the head of the SFrame is printed. This SFrame is lazily evaluated.\nYou can use sf.materialize() to force materialization."
     },
     "metadata": {},
     "execution_count": 119
    }
   ],
   "source": [
    "ans"
   ]
  },
  {
   "cell_type": "code",
   "execution_count": 120,
   "metadata": {},
   "outputs": [
    {
     "output_type": "execute_result",
     "data": {
      "text/plain": "678"
     },
     "metadata": {},
     "execution_count": 120
    }
   ],
   "source": [
    "len(ans)"
   ]
  },
  {
   "cell_type": "code",
   "execution_count": 121,
   "metadata": {},
   "outputs": [
    {
     "output_type": "execute_result",
     "data": {
      "text/plain": "1000"
     },
     "metadata": {},
     "execution_count": 121
    }
   ],
   "source": [
    "len(newtable)"
   ]
  },
  {
   "cell_type": "code",
   "execution_count": null,
   "metadata": {},
   "outputs": [],
   "source": []
  }
 ]
}