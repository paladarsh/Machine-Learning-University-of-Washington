{
 "nbformat": 4,
 "nbformat_minor": 2,
 "metadata": {
  "language_info": {
   "name": "python",
   "codemirror_mode": {
    "name": "ipython",
    "version": 2
   },
   "version": "2.7.17-final"
  },
  "orig_nbformat": 2,
  "file_extension": ".py",
  "mimetype": "text/x-python",
  "name": "python",
  "npconvert_exporter": "python",
  "pygments_lexer": "ipython2",
  "version": 2,
  "kernelspec": {
   "name": "python37764bitvirtualconda69d1cf11974a42aeb8d91780d46258cc",
   "display_name": "Python 3.7.7 64-bit ('virtual': conda)"
  }
 },
 "cells": [
  {
   "cell_type": "code",
   "execution_count": 1,
   "metadata": {},
   "outputs": [],
   "source": [
    "import turicreate"
   ]
  },
  {
   "cell_type": "code",
   "execution_count": 2,
   "metadata": {},
   "outputs": [],
   "source": [
    "sf=turicreate.SFrame('song_data.sframe')"
   ]
  },
  {
   "cell_type": "code",
   "execution_count": 14,
   "metadata": {},
   "outputs": [],
   "source": [
    "kanye=sf[sf['artist']=='Kanye West']\n",
    "foo=sf[sf['artist']=='Foo Fighters']\n",
    "gaga=sf[sf['artist']=='Lady GaGa']\n",
    "swift=sf[sf['artist']=='Taylor Swift']"
   ]
  },
  {
   "cell_type": "code",
   "execution_count": 15,
   "metadata": {},
   "outputs": [
    {
     "output_type": "stream",
     "name": "stdout",
     "text": "2522\n2055\n2928\n3246\n"
    }
   ],
   "source": [
    "print(len(kanye['user_id'].unique()))\n",
    "print(len(foo['user_id'].unique()))\n",
    "print(len(gaga['user_id'].unique()))\n",
    "print(len(swift['user_id'].unique()))"
   ]
  },
  {
   "cell_type": "code",
   "execution_count": 20,
   "metadata": {},
   "outputs": [],
   "source": [
    "artistgrop=sf.groupby(key_column_names='artist',operations={\"totalcount\": turicreate.aggregate.SUM('listen_count')})"
   ]
  },
  {
   "cell_type": "code",
   "execution_count": 22,
   "metadata": {},
   "outputs": [],
   "source": [
    "artistgrop=artistgrop.sort('totalcount',ascending=False)"
   ]
  },
  {
   "cell_type": "code",
   "execution_count": 23,
   "metadata": {},
   "outputs": [
    {
     "output_type": "execute_result",
     "data": {
      "text/html": "<div style=\"max-height:1000px;max-width:1500px;overflow:auto;\"><table frame=\"box\" rules=\"cols\">\n    <tr>\n        <th style=\"padding-left: 1em; padding-right: 1em; text-align: center\">artist</th>\n        <th style=\"padding-left: 1em; padding-right: 1em; text-align: center\">totalcount</th>\n    </tr>\n    <tr>\n        <td style=\"padding-left: 1em; padding-right: 1em; text-align: center; vertical-align: top\">Kings Of Leon</td>\n        <td style=\"padding-left: 1em; padding-right: 1em; text-align: center; vertical-align: top\">43218</td>\n    </tr>\n    <tr>\n        <td style=\"padding-left: 1em; padding-right: 1em; text-align: center; vertical-align: top\">Dwight Yoakam</td>\n        <td style=\"padding-left: 1em; padding-right: 1em; text-align: center; vertical-align: top\">40619</td>\n    </tr>\n    <tr>\n        <td style=\"padding-left: 1em; padding-right: 1em; text-align: center; vertical-align: top\">Björk</td>\n        <td style=\"padding-left: 1em; padding-right: 1em; text-align: center; vertical-align: top\">38889</td>\n    </tr>\n    <tr>\n        <td style=\"padding-left: 1em; padding-right: 1em; text-align: center; vertical-align: top\">Coldplay</td>\n        <td style=\"padding-left: 1em; padding-right: 1em; text-align: center; vertical-align: top\">35362</td>\n    </tr>\n    <tr>\n        <td style=\"padding-left: 1em; padding-right: 1em; text-align: center; vertical-align: top\">Florence + The Machine</td>\n        <td style=\"padding-left: 1em; padding-right: 1em; text-align: center; vertical-align: top\">33387</td>\n    </tr>\n    <tr>\n        <td style=\"padding-left: 1em; padding-right: 1em; text-align: center; vertical-align: top\">Justin Bieber</td>\n        <td style=\"padding-left: 1em; padding-right: 1em; text-align: center; vertical-align: top\">29715</td>\n    </tr>\n    <tr>\n        <td style=\"padding-left: 1em; padding-right: 1em; text-align: center; vertical-align: top\">Alliance Ethnik</td>\n        <td style=\"padding-left: 1em; padding-right: 1em; text-align: center; vertical-align: top\">26689</td>\n    </tr>\n    <tr>\n        <td style=\"padding-left: 1em; padding-right: 1em; text-align: center; vertical-align: top\">OneRepublic</td>\n        <td style=\"padding-left: 1em; padding-right: 1em; text-align: center; vertical-align: top\">25754</td>\n    </tr>\n    <tr>\n        <td style=\"padding-left: 1em; padding-right: 1em; text-align: center; vertical-align: top\">Train</td>\n        <td style=\"padding-left: 1em; padding-right: 1em; text-align: center; vertical-align: top\">25402</td>\n    </tr>\n    <tr>\n        <td style=\"padding-left: 1em; padding-right: 1em; text-align: center; vertical-align: top\">The Black Keys</td>\n        <td style=\"padding-left: 1em; padding-right: 1em; text-align: center; vertical-align: top\">22184</td>\n    </tr>\n</table>\n[3375 rows x 2 columns]<br/>Note: Only the head of the SFrame is printed.<br/>You can use print_rows(num_rows=m, num_columns=n) to print more rows and columns.\n</div>",
      "text/plain": "Columns:\n\tartist\tstr\n\ttotalcount\tint\n\nRows: 3375\n\nData:\n+------------------------+------------+\n|         artist         | totalcount |\n+------------------------+------------+\n|     Kings Of Leon      |   43218    |\n|     Dwight Yoakam      |   40619    |\n|         Björk          |   38889    |\n|        Coldplay        |   35362    |\n| Florence + The Machine |   33387    |\n|     Justin Bieber      |   29715    |\n|    Alliance Ethnik     |   26689    |\n|      OneRepublic       |   25754    |\n|         Train          |   25402    |\n|     The Black Keys     |   22184    |\n+------------------------+------------+\n[3375 rows x 2 columns]\nNote: Only the head of the SFrame is printed.\nYou can use print_rows(num_rows=m, num_columns=n) to print more rows and columns."
     },
     "metadata": {},
     "execution_count": 23
    }
   ],
   "source": [
    "artistgrop"
   ]
  },
  {
   "cell_type": "code",
   "execution_count": 29,
   "metadata": {},
   "outputs": [
    {
     "output_type": "stream",
     "name": "stdout",
     "text": "+-------------------------------+------------+\n|             artist            | totalcount |\n+-------------------------------+------------+\n|        Aneta Langerova        |     38     |\n|          Jody Bernal          |     38     |\n| Kanye West / Talib Kweli /... |     38     |\n|             Nâdiya            |     36     |\n|         harvey summers        |     31     |\n|             Diplo             |     30     |\n|         Boggle Karaoke        |     30     |\n| Beyoncé feat. Bun B and Sl... |     26     |\n|         Reel Feelings         |     24     |\n|        William Tabbert        |     14     |\n+-------------------------------+------------+\n[10 rows x 2 columns]\n\n"
    }
   ],
   "source": [
    "artistgrop.tail().print_rows(num_rows=12)"
   ]
  },
  {
   "cell_type": "code",
   "execution_count": 30,
   "metadata": {},
   "outputs": [],
   "source": [
    "train,test=sf.random_split(0.8,seed=0)"
   ]
  },
  {
   "cell_type": "code",
   "execution_count": 32,
   "metadata": {},
   "outputs": [
    {
     "output_type": "display_data",
     "data": {
      "text/html": "<pre>Warning: Ignoring columns song_id, listen_count, title, artist;</pre>",
      "text/plain": "Warning: Ignoring columns song_id, listen_count, title, artist;"
     },
     "metadata": {}
    },
    {
     "output_type": "display_data",
     "data": {
      "text/html": "<pre> To use one of these as a rating column, specify the column name to be used as target</pre>",
      "text/plain": " To use one of these as a rating column, specify the column name to be used as target"
     },
     "metadata": {}
    },
    {
     "output_type": "display_data",
     "data": {
      "text/html": "<pre>    and use a method that allows the use of a target.</pre>",
      "text/plain": "    and use a method that allows the use of a target."
     },
     "metadata": {}
    },
    {
     "output_type": "display_data",
     "data": {
      "text/html": "<pre>Preparing data set.</pre>",
      "text/plain": "Preparing data set."
     },
     "metadata": {}
    },
    {
     "output_type": "display_data",
     "data": {
      "text/html": "<pre>    Data has 893580 observations with 66085 users and 9952 items.</pre>",
      "text/plain": "    Data has 893580 observations with 66085 users and 9952 items."
     },
     "metadata": {}
    },
    {
     "output_type": "display_data",
     "data": {
      "text/html": "<pre>    Data prepared in: 0.966653s</pre>",
      "text/plain": "    Data prepared in: 0.966653s"
     },
     "metadata": {}
    },
    {
     "output_type": "display_data",
     "data": {
      "text/html": "<pre>Training model from provided data.</pre>",
      "text/plain": "Training model from provided data."
     },
     "metadata": {}
    },
    {
     "output_type": "display_data",
     "data": {
      "text/html": "<pre>Gathering per-item and per-user statistics.</pre>",
      "text/plain": "Gathering per-item and per-user statistics."
     },
     "metadata": {}
    },
    {
     "output_type": "display_data",
     "data": {
      "text/html": "<pre>+--------------------------------+------------+</pre>",
      "text/plain": "+--------------------------------+------------+"
     },
     "metadata": {}
    },
    {
     "output_type": "display_data",
     "data": {
      "text/html": "<pre>| Elapsed Time (Item Statistics) | % Complete |</pre>",
      "text/plain": "| Elapsed Time (Item Statistics) | % Complete |"
     },
     "metadata": {}
    },
    {
     "output_type": "display_data",
     "data": {
      "text/html": "<pre>+--------------------------------+------------+</pre>",
      "text/plain": "+--------------------------------+------------+"
     },
     "metadata": {}
    },
    {
     "output_type": "display_data",
     "data": {
      "text/html": "<pre>| 3.859ms                        | 1.5        |</pre>",
      "text/plain": "| 3.859ms                        | 1.5        |"
     },
     "metadata": {}
    },
    {
     "output_type": "display_data",
     "data": {
      "text/html": "<pre>| 56.845ms                       | 100        |</pre>",
      "text/plain": "| 56.845ms                       | 100        |"
     },
     "metadata": {}
    },
    {
     "output_type": "display_data",
     "data": {
      "text/html": "<pre>+--------------------------------+------------+</pre>",
      "text/plain": "+--------------------------------+------------+"
     },
     "metadata": {}
    },
    {
     "output_type": "display_data",
     "data": {
      "text/html": "<pre>Setting up lookup tables.</pre>",
      "text/plain": "Setting up lookup tables."
     },
     "metadata": {}
    },
    {
     "output_type": "display_data",
     "data": {
      "text/html": "<pre>Processing data in one pass using dense lookup tables.</pre>",
      "text/plain": "Processing data in one pass using dense lookup tables."
     },
     "metadata": {}
    },
    {
     "output_type": "display_data",
     "data": {
      "text/html": "<pre>+-------------------------------------+------------------+-----------------+</pre>",
      "text/plain": "+-------------------------------------+------------------+-----------------+"
     },
     "metadata": {}
    },
    {
     "output_type": "display_data",
     "data": {
      "text/html": "<pre>| Elapsed Time (Constructing Lookups) | Total % Complete | Items Processed |</pre>",
      "text/plain": "| Elapsed Time (Constructing Lookups) | Total % Complete | Items Processed |"
     },
     "metadata": {}
    },
    {
     "output_type": "display_data",
     "data": {
      "text/html": "<pre>+-------------------------------------+------------------+-----------------+</pre>",
      "text/plain": "+-------------------------------------+------------------+-----------------+"
     },
     "metadata": {}
    },
    {
     "output_type": "display_data",
     "data": {
      "text/html": "<pre>| 369.057ms                           | 0                | 0               |</pre>",
      "text/plain": "| 369.057ms                           | 0                | 0               |"
     },
     "metadata": {}
    },
    {
     "output_type": "display_data",
     "data": {
      "text/html": "<pre>| 1.45s                               | 100              | 9952            |</pre>",
      "text/plain": "| 1.45s                               | 100              | 9952            |"
     },
     "metadata": {}
    },
    {
     "output_type": "display_data",
     "data": {
      "text/html": "<pre>+-------------------------------------+------------------+-----------------+</pre>",
      "text/plain": "+-------------------------------------+------------------+-----------------+"
     },
     "metadata": {}
    },
    {
     "output_type": "display_data",
     "data": {
      "text/html": "<pre>Finalizing lookup tables.</pre>",
      "text/plain": "Finalizing lookup tables."
     },
     "metadata": {}
    },
    {
     "output_type": "display_data",
     "data": {
      "text/html": "<pre>Generating candidate set for working with new users.</pre>",
      "text/plain": "Generating candidate set for working with new users."
     },
     "metadata": {}
    },
    {
     "output_type": "display_data",
     "data": {
      "text/html": "<pre>Finished training in 2.53222s</pre>",
      "text/plain": "Finished training in 2.53222s"
     },
     "metadata": {}
    }
   ],
   "source": [
    "persmodel=turicreate.item_similarity_recommender.create(train,item_id='song',user_id='user_id')"
   ]
  },
  {
   "cell_type": "code",
   "execution_count": 33,
   "metadata": {},
   "outputs": [],
   "source": [
    "firstthousand=sf['user_id'].unique()[:1000]"
   ]
  },
  {
   "cell_type": "code",
   "execution_count": 36,
   "metadata": {},
   "outputs": [
    {
     "output_type": "display_data",
     "data": {
      "text/html": "<pre>recommendations finished on 1000/1000 queries. users per second: 15185.1</pre>",
      "text/plain": "recommendations finished on 1000/1000 queries. users per second: 15185.1"
     },
     "metadata": {}
    }
   ],
   "source": [
    "recommended=persmodel.recommend(firstthousand,k=1)"
   ]
  },
  {
   "cell_type": "code",
   "execution_count": 39,
   "metadata": {},
   "outputs": [],
   "source": [
    "recgrp=recommended.groupby(key_column_names='song',operations={'count':turicreate.aggregate.COUNT()}).sort('count',ascending=False)"
   ]
  },
  {
   "cell_type": "code",
   "execution_count": 40,
   "metadata": {},
   "outputs": [
    {
     "output_type": "execute_result",
     "data": {
      "text/html": "<div style=\"max-height:1000px;max-width:1500px;overflow:auto;\"><table frame=\"box\" rules=\"cols\">\n    <tr>\n        <th style=\"padding-left: 1em; padding-right: 1em; text-align: center\">song</th>\n        <th style=\"padding-left: 1em; padding-right: 1em; text-align: center\">count</th>\n    </tr>\n    <tr>\n        <td style=\"padding-left: 1em; padding-right: 1em; text-align: center; vertical-align: top\">Undo - Björk</td>\n        <td style=\"padding-left: 1em; padding-right: 1em; text-align: center; vertical-align: top\">40</td>\n    </tr>\n    <tr>\n        <td style=\"padding-left: 1em; padding-right: 1em; text-align: center; vertical-align: top\">Secrets - OneRepublic</td>\n        <td style=\"padding-left: 1em; padding-right: 1em; text-align: center; vertical-align: top\">34</td>\n    </tr>\n    <tr>\n        <td style=\"padding-left: 1em; padding-right: 1em; text-align: center; vertical-align: top\">Revelry - Kings Of Leon</td>\n        <td style=\"padding-left: 1em; padding-right: 1em; text-align: center; vertical-align: top\">28</td>\n    </tr>\n    <tr>\n        <td style=\"padding-left: 1em; padding-right: 1em; text-align: center; vertical-align: top\">You&#x27;re The One - Dwight<br>Yoakam ...</td>\n        <td style=\"padding-left: 1em; padding-right: 1em; text-align: center; vertical-align: top\">18</td>\n    </tr>\n    <tr>\n        <td style=\"padding-left: 1em; padding-right: 1em; text-align: center; vertical-align: top\">Fireflies - Charttraxx<br>Karaoke ...</td>\n        <td style=\"padding-left: 1em; padding-right: 1em; text-align: center; vertical-align: top\">9</td>\n    </tr>\n    <tr>\n        <td style=\"padding-left: 1em; padding-right: 1em; text-align: center; vertical-align: top\">Horn Concerto No. 4 in E<br>flat K495: II. Romance ...</td>\n        <td style=\"padding-left: 1em; padding-right: 1em; text-align: center; vertical-align: top\">9</td>\n    </tr>\n    <tr>\n        <td style=\"padding-left: 1em; padding-right: 1em; text-align: center; vertical-align: top\">Sehr kosmisch - Harmonia</td>\n        <td style=\"padding-left: 1em; padding-right: 1em; text-align: center; vertical-align: top\">8</td>\n    </tr>\n    <tr>\n        <td style=\"padding-left: 1em; padding-right: 1em; text-align: center; vertical-align: top\">OMG - Usher featuring<br>will.i.am ...</td>\n        <td style=\"padding-left: 1em; padding-right: 1em; text-align: center; vertical-align: top\">7</td>\n    </tr>\n    <tr>\n        <td style=\"padding-left: 1em; padding-right: 1em; text-align: center; vertical-align: top\">Hey_ Soul Sister - Train</td>\n        <td style=\"padding-left: 1em; padding-right: 1em; text-align: center; vertical-align: top\">6</td>\n    </tr>\n    <tr>\n        <td style=\"padding-left: 1em; padding-right: 1em; text-align: center; vertical-align: top\">Bigger - Justin Bieber</td>\n        <td style=\"padding-left: 1em; padding-right: 1em; text-align: center; vertical-align: top\">6</td>\n    </tr>\n</table>\n[695 rows x 2 columns]<br/>Note: Only the head of the SFrame is printed.<br/>You can use print_rows(num_rows=m, num_columns=n) to print more rows and columns.\n</div>",
      "text/plain": "Columns:\n\tsong\tstr\n\tcount\tint\n\nRows: 695\n\nData:\n+--------------------------------+-------+\n|              song              | count |\n+--------------------------------+-------+\n|          Undo - Björk          |   40  |\n|     Secrets - OneRepublic      |   34  |\n|    Revelry - Kings Of Leon     |   28  |\n| You're The One - Dwight Yoakam |   18  |\n| Fireflies - Charttraxx Karaoke |   9   |\n| Horn Concerto No. 4 in E f...  |   9   |\n|    Sehr kosmisch - Harmonia    |   8   |\n| OMG - Usher featuring will...  |   7   |\n|    Hey_ Soul Sister - Train    |   6   |\n|     Bigger - Justin Bieber     |   6   |\n+--------------------------------+-------+\n[695 rows x 2 columns]\nNote: Only the head of the SFrame is printed.\nYou can use print_rows(num_rows=m, num_columns=n) to print more rows and columns."
     },
     "metadata": {},
     "execution_count": 40
    }
   ],
   "source": [
    "recgrp"
   ]
  },
  {
   "cell_type": "code",
   "execution_count": null,
   "metadata": {},
   "outputs": [],
   "source": []
  }
 ]
}